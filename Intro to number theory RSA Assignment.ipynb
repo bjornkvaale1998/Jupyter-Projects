{
 "cells": [
  {
   "cell_type": "markdown",
   "id": "1aba1853",
   "metadata": {},
   "source": [
    "# RSA Decryption with Pollard's Rho and Extended Euclidean Algorithm\n",
    "\n",
    "This notebook demonstrates the process of decrypting an RSA-encrypted message by factoring the modulus using Pollard's Rho algorithm, computing the private key with the Extended Euclidean Algorithm, and finally decoding the message. The steps include:\n",
    "\n",
    "- Factoring the RSA modulus `n` to find its prime factors `p` and `q`\n",
    "- Calculating Euler's Totient function\n",
    "- Finding the modular multiplicative inverse to obtain the private key `d`\n",
    "- Decrypting the ciphertext using modular exponentiation\n",
    "- Decoding the resulting integer message into a readable string\n",
    "\n",
    "References are provided for the algorithms used."
   ]
  },
  {
   "cell_type": "code",
   "execution_count": 1,
   "id": "7557bcee",
   "metadata": {},
   "outputs": [],
   "source": [
    "import math \n",
    "import random"
   ]
  },
  {
   "cell_type": "code",
   "execution_count": 2,
   "id": "07d8ec00",
   "metadata": {},
   "outputs": [],
   "source": [
    "n= 20003076862774616099781351391\n",
    "e=32735\n",
    "encrypted= 5899600144943369394245401313"
   ]
  },
  {
   "cell_type": "code",
   "execution_count": 3,
   "id": "3dae57d2",
   "metadata": {},
   "outputs": [],
   "source": [
    "# received assistance with code from https://www.geeksforgeeks.org/pollards-rho-algorithm-prime-factorization/ for Pollard Rho\n",
    "def modular_pow(base, exponent, modulus):\n",
    " \n",
    "    result = 1\n",
    " \n",
    "    while (exponent > 0): \n",
    "        if (exponent & 1):\n",
    "            result = (result * base) % modulus\n",
    "        exponent = exponent >> 1\n",
    "        base = (base * base) % modulus\n",
    "    return result\n",
    " \n",
    "# method to return prime divisor for n\n",
    "def PollardRho(n):\n",
    " \n",
    "    # no prime divisor for 1\n",
    "    if (n == 1):\n",
    "        return n\n",
    " \n",
    "    # even number means one of the divisors is 2\n",
    "    if (n % 2 == 0):\n",
    "        return 2\n",
    " \n",
    "    # we will pick from the range [2, N)\n",
    "    x = (random.randint(0, 2) % (n - 2))\n",
    "    y = x\n",
    " \n",
    "    # the constant in f(x).\n",
    "    # Algorithm can be re-run with a different c\n",
    "    # if it throws failure for a composite.\n",
    "    c = (random.randint(0, 1) % (n - 1))\n",
    " \n",
    "    # Initialize candidate divisor (or result)\n",
    "    d = 1\n",
    " \n",
    "    # until the prime factor isn't obtained.\n",
    "    # If n is prime, return n\n",
    "    while (d == 1):\n",
    "     \n",
    "        # Tortoise Move: x(i+1) = f(x(i))\n",
    "        x = (modular_pow(x, 2, n) + c + n)%n\n",
    " \n",
    "        # Hare Move: y(i+1) = f(f(y(i)))\n",
    "        y = (modular_pow(y, 2, n) + c + n)%n\n",
    "        y = (modular_pow(y, 2, n) + c + n)%n\n",
    " \n",
    "        # check gcd of |x-y| and n\n",
    "        d = math.gcd(abs(x - y), n)\n",
    " \n",
    "        # retry if the algorithm fails to find prime factor\n",
    "        # with chosen x and c\n",
    "        if (d == n):\n",
    "            return PollardRho(n)\n",
    "     \n",
    "    return d"
   ]
  },
  {
   "cell_type": "code",
   "execution_count": 5,
   "id": "aa0db4ed",
   "metadata": {},
   "outputs": [
    {
     "ename": "KeyboardInterrupt",
     "evalue": "",
     "output_type": "error",
     "traceback": [
      "\u001b[1;31m---------------------------------------------------------------------------\u001b[0m",
      "\u001b[1;31mKeyboardInterrupt\u001b[0m                         Traceback (most recent call last)",
      "\u001b[1;32m<ipython-input-5-a5c8f1566475>\u001b[0m in \u001b[0;36m<module>\u001b[1;34m\u001b[0m\n\u001b[1;32m----> 1\u001b[1;33m \u001b[0mPollardRho\u001b[0m\u001b[1;33m(\u001b[0m\u001b[0mn\u001b[0m\u001b[1;33m)\u001b[0m\u001b[1;33m\u001b[0m\u001b[1;33m\u001b[0m\u001b[0m\n\u001b[0m",
      "\u001b[1;32m<ipython-input-3-2c165aed4c12>\u001b[0m in \u001b[0;36mPollardRho\u001b[1;34m(n)\u001b[0m\n\u001b[0;32m     51\u001b[0m         \u001b[1;31m# with chosen x and c\u001b[0m\u001b[1;33m\u001b[0m\u001b[1;33m\u001b[0m\u001b[1;33m\u001b[0m\u001b[0m\n\u001b[0;32m     52\u001b[0m         \u001b[1;32mif\u001b[0m \u001b[1;33m(\u001b[0m\u001b[0md\u001b[0m \u001b[1;33m==\u001b[0m \u001b[0mn\u001b[0m\u001b[1;33m)\u001b[0m\u001b[1;33m:\u001b[0m\u001b[1;33m\u001b[0m\u001b[1;33m\u001b[0m\u001b[0m\n\u001b[1;32m---> 53\u001b[1;33m             \u001b[1;32mreturn\u001b[0m \u001b[0mPollardRho\u001b[0m\u001b[1;33m(\u001b[0m\u001b[0mn\u001b[0m\u001b[1;33m)\u001b[0m\u001b[1;33m\u001b[0m\u001b[1;33m\u001b[0m\u001b[0m\n\u001b[0m\u001b[0;32m     54\u001b[0m \u001b[1;33m\u001b[0m\u001b[0m\n\u001b[0;32m     55\u001b[0m     \u001b[1;32mreturn\u001b[0m \u001b[0md\u001b[0m\u001b[1;33m\u001b[0m\u001b[1;33m\u001b[0m\u001b[0m\n",
      "\u001b[1;32m<ipython-input-3-2c165aed4c12>\u001b[0m in \u001b[0;36mPollardRho\u001b[1;34m(n)\u001b[0m\n\u001b[0;32m     39\u001b[0m \u001b[1;33m\u001b[0m\u001b[0m\n\u001b[0;32m     40\u001b[0m         \u001b[1;31m# Tortoise Move: x(i+1) = f(x(i))\u001b[0m\u001b[1;33m\u001b[0m\u001b[1;33m\u001b[0m\u001b[1;33m\u001b[0m\u001b[0m\n\u001b[1;32m---> 41\u001b[1;33m         \u001b[0mx\u001b[0m \u001b[1;33m=\u001b[0m \u001b[1;33m(\u001b[0m\u001b[0mmodular_pow\u001b[0m\u001b[1;33m(\u001b[0m\u001b[0mx\u001b[0m\u001b[1;33m,\u001b[0m \u001b[1;36m2\u001b[0m\u001b[1;33m,\u001b[0m \u001b[0mn\u001b[0m\u001b[1;33m)\u001b[0m \u001b[1;33m+\u001b[0m \u001b[0mc\u001b[0m \u001b[1;33m+\u001b[0m \u001b[0mn\u001b[0m\u001b[1;33m)\u001b[0m\u001b[1;33m%\u001b[0m\u001b[0mn\u001b[0m\u001b[1;33m\u001b[0m\u001b[1;33m\u001b[0m\u001b[0m\n\u001b[0m\u001b[0;32m     42\u001b[0m \u001b[1;33m\u001b[0m\u001b[0m\n\u001b[0;32m     43\u001b[0m         \u001b[1;31m# Hare Move: y(i+1) = f(f(y(i)))\u001b[0m\u001b[1;33m\u001b[0m\u001b[1;33m\u001b[0m\u001b[1;33m\u001b[0m\u001b[0m\n",
      "\u001b[1;31mKeyboardInterrupt\u001b[0m: "
     ]
    }
   ],
   "source": [
    "PollardRho(n)"
   ]
  },
  {
   "cell_type": "code",
   "execution_count": 6,
   "id": "96c3d500",
   "metadata": {},
   "outputs": [
    {
     "name": "stdout",
     "output_type": "stream",
     "text": [
      "46898124212567\n",
      "426521896102073\n",
      "True\n"
     ]
    }
   ],
   "source": [
    "p=46898124212567\n",
    "q= int(n/46898124212567)\n",
    "print(p)\n",
    "print(q)\n",
    "print(p*q==n)"
   ]
  },
  {
   "cell_type": "code",
   "execution_count": 7,
   "id": "61514428",
   "metadata": {},
   "outputs": [
    {
     "name": "stdout",
     "output_type": "stream",
     "text": [
      "20003076862774142679761036752\n"
     ]
    }
   ],
   "source": [
    "Totient= int((p-1)*(q-1))\n",
    "print(Totient)"
   ]
  },
  {
   "cell_type": "code",
   "execution_count": 8,
   "id": "73567e42",
   "metadata": {},
   "outputs": [],
   "source": [
    "# assistance from https://www.geeksforgeeks.org/python-program-for-basic-and-extended-euclidean-algorithms-2/\n",
    "def gcdExtended(a, b): \n",
    "    # Base Case \n",
    "    if a == 0 :  \n",
    "        return b,0,1\n",
    "             \n",
    "    gcd,x1,y1 = gcdExtended(b%a, a) \n",
    "     \n",
    "    # Update x and y using results of recursive \n",
    "    # call \n",
    "    x = y1 - (b//a) * x1 \n",
    "    y = x1  \n",
    "    return gcd,x,y\n",
    "\n",
    "def modMultInverse(a,m):\n",
    "    gcd, mFac, inverse = gcdExtended(m,a)\n",
    "    return int(mFac), int(inverse)"
   ]
  },
  {
   "cell_type": "code",
   "execution_count": 9,
   "id": "3ebd96da",
   "metadata": {},
   "outputs": [
    {
     "name": "stdout",
     "output_type": "stream",
     "text": [
      "9506273613996558352498623759\n"
     ]
    }
   ],
   "source": [
    "mfac,d = modMultInverse(e,Totient)\n",
    "print(d)"
   ]
  },
  {
   "cell_type": "code",
   "execution_count": 10,
   "id": "77a564a1",
   "metadata": {},
   "outputs": [
    {
     "name": "stdout",
     "output_type": "stream",
     "text": [
      "1715243028191619131130192524\n"
     ]
    }
   ],
   "source": [
    "message = str(modular_pow(encrypted,d,n))\n",
    "print(message)"
   ]
  },
  {
   "cell_type": "code",
   "execution_count": 11,
   "id": "319fbaeb",
   "metadata": {},
   "outputs": [
    {
     "data": {
      "text/plain": [
       "28"
      ]
     },
     "execution_count": 11,
     "metadata": {},
     "output_type": "execute_result"
    }
   ],
   "source": [
    "len(message)"
   ]
  },
  {
   "cell_type": "code",
   "execution_count": 12,
   "id": "5bcbda07",
   "metadata": {},
   "outputs": [],
   "source": [
    "def letters(m):\n",
    "    letterSet=[]\n",
    "    i=0\n",
    "    while i < len(m):\n",
    "        j=i+2\n",
    "        letterSet.append(m[i:j])\n",
    "        i+=2\n",
    "    return letterSet"
   ]
  },
  {
   "cell_type": "code",
   "execution_count": 13,
   "id": "0203afa9",
   "metadata": {},
   "outputs": [],
   "source": [
    "x=letters(message)\n",
    "dic= [\"a\",\"b\",\"c\",\"d\",\"e\",\"f\",\"g\",\"h\",\"i\",\"j\",\"k\",\"l\",\"m\",\"n\",\"o\",\"p\",\"q\",\"r\",\"s\",\"t\",\"u\",\"v\",\"w\",\"x\",\"y\",\"z\"]"
   ]
  },
  {
   "cell_type": "code",
   "execution_count": 14,
   "id": "03079da0",
   "metadata": {},
   "outputs": [
    {
     "name": "stdout",
     "output_type": "stream",
     "text": [
      "gentrification\n"
     ]
    }
   ],
   "source": [
    "Letters=[]\n",
    "for i in range(len(x)):\n",
    "    index = int(x[i])-11\n",
    "    letter = dic[index]\n",
    "    Letters.append(letter)\n",
    "string = \"\"\n",
    "for i in range(len(Letters)):\n",
    "    string = string+Letters[i]\n",
    "print(string)"
   ]
  },
  {
   "cell_type": "markdown",
   "id": "0e2d663c",
   "metadata": {},
   "source": [
    "First we used the pollard rho algorithm function which i found online to find p and q used to compute n=p*q. Then we caluclated the totient of n. Then we used an extended euclidean algorithm function found online to find the modular multiplicative inverse, d, of e and the Totient. Then using the modular power function we calculated the encrypted message^d mod n. This gave us the message as an integer. I then converted this to a string, spliced the message into the 14 letters and then made a dictionary for all the letters. I then took the integer in base 10 value of all the letters, subtracted 11 and corresponded that with the index in the dictionary to get the string \"gentrification\".\n",
    "Links:\n",
    "https://www.geeksforgeeks.org/pollards-rho-algorithm-prime-factorization/ \n",
    "\n",
    "https://www.geeksforgeeks.org/python-program-for-basic-and-extended-euclidean-algorithms-2/\n"
   ]
  }
 ],
 "metadata": {
  "kernelspec": {
   "display_name": "Python 3",
   "language": "python",
   "name": "python3"
  },
  "language_info": {
   "codemirror_mode": {
    "name": "ipython",
    "version": 3
   },
   "file_extension": ".py",
   "mimetype": "text/x-python",
   "name": "python",
   "nbconvert_exporter": "python",
   "pygments_lexer": "ipython3",
   "version": "3.8.8"
  }
 },
 "nbformat": 4,
 "nbformat_minor": 5
}

{
 "cells": [
  {
   "cell_type": "markdown",
   "id": "dd05364d",
   "metadata": {},
   "source": [
    "# Credit Derivatives Analysis\n",
    "\n",
    "This notebook explores the calculation and interpretation of hazard rates, credit spreads, and default probabilities in the context of credit derivatives. It includes step-by-step explanations, visualizations, and numerical examples to illustrate the relationships between recovery rates, spreads, and hazard rates. The analysis leverages both analytical approximations and bootstrapping techniques to derive key credit risk metrics and visualize their behavior over different maturities.\n"
   ]
  },
  {
   "cell_type": "markdown",
   "id": "ef9307e9",
   "metadata": {},
   "source": [
    "## Problem 1\n",
    "We can see from the picture below that a hazard rate of 1.61% makes the two legs equal for a spread of 100 BPS. We also see that dropping the recovery rate to 20% would give a hazard rate of 1.215% Thus is close to the approximations, 1.667% and 1.25%."
   ]
  },
  {
   "cell_type": "markdown",
   "id": "bffcbd37",
   "metadata": {},
   "source": [
    "<img src=\"FE 680 HW 4 Prob 1.png\" alt ='See Excel Sheet'/>"
   ]
  },
  {
   "cell_type": "markdown",
   "id": "7c48dabd",
   "metadata": {},
   "source": [
    "## Problem 2\n",
    "\n",
    "We see that a 100.8 bps makes the payoff equal. With a fixed payoff of 1 the spread of 126 bps makes the expected payment and expected payoff legs equal."
   ]
  },
  {
   "cell_type": "markdown",
   "id": "d25c3ebf",
   "metadata": {},
   "source": [
    "<img src=\"FE 680 HW 4 Prob 2.png\" alt ='See Excel Sheet'/>"
   ]
  },
  {
   "cell_type": "markdown",
   "id": "1e2b5b17",
   "metadata": {},
   "source": [
    "# Problem 3\n",
    "\n",
    "From the bootstrapping we get hazard rates of .6683%, .8119%, .9492%, 1.1421%, 1.3735%, 1.5576%, 1.9862%, 2.2861% for t=.5, 1, 2, 3, 4, 5, 7, and 10 respectively. This is very close to the approximations from the spread/(1-R). We solved for these hazard rates by checking that the premium and payoff leg had the same expected value payoff. Below we see the hazard rate curve and the cumulative default probability curve."
   ]
  },
  {
   "cell_type": "markdown",
   "id": "8bad69c5",
   "metadata": {},
   "source": [
    "<img src=\"FE 680 HW 4 Prob 3.png\" alt ='See Excel Sheet'/>"
   ]
  },
  {
   "cell_type": "markdown",
   "id": "7be9eb3e",
   "metadata": {},
   "source": [
    "<img src=\"FE 680 HW 4 Prob 3-1.png\" alt ='See Excel Sheet'/>"
   ]
  },
  {
   "cell_type": "code",
   "execution_count": null,
   "id": "2f684880",
   "metadata": {},
   "outputs": [],
   "source": []
  }
 ],
 "metadata": {
  "kernelspec": {
   "display_name": "Python 3 (ipykernel)",
   "language": "python",
   "name": "python3"
  },
  "language_info": {
   "codemirror_mode": {
    "name": "ipython",
    "version": 3
   },
   "file_extension": ".py",
   "mimetype": "text/x-python",
   "name": "python",
   "nbconvert_exporter": "python",
   "pygments_lexer": "ipython3",
   "version": "3.11.4"
  }
 },
 "nbformat": 4,
 "nbformat_minor": 5
}

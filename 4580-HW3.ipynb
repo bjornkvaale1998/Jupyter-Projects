{
 "cells": [
  {
   "cell_type": "markdown",
   "metadata": {},
   "source": [
    "# Homework #3: Simulation and Probability Distributions\n",
    "\n",
    "Cassidy Cao (cjc379), Bjorn Kvaale (bek67)\n",
    "\n",
    "This notebook contains solutions for ORIE 4580 Homework #3. The problems focus on simulation techniques, probability distributions, and statistical analysis. The workflow includes:\n",
    "\n",
    "- Implementing and analyzing Monte Carlo simulations for cost estimation.\n",
    "- Using inverse transform and acceptance-rejection methods to generate random variables from custom distributions.\n",
    "- Visualizing results with histograms and overlaying theoretical probability density functions.\n",
    "- Calculating confidence intervals to assess simulation accuracy.\n",
    "\n",
    "Each section is clearly labeled and includes code, results, and explanations to support the analysis."
   ]
  },
  {
   "cell_type": "markdown",
   "metadata": {},
   "source": [
    "**Import packages:**"
   ]
  },
  {
   "cell_type": "code",
   "execution_count": 1,
   "metadata": {},
   "outputs": [],
   "source": [
    "import numpy as np\n",
    "import scipy as sc\n",
    "import pandas as pd\n",
    "\n",
    "import matplotlib.pyplot as plt\n",
    "%matplotlib inline\n",
    "\n",
    "import seaborn as sns\n",
    "sns.set_style(\"white\")\n",
    "sns.set_context(\"talk\",font_scale=1.5, rc={\"lines.linewidth\": 2.5})\n",
    "\n",
    "import math #to use math.sqrt, math.pi\n",
    "\n",
    "from rng.mrg32k3a import MRG32k3a"
   ]
  },
  {
   "cell_type": "markdown",
   "metadata": {},
   "source": [
    "### Question #1"
   ]
  },
  {
   "cell_type": "markdown",
   "metadata": {},
   "source": [
    "#### Part A:"
   ]
  },
  {
   "cell_type": "code",
   "execution_count": 248,
   "metadata": {},
   "outputs": [],
   "source": [
    "rng=MRG32k3a()"
   ]
  },
  {
   "cell_type": "code",
   "execution_count": 271,
   "metadata": {},
   "outputs": [],
   "source": [
    "def simulation(sims):\n",
    "    costs_X=[]\n",
    "    costs_Y=[]\n",
    "    for i in range(sims):\n",
    "        exp_list= []\n",
    "        n=6\n",
    "        lam=0.1\n",
    "        for j in range(n):\n",
    "            value= rng.uniform(0,1)\n",
    "            exp= (math.log(value)*(-1/lam))\n",
    "            exp_list.append(exp)\n",
    "        work_hours= sum(exp_list)\n",
    "        airless_paint_unit_hours_X = 45\n",
    "        if work_hours >45:\n",
    "            _cost_X = 60*(work_hours-airless_paint_unit_hours_X) +1000\n",
    "            costs_X.append(_cost_X)\n",
    "        else:\n",
    "            costs_X.append(1000)\n",
    "        airless_paint_unit_hours_Y = 90\n",
    "        if work_hours >90:\n",
    "            _cost_Y = 60*(work_hours-airless_paint_unit_hours_Y) +2000\n",
    "            costs_Y.append(_cost_Y)\n",
    "        else:\n",
    "            costs_Y.append(2000)\n",
    "    return costs_X, costs_Y"
   ]
  },
  {
   "cell_type": "code",
   "execution_count": 272,
   "metadata": {},
   "outputs": [],
   "source": [
    "def get_CI(diff, sims):\n",
    "    mean_cost = sum(diff)/sims\n",
    "    \n",
    "    cost_vars= []\n",
    "    for i in range(sims):\n",
    "        var = (diff[i]-mean_cost)**2\n",
    "        cost_vars.append(var)\n",
    "    if sims == 1:\n",
    "        total_cost_variance= 0\n",
    "    else:\n",
    "        total_cost_variance= sum(cost_vars)/(sims-1)\n",
    "    half_width = 1.96*(total_cost_variance**(.5))/(sims**(.5))\n",
    "    lower = round(mean_cost-half_width, 3)\n",
    "    upper = round(mean_cost+half_width, 3)\n",
    "    CI_interval = [lower,upper]\n",
    "    return CI_interval"
   ]
  },
  {
   "cell_type": "code",
   "execution_count": 273,
   "metadata": {},
   "outputs": [
    {
     "data": {
      "text/plain": [
       "[1985.471, 2134.271]"
      ]
     },
     "execution_count": 273,
     "metadata": {},
     "output_type": "execute_result"
    }
   ],
   "source": [
    "rng.start_fixed_s_ss_sss([0,0,0])\n",
    "X = simulation(1000)[0]\n",
    "get_CI(X, 1000)"
   ]
  },
  {
   "cell_type": "markdown",
   "metadata": {},
   "source": [
    "#### Part B:"
   ]
  },
  {
   "cell_type": "code",
   "execution_count": 274,
   "metadata": {},
   "outputs": [
    {
     "data": {
      "text/plain": [
       "[2068.865, 2120.071]"
      ]
     },
     "execution_count": 274,
     "metadata": {},
     "output_type": "execute_result"
    }
   ],
   "source": [
    "rng.start_fixed_s_ss_sss([1,0,0])\n",
    "Y = simulation(1000)[1]\n",
    "get_CI(Y, 1000)"
   ]
  },
  {
   "cell_type": "markdown",
   "metadata": {},
   "source": [
    "#### Part C:"
   ]
  },
  {
   "cell_type": "code",
   "execution_count": 275,
   "metadata": {},
   "outputs": [
    {
     "data": {
      "text/plain": [
       "[-112.709, 43.514]"
      ]
     },
     "execution_count": 275,
     "metadata": {},
     "output_type": "execute_result"
    }
   ],
   "source": [
    "rng.start_fixed_s_ss_sss([0,0,0])\n",
    "Part1C_X= simulation(1000)[0]\n",
    "rng.start_fixed_s_ss_sss([1,0,0])\n",
    "Part1C_Y= simulation(1000)[1]\n",
    "\n",
    "Part1C_diff= []\n",
    "for i in range(1000):\n",
    "    difference= Part1C_X[i]-Part1C_Y[i]\n",
    "    Part1C_diff.append(difference)\n",
    "    \n",
    "get_CI(Part1C_diff, 1000)"
   ]
  },
  {
   "cell_type": "markdown",
   "metadata": {},
   "source": [
    "#### Part D:"
   ]
  },
  {
   "cell_type": "code",
   "execution_count": 276,
   "metadata": {},
   "outputs": [
    {
     "data": {
      "text/plain": [
       "[-98.99, 21.342]"
      ]
     },
     "execution_count": 276,
     "metadata": {},
     "output_type": "execute_result"
    }
   ],
   "source": [
    "rng.start_fixed_s_ss_sss([0,0,0])\n",
    "Part1D_X= simulation(1000)[0]\n",
    "rng.start_fixed_s_ss_sss([0,0,0])\n",
    "Part1D_Y= simulation(1000)[1]\n",
    "\n",
    "Part1D_diff= []\n",
    "for i in range(1000):\n",
    "    difference= Part1D_X[i]-Part1D_Y[i]\n",
    "    Part1D_diff.append(difference)\n",
    "    \n",
    "get_CI(Part1D_diff, 1000)"
   ]
  },
  {
   "cell_type": "markdown",
   "metadata": {},
   "source": [
    "### Question #2"
   ]
  },
  {
   "cell_type": "markdown",
   "metadata": {},
   "source": [
    "#### Part C:"
   ]
  },
  {
   "cell_type": "code",
   "execution_count": 125,
   "metadata": {},
   "outputs": [],
   "source": [
    "def inverse_CDF(x):\n",
    "    e = math.e\n",
    "    bound = 1-(1/e)\n",
    "    if x<=bound:\n",
    "        return math.log(x+(1/e))+1\n",
    "    else:\n",
    "        return 1/(e-(e*x))"
   ]
  },
  {
   "cell_type": "code",
   "execution_count": 164,
   "metadata": {},
   "outputs": [],
   "source": [
    "def Part2_1pdf(x):\n",
    "    e=math.e\n",
    "    return e**(x-1)\n",
    "def Part2_2pdf(x):    \n",
    "    e=math.e\n",
    "    return 1/(e*(x**2))"
   ]
  },
  {
   "cell_type": "code",
   "execution_count": 161,
   "metadata": {},
   "outputs": [],
   "source": [
    "def Part2_cdf(x):\n",
    "    if x<0:\n",
    "        return 0\n",
    "    elif x<=1:\n",
    "        return ((math.e)**(x-1))-1/math.e\n",
    "    elif x>1:\n",
    "        return (1-(1/(math.e*x)))"
   ]
  },
  {
   "cell_type": "code",
   "execution_count": 186,
   "metadata": {},
   "outputs": [],
   "source": [
    "def inversion_sim(n):\n",
    "    inversions=[]\n",
    "    for i in range(n):\n",
    "        U = np.random.uniform(0.0,1.0)\n",
    "        x_val = inverse_CDF(U)\n",
    "        if x_val<6:\n",
    "            inversions.append(x_val)\n",
    "    return inversions"
   ]
  },
  {
   "cell_type": "code",
   "execution_count": 189,
   "metadata": {},
   "outputs": [
    {
     "data": {
      "text/plain": [
       "[<matplotlib.lines.Line2D at 0x12ab8c4c0>]"
      ]
     },
     "execution_count": 189,
     "metadata": {},
     "output_type": "execute_result"
    },
    {
     "data": {
      "image/png": "[encoded data removed]",
      "text/plain": [
       "<Figure size 432x288 with 1 Axes>"
      ]
     },
     "metadata": {},
     "output_type": "display_data"
    }
   ],
   "source": [
    "Part2= inversion_sim(10000)\n",
    "#print(Part2)\n",
    "maximum= max(Part2)\n",
    "plt.hist(Part2,bins=50, density=True)\n",
    "\n",
    "Part2_1X= np.arange(0,1.001,.001)\n",
    "Part2_2X= np.arange(1.001, 6, 0.001)\n",
    "Part2_f1X= Part2_1pdf(Part2_1X)\n",
    "Part2_f2X= Part2_2pdf(Part2_2X)\n",
    "plt.plot(Part2_1X, Part2_f1X, 'orange')\n",
    "plt.plot(Part2_2X, Part2_f2X, 'orange')"
   ]
  },
  {
   "cell_type": "markdown",
   "metadata": {},
   "source": [
    "### Question #3"
   ]
  },
  {
   "cell_type": "markdown",
   "metadata": {},
   "source": [
    "#### Part D:"
   ]
  },
  {
   "cell_type": "code",
   "execution_count": 88,
   "metadata": {},
   "outputs": [],
   "source": [
    "def pdf(x):\n",
    "    return (1/66)*((5*(x**5))+(4*(x**2))+(1))"
   ]
  },
  {
   "cell_type": "code",
   "execution_count": 89,
   "metadata": {},
   "outputs": [],
   "source": [
    "def accept_or_reject(n, a, b, m): #Need to generate n=10000 points, but we only keep it if V <= (1-U)^2 for the randomly generated (U,V)\n",
    "    accepted_values=[]\n",
    "    for i in range(n):\n",
    "        U_1 = np.random.uniform(0.0, 1.0)\n",
    "        U_2 = np.random.uniform(0.0, 1.0)\n",
    "        Z_1 = 2*U_1\n",
    "        Z_2 = m*U_2\n",
    "        if Z_2 <= pdf(Z_1):\n",
    "            accepted_values.append(Z_1)\n",
    "    return accepted_values"
   ]
  },
  {
   "cell_type": "code",
   "execution_count": 90,
   "metadata": {},
   "outputs": [],
   "source": [
    "x=accept_or_reject(10000,0,2,11/4)"
   ]
  },
  {
   "cell_type": "code",
   "execution_count": 105,
   "metadata": {},
   "outputs": [
    {
     "data": {
      "text/plain": [
       "[<matplotlib.lines.Line2D at 0x11ffa7520>]"
      ]
     },
     "execution_count": 105,
     "metadata": {},
     "output_type": "execute_result"
    },
    {
     "data": {
      "image/png": "[encoded data removed]",
      "text/plain": [
       "<Figure size 432x288 with 1 Axes>"
      ]
     },
     "metadata": {},
     "output_type": "display_data"
    }
   ],
   "source": [
    "#plot the histogram\n",
    "plt.hist(x, bins= 20, density=True)\n",
    "#plot the PDF points\n",
    "y = np.arange(0, 2, 0.0001)\n",
    "fy = pdf(y) \n",
    "plt.plot(y,fy)"
   ]
  },
  {
   "cell_type": "code",
   "execution_count": null,
   "metadata": {},
   "outputs": [],
   "source": []
  }
 ],
 "metadata": {
  "kernelspec": {
   "display_name": "Python 3",
   "language": "python",
   "name": "python3"
  },
  "language_info": {
   "codemirror_mode": {
    "name": "ipython",
    "version": 3
   },
   "file_extension": ".py",
   "mimetype": "text/x-python",
   "name": "python",
   "nbconvert_exporter": "python",
   "pygments_lexer": "ipython3",
   "version": "3.8.8"
  }
 },
 "nbformat": 4,
 "nbformat_minor": 4
}

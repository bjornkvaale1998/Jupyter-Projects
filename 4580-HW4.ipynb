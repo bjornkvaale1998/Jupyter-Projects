{
 "cells": [
  {
   "cell_type": "markdown",
   "metadata": {},
   "source": [
    "Cassidy Cao (cjc379), Bjorn Kvaale (bek67)"
   ]
  },
  {
   "cell_type": "markdown",
   "metadata": {},
   "source": [
    "# Homework #4: Simulation and Modeling\n",
    "\n",
    "This notebook contains solutions to ORIE 4580 Homework #4 by Cassidy Cao (cjc379) and Bjorn Kvaale (bek67). The problems involve building and analyzing simulation models for various scenarios, including supplier selection, power consumption, and trash mass accumulation. Each section includes code, results, and explanations to support the analysis and findings. The notebook demonstrates the use of Python libraries such as NumPy, pandas, SciPy, and Matplotlib for statistical modeling and data visualization."
   ]
  },
  {
   "cell_type": "markdown",
   "metadata": {},
   "source": [
    "**Import packages:**"
   ]
  },
  {
   "cell_type": "code",
   "execution_count": 2,
   "metadata": {},
   "outputs": [],
   "source": [
    "import numpy as np\n",
    "import pandas as pd\n",
    "import scipy.stats as scs\n",
    "import scipy.linalg as scl\n",
    "from matplotlib import pyplot as plt\n",
    "from mpl_toolkits.mplot3d import axes3d\n",
    "import math"
   ]
  },
  {
   "cell_type": "markdown",
   "metadata": {},
   "source": [
    "### Question #1"
   ]
  },
  {
   "cell_type": "markdown",
   "metadata": {},
   "source": [
    "Building the model:"
   ]
  },
  {
   "cell_type": "code",
   "execution_count": 92,
   "metadata": {},
   "outputs": [],
   "source": [
    "def simulation(sims, ERM, HM, CS, CW):\n",
    "    ERM_cost=10\n",
    "    HM_cost=11.2\n",
    "    CS_cost=12.3\n",
    "    CW_cost=15\n",
    "    ERM_cap=2000*ERM\n",
    "    HM_cap=3000*HM\n",
    "    CS_cap=2000*CS\n",
    "    CW_cap=3000*CW\n",
    "    small=10\n",
    "    large=2\n",
    "    small_dem=200\n",
    "    large_dem=2500\n",
    "    costs=[]\n",
    "    tri_min=16\n",
    "    tri_max=30\n",
    "    most_likely=20\n",
    "    base_cap = (ERM_cap + HM_cap + CS_cap + CW_cap)*.8\n",
    "    base_cost = 0.8*(ERM_cost*ERM_cap + HM_cost*HM_cap + CS_cost*CS_cap + CW_cost*CW_cap)\n",
    "    for i in range(sims):\n",
    "        demand=4000\n",
    "        for i in range(small):\n",
    "            success_small = np.random.binomial(1,.5)\n",
    "            if success_small == 1:\n",
    "                demand += small_dem\n",
    "            else:\n",
    "                demand= demand\n",
    "        for i in range(large):\n",
    "            success_large = np.random.binomial(1,.4)\n",
    "            if success_large == 1:\n",
    "                demand += large_dem\n",
    "            else:\n",
    "                demand = demand\n",
    "        if demand > ERM_cap + HM_cap + CS_cap + CW_cap:\n",
    "            spot_price = np.random.triangular(tri_min, most_likely, tri_max)\n",
    "            spot_cost= (demand-(ERM_cap + HM_cap + CS_cap + CW_cap))*spot_price\n",
    "            total_cost = ERM_cost*ERM_cap + HM_cost*HM_cap + CS_cost*CS_cap + CW_cost*CW_cap + spot_cost\n",
    "        elif demand <= base_cap:\n",
    "            total_cost = base_cost\n",
    "        else:\n",
    "            if demand - base_cap <= ERM_cap*.2:  \n",
    "                total_cost= base_cost+(demand-base_cap)*ERM_cost\n",
    "            elif demand - base_cap-ERM_cap*.2 <= HM_cap*.2:\n",
    "                total_cost= base_cost+(ERM_cap)*.2*ERM_cost + (demand - base_cap-ERM_cap*.2)*HM_cost\n",
    "            elif demand - base_cap-ERM_cap*.2 - HM_cap*.2 <= CS_cap*.2:\n",
    "                total_cost= base_cost+(ERM_cap)*.2*ERM_cost + HM_cap*.2*HM_cost + (demand - base_cap - ERM_cap*.2-HM_cap*.2)*CS_cost\n",
    "            else:\n",
    "                total_cost= base_cost+(ERM_cap)*.2*ERM_cost + HM_cap*.2*HM_cost + CS_cap*.2*CS_cost + (demand - base_cap - ERM_cap*.2-HM_cap*.2 - CS_cap*.2)*CW_cost\n",
    "        costs.append(total_cost)\n",
    "    \n",
    "    expected_cost = np.mean(costs)\n",
    "    median=np.median(costs)\n",
    "    percentile_10=round(np.percentile(costs,10),3)\n",
    "    percentile_90=round(np.percentile(costs,90),3)\n",
    "    total_variance= np.var(costs)\n",
    "    half_width = 1.96*(total_variance**(.5))/(sims**(.5))\n",
    "    lower=round(expected_cost-half_width, 3)\n",
    "    upper=round(expected_cost+half_width, 3)\n",
    "    CI=[lower,upper]\n",
    "    return round(expected_cost,3),round(median,3),percentile_10,percentile_90,CI, costs"
   ]
  },
  {
   "cell_type": "markdown",
   "metadata": {},
   "source": [
    "#### Part A:"
   ]
  },
  {
   "cell_type": "code",
   "execution_count": 99,
   "metadata": {},
   "outputs": [
    {
     "name": "stdout",
     "output_type": "stream",
     "text": [
      "10th percentile is:  98560.0\n",
      "Median is:  98560.0\n",
      "90th percentile is:  120200.0\n",
      "95% confidence interval is:  [102476.397, 102853.32]\n"
     ]
    }
   ],
   "source": [
    "Part_1A=simulation(10000,1,1,1,1)\n",
    "print(\"10th percentile is: \", Part_1A[2])\n",
    "print(\"Median is: \", Part_1A[1])\n",
    "print(\"90th percentile is: \", Part_1A[3])\n",
    "print(\"95% confidence interval is: \", Part_1A[4])"
   ]
  },
  {
   "cell_type": "code",
   "execution_count": 85,
   "metadata": {},
   "outputs": [],
   "source": [
    "def optimal(sims):\n",
    "    options = [] \n",
    "    subset= []\n",
    "    for i in range(2):\n",
    "        for j in range(2):\n",
    "            for k in range(2):\n",
    "                for l in range(2):\n",
    "                    a = simulation(sims,i,j,k,l)\n",
    "                    options.append(a[0])\n",
    "                    subset.append([i,j,k,l])\n",
    "    minimum = min(options)\n",
    "    min_index = options.index(minimum)\n",
    "    subset_index = subset[min_index]\n",
    "    return minimum, subset_index"
   ]
  },
  {
   "cell_type": "code",
   "execution_count": 86,
   "metadata": {},
   "outputs": [
    {
     "name": "stdout",
     "output_type": "stream",
     "text": [
      "Optimal Expected Cost is:  88308.711\n",
      "With  [1, 1, 1, 0] for [ERM, HM, CS, CM] where 1 means you use them as a supplier, 0 means you do not\n"
     ]
    }
   ],
   "source": [
    "Part_1B= optimal(1000)\n",
    "print(\"Optimal Expected Cost is: \", Part_1B[0])\n",
    "print(\"With \", Part_1B[1], \"for [ERM, HM, CS, CM] where 1 means you use them as a supplier, 0 means you do not\")"
   ]
  },
  {
   "cell_type": "markdown",
   "metadata": {},
   "source": [
    "### Question #2"
   ]
  },
  {
   "cell_type": "markdown",
   "metadata": {},
   "source": [
    "#### Part A:"
   ]
  },
  {
   "cell_type": "code",
   "execution_count": 101,
   "metadata": {},
   "outputs": [],
   "source": [
    "def simulation2(sims):\n",
    "    consumptions_over_140=[]\n",
    "    for i in range(sims):\n",
    "        X = np.random.normal(2.5, 0.5, size=50)\n",
    "        total_power_consumption=sum(X)\n",
    "        if 140 < total_power_consumption:\n",
    "            consumptions_over_140.append(1)   \n",
    "        else:\n",
    "            consumptions_over_140.append(0)\n",
    "    prob=sum(consumptions_over_140)/sims\n",
    "    return prob"
   ]
  },
  {
   "cell_type": "code",
   "execution_count": 108,
   "metadata": {},
   "outputs": [
    {
     "data": {
      "text/plain": [
       "1.0333333333333333e-05"
      ]
     },
     "execution_count": 108,
     "metadata": {},
     "output_type": "execute_result"
    }
   ],
   "source": [
    "simulation2(3000000)"
   ]
  },
  {
   "cell_type": "markdown",
   "metadata": {},
   "source": [
    "#### Part B:"
   ]
  },
  {
   "cell_type": "code",
   "execution_count": 51,
   "metadata": {},
   "outputs": [
    {
     "name": "stdout",
     "output_type": "stream",
     "text": [
      "[[0.25 0.1  0.1  ... 0.1  0.1  0.1 ]\n",
      " [0.1  0.25 0.1  ... 0.1  0.1  0.1 ]\n",
      " [0.1  0.1  0.25 ... 0.1  0.1  0.1 ]\n",
      " ...\n",
      " [0.1  0.1  0.1  ... 0.25 0.1  0.1 ]\n",
      " [0.1  0.1  0.1  ... 0.1  0.25 0.1 ]\n",
      " [0.1  0.1  0.1  ... 0.1  0.1  0.25]]\n"
     ]
    }
   ],
   "source": [
    "pre_cov_matrix=[]\n",
    "list1=[]\n",
    "for i in range(50):\n",
    "    list1.append(0.1)\n",
    "for i in range(50):\n",
    "    pre_cov_matrix.append(list1)\n",
    "cov_matrix = np.matrix(pre_cov_matrix)\n",
    "np.fill_diagonal(cov_matrix, 0.25)\n",
    "\n",
    "print(cov_matrix)   \n",
    "L = scl.cholesky(cov_matrix, lower=True)\n",
    "\n",
    "mu=[]\n",
    "for i in range(50):\n",
    "    mu.append(2.5)\n",
    "\n",
    "def simulation2b(sims):\n",
    "    consumptions_over_140=[]\n",
    "    for i in range(sims):\n",
    "        N = np.random.normal(0, 1, size=50)\n",
    "        X = mu + np.dot(L,N)\n",
    "        total_power_consumption=sum(X)\n",
    "        if 140 < total_power_consumption:\n",
    "            consumptions_over_140.append(1)   \n",
    "        else:\n",
    "            consumptions_over_140.append(0)\n",
    "    prob=sum(consumptions_over_140)/sims\n",
    "    return prob"
   ]
  },
  {
   "cell_type": "code",
   "execution_count": 52,
   "metadata": {},
   "outputs": [
    {
     "data": {
      "text/plain": [
       "0.1738"
      ]
     },
     "execution_count": 52,
     "metadata": {},
     "output_type": "execute_result"
    }
   ],
   "source": [
    "simulation2b(10000)"
   ]
  },
  {
   "cell_type": "code",
   "execution_count": 19,
   "metadata": {},
   "outputs": [
    {
     "name": "stdout",
     "output_type": "stream",
     "text": [
      "2.84787006746101\n"
     ]
    }
   ],
   "source": [
    "rv= np.random.normal(2.5, 0.25)\n",
    "print(rv)"
   ]
  },
  {
   "cell_type": "markdown",
   "metadata": {},
   "source": [
    "### Question #3"
   ]
  },
  {
   "cell_type": "code",
   "execution_count": 3,
   "metadata": {},
   "outputs": [],
   "source": [
    "# Poisson, histogram of total mass of trash received 7am to 11am \n",
    "lam= 1\n",
    "exp_mean= 70\n",
    "gamma_mean= 1000\n",
    "gamma_sd= 400\n",
    "\n",
    "time= (11-7)*60\n",
    "gamma_shape= (gamma_mean**2)/(gamma_sd**2)\n",
    "gamma_scale= (gamma_sd**2)/(gamma_mean)"
   ]
  },
  {
   "cell_type": "code",
   "execution_count": 4,
   "metadata": {},
   "outputs": [],
   "source": [
    "def mass():\n",
    "    time_passed=0\n",
    "    total_mass=0\n",
    "    arrival_times=[]\n",
    "    masses=[]\n",
    "    while time_passed < time:\n",
    "        time_U= np.random.uniform(0,1)\n",
    "        arrival_time_after_prev= -math.log(1-time_U)/lam\n",
    "        time_passed += arrival_time_after_prev\n",
    "        arrival_times.append(time_passed)\n",
    "        vehicle_type = np.random.binomial(1,.5)\n",
    "        if vehicle_type ==0:\n",
    "            total_mass += np.random.exponential(exp_mean)\n",
    "            \n",
    "        else:\n",
    "            total_mass += np.random.gamma(gamma_shape,gamma_scale)      \n",
    "        masses.append(total_mass)\n",
    "    return arrival_times, masses, total_mass"
   ]
  },
  {
   "cell_type": "code",
   "execution_count": 8,
   "metadata": {},
   "outputs": [],
   "source": [
    "def simulation3(sims):\n",
    "    simulation_3=[]\n",
    "    for i in range(sims):\n",
    "        x=mass()\n",
    "        simulation_3.append(x[2])\n",
    "    return simulation_3"
   ]
  },
  {
   "cell_type": "code",
   "execution_count": 12,
   "metadata": {},
   "outputs": [
    {
     "data": {
      "text/plain": [
       "Text(0.5, 1.0, 'Number of Occurances vs Mass')"
      ]
     },
     "execution_count": 12,
     "metadata": {},
     "output_type": "execute_result"
    },
    {
     "data": {
      "image/png": "[encoded data removed]",
      "text/plain": [
       "<Figure size 432x288 with 1 Axes>"
      ]
     },
     "metadata": {
      "needs_background": "light"
     },
     "output_type": "display_data"
    }
   ],
   "source": [
    "x_1=simulation3(2000)\n",
    "plt.hist(x_1, bins=25, density=False)\n",
    "plt.xlabel(\"Mass of Trash (kg)\")\n",
    "plt.ylabel(\"Number of Occurances\")\n",
    "plt.title(\"Number of Occurances vs Mass\")"
   ]
  },
  {
   "cell_type": "code",
   "execution_count": 9,
   "metadata": {},
   "outputs": [
    {
     "data": {
      "text/plain": [
       "Text(0.5, 1.0, 'Mass vs Time')"
      ]
     },
     "execution_count": 9,
     "metadata": {},
     "output_type": "execute_result"
    },
    {
     "data": {
      "image/png": "[encoded data removed]",
      "text/plain": [
       "<Figure size 432x288 with 1 Axes>"
      ]
     },
     "metadata": {
      "needs_background": "light"
     },
     "output_type": "display_data"
    }
   ],
   "source": [
    "x_2= mass()\n",
    "plt.bar(x_2[0],x_2[1])\n",
    "plt.xlabel(\"Time from 7AM (mins)\")\n",
    "plt.ylabel(\"Mass of Trash (kg)\")\n",
    "plt.title(\"Mass vs Time\")"
   ]
  },
  {
   "cell_type": "code",
   "execution_count": null,
   "metadata": {},
   "outputs": [],
   "source": []
  }
 ],
 "metadata": {
  "kernelspec": {
   "display_name": "Python 3 (ipykernel)",
   "language": "python",
   "name": "python3"
  },
  "language_info": {
   "codemirror_mode": {
    "name": "ipython",
    "version": 3
   },
   "file_extension": ".py",
   "mimetype": "text/x-python",
   "name": "python",
   "nbconvert_exporter": "python",
   "pygments_lexer": "ipython3",
   "version": "3.11.4"
  }
 },
 "nbformat": 4,
 "nbformat_minor": 4
}

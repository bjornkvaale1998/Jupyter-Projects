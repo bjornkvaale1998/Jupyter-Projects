{
 "cells": [
  {
   "cell_type": "markdown",
   "metadata": {},
   "source": [
    "# ORIE 4580: Homework #2\n",
    "Cassidy Cao (cjc379), Bjorn Kvaale (bek67)"
   ]
  },
  {
   "cell_type": "markdown",
   "metadata": {},
   "source": [
    "This notebook contains solutions to Homework #2 for ORIE 4580. The problems cover simulation techniques, probability distributions, confidence intervals, and optimization in the context of real-world scenarios such as emergency response times, Covid-19 testing strategies, airline overbooking, and random number generation. Each section includes code implementations, simulation results, and detailed explanations to support the analysis and findings."
   ]
  },
  {
   "cell_type": "markdown",
   "metadata": {},
   "source": [
    "### Question #1"
   ]
  },
  {
   "cell_type": "markdown",
   "metadata": {},
   "source": [
    "#### Part A:"
   ]
  },
  {
   "cell_type": "markdown",
   "metadata": {},
   "source": [
    "**Upload all packages:**"
   ]
  },
  {
   "cell_type": "code",
   "execution_count": 1,
   "metadata": {},
   "outputs": [],
   "source": [
    "import numpy as np\n",
    "import scipy as sc\n",
    "import pandas as pd\n",
    "\n",
    "import matplotlib.pyplot as plt\n",
    "%matplotlib inline\n",
    "\n",
    "import seaborn as sns\n",
    "sns.set_style(\"white\")\n",
    "sns.set_context(\"talk\",font_scale=1.5, rc={\"lines.linewidth\": 2.5})\n",
    "\n",
    "import math #to use math.sqrt, math.pi"
   ]
  },
  {
   "cell_type": "markdown",
   "metadata": {},
   "source": [
    "**Find beta and alpha for the gamma functions:**"
   ]
  },
  {
   "cell_type": "code",
   "execution_count": 76,
   "metadata": {},
   "outputs": [],
   "source": [
    "def beta2(exp, sd):\n",
    "    beta1= (sd**2/exp)\n",
    "    return beta1\n",
    "\n",
    "def alpha2(exp, beta2):\n",
    "    alpha1= exp/beta2\n",
    "    return alpha1"
   ]
  },
  {
   "cell_type": "markdown",
   "metadata": {},
   "source": [
    "**Build simulation function:**"
   ]
  },
  {
   "cell_type": "code",
   "execution_count": 297,
   "metadata": {},
   "outputs": [],
   "source": [
    "def simulation(run, exp_amb, sd_amb, exp_hosp, sd_hosp, exp_care, sd_care):\n",
    "    n=run\n",
    "    prob= 0.7\n",
    "    \n",
    "    beta_amb= beta2(exp_amb, sd_amb)\n",
    "    alpha_amb= alpha2(exp_amb, beta_amb)\n",
    "    beta_hosp= beta2(exp_hosp, sd_hosp)\n",
    "    alpha_hosp= alpha2(exp_hosp, beta_hosp)\n",
    "    beta_care= beta2(exp_care, sd_care)\n",
    "    alpha_care= alpha2(exp_care, beta_care)\n",
    "\n",
    "    total_results= []\n",
    "    \n",
    "    for i in range(n):\n",
    "        \n",
    "        amb= np.random.gamma(alpha_amb, beta_amb)\n",
    "        hosp= np.random.gamma(alpha_hosp, beta_hosp)\n",
    "        care= np.random.gamma(alpha_care, beta_care)\n",
    "        ber= np.random.binomial(1, prob)\n",
    "        result= amb+(ber)*(hosp+care)\n",
    "        total_results.append(result)\n",
    "        \n",
    "    avg = sum(total_results)/run\n",
    "    \n",
    "    total_vars= []\n",
    "    for i in range(n):\n",
    "        var = (total_results[i]-avg)**2\n",
    "        total_vars.append(var)\n",
    "    if run == 1:\n",
    "        total_variance= sum(total_vars)/(run)\n",
    "    else:\n",
    "        total_variance= sum(total_vars)/(run-1)\n",
    "    return avg, total_variance ,total_results\n"
   ]
  },
  {
   "cell_type": "code",
   "execution_count": 304,
   "metadata": {},
   "outputs": [
    {
     "name": "stdout",
     "output_type": "stream",
     "text": [
      "(43.45986078109874, 589.3969897566851)\n"
     ]
    }
   ],
   "source": [
    "print(simulation(50, 25, 8, 15, 10, 20, 15)[0:2])"
   ]
  },
  {
   "cell_type": "code",
   "execution_count": 305,
   "metadata": {},
   "outputs": [
    {
     "name": "stdout",
     "output_type": "stream",
     "text": [
      "9056.909903397125\n"
     ]
    }
   ],
   "source": [
    "print((1.96**2)*589.3969897566851/(0.5**2))"
   ]
  },
  {
   "cell_type": "code",
   "execution_count": 306,
   "metadata": {},
   "outputs": [
    {
     "name": "stdout",
     "output_type": "stream",
     "text": [
      "(49.21509691076201, 554.8080574890139)\n"
     ]
    }
   ],
   "source": [
    "part_1A= simulation(9100, 25, 8, 15, 10, 20, 15)\n",
    "print(part_1A[0:2])"
   ]
  },
  {
   "cell_type": "code",
   "execution_count": 308,
   "metadata": {},
   "outputs": [
    {
     "name": "stdout",
     "output_type": "stream",
     "text": [
      "0.4839569767511689\n"
     ]
    }
   ],
   "source": [
    "CI= 1.96*(part_1A[1]**(.5))/(9100**(.5))\n",
    "print(CI)"
   ]
  },
  {
   "cell_type": "markdown",
   "metadata": {},
   "source": [
    "**49.22 +/- 0.48 minutes**"
   ]
  },
  {
   "cell_type": "markdown",
   "metadata": {},
   "source": [
    "#### Part B:"
   ]
  },
  {
   "cell_type": "markdown",
   "metadata": {},
   "source": [
    "Find the 95% CI and take the upper bound to find variable b:"
   ]
  },
  {
   "cell_type": "code",
   "execution_count": 310,
   "metadata": {},
   "outputs": [
    {
     "name": "stdout",
     "output_type": "stream",
     "text": [
      "90.8763719072596\n"
     ]
    }
   ],
   "source": [
    "ordered_results= sorted(part_1A[2])\n",
    "print(ordered_results[math.ceil(9100*.95)-1])"
   ]
  },
  {
   "cell_type": "markdown",
   "metadata": {},
   "source": [
    "**b=90.88**"
   ]
  },
  {
   "cell_type": "markdown",
   "metadata": {},
   "source": [
    "#### Part C:"
   ]
  },
  {
   "cell_type": "code",
   "execution_count": 294,
   "metadata": {},
   "outputs": [],
   "source": [
    "def simulation2(run, exp_amb, sd_amb, exp_hosp, sd_hosp, exp_care, sd_care):\n",
    "    sums = []\n",
    "    for i in range(run):\n",
    "        part_1C = simulation(1, exp_amb, sd_amb, exp_hosp, sd_hosp, exp_care, sd_care)\n",
    "        if 60 < part_1C[0]:\n",
    "            sums.append(1)   \n",
    "        else:\n",
    "            sums.append(0)\n",
    "        \n",
    "    prob = sum(sums)/run\n",
    "    prob_vars= []\n",
    "    for i in range(run):\n",
    "        prob_var = (sums[i]-prob)**2\n",
    "        prob_vars.append(prob_var)\n",
    "    prob_variance= sum(prob_vars)/(run-1)\n",
    "    return prob, prob_variance"
   ]
  },
  {
   "cell_type": "code",
   "execution_count": 295,
   "metadata": {},
   "outputs": [
    {
     "name": "stdout",
     "output_type": "stream",
     "text": [
      "(0.34, 0.2289795918367346)\n"
     ]
    }
   ],
   "source": [
    "print(simulation2(50, 25, 8, 15, 10, 20, 15))"
   ]
  },
  {
   "cell_type": "code",
   "execution_count": 303,
   "metadata": {},
   "outputs": [
    {
     "name": "stdout",
     "output_type": "stream",
     "text": [
      "35185.91971776\n"
     ]
    }
   ],
   "source": [
    "print((1.96**2)*0.22897959/(0.005**2))"
   ]
  },
  {
   "cell_type": "code",
   "execution_count": 302,
   "metadata": {},
   "outputs": [
    {
     "name": "stdout",
     "output_type": "stream",
     "text": [
      "(0.3093465909090909, 0.21365734741311324)\n"
     ]
    }
   ],
   "source": [
    "print(simulation2(35200, 25, 8, 15, 10, 20, 15))"
   ]
  },
  {
   "cell_type": "code",
   "execution_count": 311,
   "metadata": {},
   "outputs": [
    {
     "name": "stdout",
     "output_type": "stream",
     "text": [
      "0.004828849341288088\n"
     ]
    }
   ],
   "source": [
    "CI= 1.96*(0.21365734741311324**(.5))/(35200**(.5))\n",
    "print(CI)"
   ]
  },
  {
   "cell_type": "markdown",
   "metadata": {},
   "source": [
    "**0.309 +/- 0.005**\n",
    "<br>\n",
    "X is 0.005 because the lower bound will be 0.304 and the upper bound will be 0.314, so this range will be accurate to about 2 decimal places. 0.30 is about equal to 0.31"
   ]
  },
  {
   "cell_type": "markdown",
   "metadata": {},
   "source": [
    "### Question #2"
   ]
  },
  {
   "cell_type": "markdown",
   "metadata": {},
   "source": [
    "#### Part A:"
   ]
  },
  {
   "cell_type": "markdown",
   "metadata": {},
   "source": [
    "The number of (true) Covid-positive people would be binomially distributed because there are only two results, positive or negative (taking on values: 1 or 0). Therefore, given a pool of n individuals with the probabiliy of having covid (p), positive cases would be represented as the distribution Bernoulli(n,p). "
   ]
  },
  {
   "cell_type": "markdown",
   "metadata": {},
   "source": [
    "#### Part B:"
   ]
  },
  {
   "cell_type": "markdown",
   "metadata": {},
   "source": [
    "- Probability that there are no positives= (1-p)^n\n",
    "- Probability that there is at least one positive= 1-(1-p)^n\n",
    "\n",
    "- Number of tests needed if there are no positives= 1/n\n",
    "- Number of tests needed if there is at least one positive= 1/n + 1\n",
    "\n",
    "Average number of tests per person:\n",
    "<br>\n",
    "[(1-p)^n * 1/n] + [(1-(1-p)^n) * (1/n + 1)]\n",
    "<br>\n",
    "= [(1-p)^n/n] + [1/n + 1 - (1-p)^n/n - (1-p)^n]\n",
    "<br>\n",
    "= 1/n + (1-(1-p)^n)"
   ]
  },
  {
   "cell_type": "markdown",
   "metadata": {},
   "source": [
    "**1/n + (1-(1-p)^n)**"
   ]
  },
  {
   "cell_type": "markdown",
   "metadata": {},
   "source": [
    "#### Part C:"
   ]
  },
  {
   "cell_type": "markdown",
   "metadata": {},
   "source": [
    "0.001: 1/n + (1-(1-p)^n) = 1/n + (1-(1-0.001)^n) = 1/n + (1-0.999^n)\n",
    "<br>\n",
    "0.01: 1/n + (1-(1-p)^n)= 1/n + (1-(1-0.01)^n) = 1/n + (1-0.99^n)\n",
    "<br>\n",
    "Out of n=5, 10, 20, 50, 100; 50 was the lowest average number of tests per person. Since 50 was the lowest, we tested 51 and 49 and found that 49 was lower than 50. Then, we selected n=35 and tested this; resulting in a lower value. Then we selected n=30, and this was lower than the value found with n=35. Then trying n=31 we saw that it was lower than n=30 so the optimal value had to lie between 30-35. Trying n =32, 33; we found that **n=32 resulted in the lowest value which is 0.063 tests per person.**\n",
    "<br>\n",
    "We took a similar approach using p=0.01 and found that **n=11 resulted in the lowest average tests per person which was .196 tests.**\n"
   ]
  },
  {
   "cell_type": "markdown",
   "metadata": {},
   "source": [
    "#### Part D:"
   ]
  },
  {
   "cell_type": "code",
   "execution_count": 437,
   "metadata": {},
   "outputs": [],
   "source": [
    "def simulation4(n, run):\n",
    "    prob1 = 0.32\n",
    "    prob2 = 0.54\n",
    "    prob3 = 0.14\n",
    "    sd1 = 3.60\n",
    "    sd2 = 2.96\n",
    "    sd3 = 1.32\n",
    "    \n",
    "    data=[]\n",
    "    n_val= []\n",
    "    total_variances= []\n",
    "    for i in range (1,n+1):\n",
    "        n_val.append(i)\n",
    "        data_given_n =[]\n",
    "        variances_given_n=[]\n",
    "        for j in range(run):\n",
    "            u = np.random.uniform(0,1)\n",
    "            if u <= prob1:\n",
    "                C_score= np.random.normal(20.14, sd1**2)\n",
    "            elif u <= prob1+prob2:\n",
    "                C_score= np.random.normal(29.35, sd2**2)\n",
    "            else:\n",
    "                C_score= np.random.normal(34.78, sd3**2)\n",
    "            inside_log=(2**(-C_score))/i\n",
    "            total_ct_score = -1*np.log2(inside_log)\n",
    "            inside_exp= -12.5*(total_ct_score-35.8)\n",
    "            prob_false_neg= (1 + np.exp(np.double(inside_exp)))**(-1)\n",
    "            data_given_n.append(prob_false_neg)\n",
    "        data_given_n_mean= sum(data_given_n)/run\n",
    "        data.append(data_given_n_mean)\n",
    "        for k in range(run):\n",
    "            var = (data_given_n[k]-data_given_n_mean)**2\n",
    "            variances_given_n.append(var)\n",
    "        if run == 1:\n",
    "            total_variance_given_n = sum(variances_given_n)/(run)\n",
    "        else:\n",
    "            total_variance_given_n = sum(variances_given_n)/(run-1)\n",
    "        total_variances.append(total_variance_given_n)\n",
    "    return n_val, data, total_variances\n",
    "        \n",
    "        "
   ]
  },
  {
   "cell_type": "code",
   "execution_count": 438,
   "metadata": {},
   "outputs": [
    {
     "name": "stderr",
     "output_type": "stream",
     "text": [
      "<ipython-input-437-91be4764a790>:27: RuntimeWarning: overflow encountered in exp\n",
      "  prob_false_neg= (1 + np.exp(np.double(inside_exp)))**(-1)\n"
     ]
    }
   ],
   "source": [
    "part_2D= simulation4(50, 15000)\n",
    "x= part_2D[0]\n",
    "y= part_2D[1]\n",
    "z= part_2D[2]"
   ]
  },
  {
   "cell_type": "code",
   "execution_count": 439,
   "metadata": {},
   "outputs": [
    {
     "data": {
      "image/png": "[encoded data removed]",
      "text/plain": [
       "<Figure size 432x288 with 1 Axes>"
      ]
     },
     "metadata": {},
     "output_type": "display_data"
    }
   ],
   "source": [
    "plt.plot(x,y, 'lime')\n",
    "plt.xticks(np.arange(0, 60, 10))\n",
    "plt.yticks(np.arange(0.15, 0.55, .05))\n",
    "plt.xlabel(\"n\")\n",
    "plt.ylabel(\"Prob False Neg\")\n",
    "plt.title(\"Prob False Neg vs. n\")\n",
    "plt.grid()\n",
    "plt.show()"
   ]
  },
  {
   "cell_type": "code",
   "execution_count": 440,
   "metadata": {},
   "outputs": [],
   "source": [
    "def run_length(n):\n",
    "    run_lengths=[]\n",
    "    variances=simulation4(n, 50)[2]\n",
    "    for i in range(n):\n",
    "        run_lengths.append(1.96**2*variances[i]/(.02**2))\n",
    "    return run_lengths"
   ]
  },
  {
   "cell_type": "code",
   "execution_count": 441,
   "metadata": {},
   "outputs": [
    {
     "name": "stdout",
     "output_type": "stream",
     "text": [
      "[1719.3406685255018, 2132.439452676962, 1877.559483495401, 1507.9644263725245, 1783.5034040383891, 2038.3701993793948, 2223.39041473474, 2160.2802680134405, 2387.2405730701466, 2422.0736912974867]\n"
     ]
    }
   ],
   "source": [
    "a= run_length(10)\n",
    "print(a)"
   ]
  },
  {
   "cell_type": "code",
   "execution_count": 442,
   "metadata": {},
   "outputs": [],
   "source": [
    "def table_sim(n):\n",
    "    n_list=[]\n",
    "    data_list=[]\n",
    "    var_list=[]\n",
    "    ci_list=[]\n",
    "    for i in range(n):\n",
    "        hehehe= simulation4(n, math.ceil(a[i]))\n",
    "        n_value= hehehe[0][i]\n",
    "        n_list.append(n_value)\n",
    "        data_value= hehehe[1][i]\n",
    "        data_list.append(data_value) \n",
    "        var_value= hehehe[2][i]\n",
    "        var_list.append(var_value)\n",
    "        ci_value= 1.96*(var_value**(.5))/(math.ceil(a[i])**(.5))\n",
    "        ci_list.append(ci_value)\n",
    "    dict= {'N Values': n_list, 'False Neg Probs': data_list, 'Half Width': ci_list}\n",
    "    Table_2D= pd.DataFrame(dict)\n",
    "    display(Table_2D)"
   ]
  },
  {
   "cell_type": "code",
   "execution_count": 443,
   "metadata": {},
   "outputs": [
    {
     "name": "stderr",
     "output_type": "stream",
     "text": [
      "<ipython-input-437-91be4764a790>:27: RuntimeWarning: overflow encountered in exp\n",
      "  prob_false_neg= (1 + np.exp(np.double(inside_exp)))**(-1)\n"
     ]
    },
    {
     "data": {
      "text/html": [
       "<div>\n",
       "<style scoped>\n",
       "    .dataframe tbody tr th:only-of-type {\n",
       "        vertical-align: middle;\n",
       "    }\n",
       "\n",
       "    .dataframe tbody tr th {\n",
       "        vertical-align: top;\n",
       "    }\n",
       "\n",
       "    .dataframe thead th {\n",
       "        text-align: right;\n",
       "    }\n",
       "</style>\n",
       "<table border=\"1\" class=\"dataframe\">\n",
       "  <thead>\n",
       "    <tr style=\"text-align: right;\">\n",
       "      <th></th>\n",
       "      <th>N Values</th>\n",
       "      <th>False Neg Probs</th>\n",
       "      <th>Half Width</th>\n",
       "    </tr>\n",
       "  </thead>\n",
       "  <tbody>\n",
       "    <tr>\n",
       "      <th>0</th>\n",
       "      <td>1</td>\n",
       "      <td>0.198893</td>\n",
       "      <td>0.018646</td>\n",
       "    </tr>\n",
       "    <tr>\n",
       "      <th>1</th>\n",
       "      <td>2</td>\n",
       "      <td>0.260484</td>\n",
       "      <td>0.018417</td>\n",
       "    </tr>\n",
       "    <tr>\n",
       "      <th>2</th>\n",
       "      <td>3</td>\n",
       "      <td>0.277623</td>\n",
       "      <td>0.020028</td>\n",
       "    </tr>\n",
       "    <tr>\n",
       "      <th>3</th>\n",
       "      <td>4</td>\n",
       "      <td>0.306857</td>\n",
       "      <td>0.023039</td>\n",
       "    </tr>\n",
       "    <tr>\n",
       "      <th>4</th>\n",
       "      <td>5</td>\n",
       "      <td>0.318172</td>\n",
       "      <td>0.021465</td>\n",
       "    </tr>\n",
       "    <tr>\n",
       "      <th>5</th>\n",
       "      <td>6</td>\n",
       "      <td>0.341879</td>\n",
       "      <td>0.020382</td>\n",
       "    </tr>\n",
       "    <tr>\n",
       "      <th>6</th>\n",
       "      <td>7</td>\n",
       "      <td>0.350688</td>\n",
       "      <td>0.019688</td>\n",
       "    </tr>\n",
       "    <tr>\n",
       "      <th>7</th>\n",
       "      <td>8</td>\n",
       "      <td>0.347880</td>\n",
       "      <td>0.019899</td>\n",
       "    </tr>\n",
       "    <tr>\n",
       "      <th>8</th>\n",
       "      <td>9</td>\n",
       "      <td>0.373798</td>\n",
       "      <td>0.019261</td>\n",
       "    </tr>\n",
       "    <tr>\n",
       "      <th>9</th>\n",
       "      <td>10</td>\n",
       "      <td>0.380020</td>\n",
       "      <td>0.019193</td>\n",
       "    </tr>\n",
       "  </tbody>\n",
       "</table>\n",
       "</div>"
      ],
      "text/plain": [
       "   N Values  False Neg Probs  Half Width\n",
       "0         1         0.198893    0.018646\n",
       "1         2         0.260484    0.018417\n",
       "2         3         0.277623    0.020028\n",
       "3         4         0.306857    0.023039\n",
       "4         5         0.318172    0.021465\n",
       "5         6         0.341879    0.020382\n",
       "6         7         0.350688    0.019688\n",
       "7         8         0.347880    0.019899\n",
       "8         9         0.373798    0.019261\n",
       "9        10         0.380020    0.019193"
      ]
     },
     "metadata": {},
     "output_type": "display_data"
    }
   ],
   "source": [
    "table_sim(10)"
   ]
  },
  {
   "cell_type": "markdown",
   "metadata": {},
   "source": [
    "### Question 3"
   ]
  },
  {
   "cell_type": "markdown",
   "metadata": {},
   "source": [
    "#### Part A:"
   ]
  },
  {
   "cell_type": "markdown",
   "metadata": {},
   "source": [
    "The parameters are: X~B(202,0.97)"
   ]
  },
  {
   "cell_type": "markdown",
   "metadata": {},
   "source": [
    "#### Part B:"
   ]
  },
  {
   "cell_type": "code",
   "execution_count": 6,
   "metadata": {},
   "outputs": [
    {
     "name": "stdout",
     "output_type": "stream",
     "text": [
      "0.015419628571262119\n"
     ]
    }
   ],
   "source": [
    "C_1= (np.math.factorial(202))/(np.math.factorial(202)*np.math.factorial(202-202))\n",
    "C_2= (np.math.factorial(202))/(np.math.factorial(201)*np.math.factorial(202-201))\n",
    "\n",
    "partB= C_1*(0.97**202) + C_2 * (0.97**201) * 0.03\n",
    "print(partB)"
   ]
  },
  {
   "cell_type": "markdown",
   "metadata": {},
   "source": [
    "**The probability that there will not be enough seats for the passengers who check in on time is: 1.54%**"
   ]
  },
  {
   "cell_type": "markdown",
   "metadata": {},
   "source": [
    "#### Part C:"
   ]
  },
  {
   "cell_type": "code",
   "execution_count": 263,
   "metadata": {},
   "outputs": [],
   "source": [
    "#Given values:\n",
    "ticketprice= 250\n",
    "completed= 40000\n",
    "overbooked= 300\n",
    "totalseats= 200\n",
    "p= 0.97"
   ]
  },
  {
   "cell_type": "code",
   "execution_count": 324,
   "metadata": {},
   "outputs": [],
   "source": [
    "#profit function\n",
    "def profit(people_sold, people):\n",
    "    total_overbooked= max((people-totalseats),0)\n",
    "    return (people_sold*ticketprice - total_overbooked*overbooked - completed)\n",
    "\n",
    "def simulation3(run):    \n",
    "    avg_per_seat=[]\n",
    "    for i in range(200,251):\n",
    "        total_profits_for_seat_numb=[]\n",
    "        for j in range(run):\n",
    "            x= np.random.binomial(i, p)\n",
    "            total_profits_for_seat_numb.append(profit(i, x))  \n",
    "    \n",
    "        avg_profit_for_seat_numb = sum(total_profits_for_seat_numb)/run\n",
    "        avg_per_seat.append(avg_profit_for_seat_numb)\n",
    "        \n",
    "    optimal_profit=max(avg_per_seat)\n",
    "    optimal_seat=avg_per_seat.index(optimal_profit)+200\n",
    "    \n",
    "    return optimal_profit, optimal_seat\n",
    "\n"
   ]
  },
  {
   "cell_type": "code",
   "execution_count": 326,
   "metadata": {},
   "outputs": [
    {
     "name": "stdout",
     "output_type": "stream",
     "text": [
      "(11376.7, 209)\n"
     ]
    }
   ],
   "source": [
    "print(simulation3(15000))"
   ]
  },
  {
   "cell_type": "markdown",
   "metadata": {},
   "source": [
    "**The number of seats that should be sold to maximize the expected profit is 209. This was obtained by running multiple simulations for each 200 through 250 seats. Creating a list of the average profit for each seats 200 through 250, we found the maximum average profit, which resulted to be $11376.70, correlating with 209 seats.** "
   ]
  },
  {
   "cell_type": "markdown",
   "metadata": {},
   "source": [
    "### Question 4"
   ]
  },
  {
   "cell_type": "markdown",
   "metadata": {},
   "source": [
    "If you use a multiplicative LCG x_(n+1) = (ax_n) mod m where a is even and m is a multiple of 4, in which the generator does not have a full period, then when x_n hits zero then the subsequent values will eventually converge to 0. This is because: since a is always even then we know the generated values will also be even (other than x_0); and since m is a multiple of 4, then the values will eventually converge to 0. Overall, the generated random variables (U_0, U_1), (U_2, U_3), (U_4, U_5), etc. will lie on a small number of parallel lines. "
   ]
  }
 ],
 "metadata": {
  "kernelspec": {
   "display_name": "Python 3",
   "language": "python",
   "name": "python3"
  },
  "language_info": {
   "codemirror_mode": {
    "name": "ipython",
    "version": 3
   },
   "file_extension": ".py",
   "mimetype": "text/x-python",
   "name": "python",
   "nbconvert_exporter": "python",
   "pygments_lexer": "ipython3",
   "version": "3.8.8"
  }
 },
 "nbformat": 4,
 "nbformat_minor": 4
}

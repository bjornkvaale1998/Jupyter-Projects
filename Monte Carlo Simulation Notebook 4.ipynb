{
 "cells": [
  {
   "cell_type": "markdown",
   "metadata": {},
   "source": [
    "# Homework #5: Simulation and Probability\n",
    "\n",
    "This notebook contains solutions to ORIE 4580 Homework #5 by Cassidy Cao (cjc379) and Bjorn Kvaale (bek67).  \n",
    "It demonstrates simulation techniques and probability calculations using Python.  \n",
    "Each section is clearly labeled by question and part, with code and explanations provided for each step.  \n",
    "Please refer to the markdown cells for descriptions and the code cells for implementation details."
   ]
  },
  {
   "cell_type": "markdown",
   "metadata": {},
   "source": [
    "**Import packages:**"
   ]
  },
  {
   "cell_type": "code",
   "execution_count": 3,
   "metadata": {},
   "outputs": [],
   "source": [
    "import numpy as np\n",
    "import pandas as pd\n",
    "import scipy.stats as scs\n",
    "import scipy.linalg as scl\n",
    "import scipy.integrate as integrate\n",
    "from scipy.integrate import quad, dblquad\n",
    "from matplotlib import pyplot as plt\n",
    "from mpl_toolkits.mplot3d import axes3d\n",
    "import math"
   ]
  },
  {
   "cell_type": "markdown",
   "metadata": {},
   "source": [
    "### Question #1"
   ]
  },
  {
   "cell_type": "markdown",
   "metadata": {},
   "source": [
    "#### Part A:"
   ]
  },
  {
   "cell_type": "code",
   "execution_count": 52,
   "metadata": {},
   "outputs": [],
   "source": [
    "#draw 5 cards at random\n",
    "#use U(0,1) with numpy.random.random\n"
   ]
  },
  {
   "cell_type": "markdown",
   "metadata": {},
   "source": [
    "#### Part B:"
   ]
  },
  {
   "cell_type": "markdown",
   "metadata": {},
   "source": [
    "The program will check to see whether you have obtained a small stretch by..."
   ]
  },
  {
   "cell_type": "markdown",
   "metadata": {},
   "source": [
    "#### Part C:"
   ]
  },
  {
   "cell_type": "code",
   "execution_count": 53,
   "metadata": {},
   "outputs": [],
   "source": [
    "def small_stretch():\n",
    "    cards = []\n",
    "    values =[]\n",
    "    suits = []\n",
    "    while len(cards) < 5:\n",
    "        U= np.random.random()\n",
    "        card_value = math.ceil(U*52)\n",
    "        true_value = math.ceil(card_value/4)\n",
    "        suit_opt = [\"S\", \"H\", \"D\", \"C\"]\n",
    "        suit = suit_opt[(card_value%4)] \n",
    "        if card_value not in cards:\n",
    "            cards.append(card_value)\n",
    "            values.append(true_value)\n",
    "            suits.append(suit)\n",
    "    low_card = min(values)\n",
    "    high_card = max(values)\n",
    "    if high_card-low_card <= 2:\n",
    "        val = 1\n",
    "        small_stretch = \"This set of cards is a small stretch\"\n",
    "    else: \n",
    "        val = 0\n",
    "        small_stretch = \"This set of cards is not a small stretch\"\n",
    "    return cards, values, suits, val, small_stretch\n",
    "\n",
    "\n",
    "\n",
    "def est_prob_sm_str(sims):\n",
    "    small_stretches = []\n",
    "    for i in range(sims):\n",
    "        x = small_stretch()\n",
    "        if x[3] == 1 :\n",
    "            small_stretches.append(1)\n",
    "        else:\n",
    "            small_stretches.append(0)\n",
    "    return np.mean(small_stretches)"
   ]
  },
  {
   "cell_type": "code",
   "execution_count": 55,
   "metadata": {},
   "outputs": [
    {
     "name": "stdout",
     "output_type": "stream",
     "text": [
      "([5, 27, 31, 26, 39], [2, 7, 8, 7, 10], ['H', 'C', 'C', 'D', 'C'], 0, 'This set of cards is not a small stretch')\n",
      "([9, 50, 40, 36, 4], [3, 13, 10, 9, 1], ['H', 'D', 'S', 'S', 'S'], 0, 'This set of cards is not a small stretch')\n",
      "([35, 5, 11, 18, 14], [9, 2, 3, 5, 4], ['C', 'H', 'C', 'D', 'D'], 0, 'This set of cards is not a small stretch')\n",
      "0.003199\n"
     ]
    }
   ],
   "source": [
    "print(small_stretch())\n",
    "print(small_stretch())\n",
    "print(small_stretch())\n",
    "print(est_prob_sm_str(1000000))"
   ]
  },
  {
   "cell_type": "markdown",
   "metadata": {},
   "source": [
    "### Question #2"
   ]
  },
  {
   "cell_type": "markdown",
   "metadata": {},
   "source": [
    "#### Part A:"
   ]
  },
  {
   "cell_type": "code",
   "execution_count": 56,
   "metadata": {},
   "outputs": [],
   "source": [
    "def lam(t):\n",
    "    return ((t)**3+1)*((7.2-t)**2)/300"
   ]
  },
  {
   "cell_type": "code",
   "execution_count": 57,
   "metadata": {},
   "outputs": [],
   "source": [
    "sims= np.arange(0,6.01,.01)\n",
    "lams=lam(sims)\n",
    "max_lam = max(lams)"
   ]
  },
  {
   "cell_type": "code",
   "execution_count": 58,
   "metadata": {},
   "outputs": [],
   "source": [
    "def customer_arrivals():\n",
    "    time_passed = 0\n",
    "    time = 6\n",
    "    arrival_times=[]\n",
    "    while time_passed < time:\n",
    "        time_U= np.random.uniform(0,1)\n",
    "        inter_time=(-math.log(1-time_U)/max_lam)/60\n",
    "        current_lam =lam(time_passed)\n",
    "        thin_U = np.random.uniform(0,1)\n",
    "        if thin_U <= (current_lam/max_lam):\n",
    "            time_passed += inter_time\n",
    "            arrival_times.append(time_passed)  \n",
    "        else:\n",
    "            time_passed += inter_time\n",
    "    if max(arrival_times)> time:\n",
    "        arrival_times.pop()      \n",
    "        return arrival_times, len(arrival_times)\n",
    "    else: \n",
    "        return arrival_times, len(arrival_times)"
   ]
  },
  {
   "cell_type": "code",
   "execution_count": 59,
   "metadata": {},
   "outputs": [
    {
     "data": {
      "text/plain": [
       "(array([  9.,  32.,  48.,  78., 114.,  97.,  70.]),\n",
       " array([0.01569936, 0.87031251, 1.72492566, 2.57953881, 3.43415196,\n",
       "        4.28876511, 5.14337826, 5.99799141]),\n",
       " <BarContainer object of 7 artists>)"
      ]
     },
     "execution_count": 59,
     "metadata": {},
     "output_type": "execute_result"
    },
    {
     "data": {
      "image/png": "[encoded data removed]",
      "text/plain": [
       "<Figure size 432x288 with 1 Axes>"
      ]
     },
     "metadata": {
      "needs_background": "light"
     },
     "output_type": "display_data"
    }
   ],
   "source": [
    "Part_2A = customer_arrivals()\n",
    "plt.hist(Part_2A[0], bins= 7)"
   ]
  },
  {
   "cell_type": "code",
   "execution_count": 60,
   "metadata": {},
   "outputs": [
    {
     "data": {
      "text/plain": [
       "[<matplotlib.lines.Line2D at 0x1d6a82e9820>]"
      ]
     },
     "execution_count": 60,
     "metadata": {},
     "output_type": "execute_result"
    },
    {
     "data": {
      "image/png": "[encoded data removed]",
      "text/plain": [
       "<Figure size 432x288 with 1 Axes>"
      ]
     },
     "metadata": {
      "needs_background": "light"
     },
     "output_type": "display_data"
    }
   ],
   "source": [
    "plt.hist(Part_2A[0], bins= 7,density = True)\n",
    "intensity_func_scaled = (lams/integrate.quad(lam, 0,6)[0])\n",
    "plt.plot(sims, intensity_func_scaled,'orange')"
   ]
  },
  {
   "cell_type": "markdown",
   "metadata": {},
   "source": [
    "#### Part B:"
   ]
  },
  {
   "cell_type": "code",
   "execution_count": 61,
   "metadata": {},
   "outputs": [
    {
     "name": "stdout",
     "output_type": "stream",
     "text": [
      "460.224\n"
     ]
    }
   ],
   "source": [
    "def expect_lam(t):\n",
    "    return ((t/60)**3+1)*((7.2-(t/60))**2)/300\n",
    "expect_customers= integrate.quad(expect_lam, 0,360)[0]\n",
    "print(expect_customers)"
   ]
  },
  {
   "cell_type": "markdown",
   "metadata": {},
   "source": [
    "#### Part C:"
   ]
  },
  {
   "cell_type": "code",
   "execution_count": 62,
   "metadata": {},
   "outputs": [
    {
     "name": "stdout",
     "output_type": "stream",
     "text": [
      "21.452831980883083\n"
     ]
    }
   ],
   "source": [
    "variance = expect_customers\n",
    "std_dev = math.sqrt(variance)\n",
    "print(std_dev)"
   ]
  },
  {
   "cell_type": "markdown",
   "metadata": {},
   "source": [
    "### Question #3"
   ]
  },
  {
   "cell_type": "code",
   "execution_count": 63,
   "metadata": {},
   "outputs": [],
   "source": [
    "# to generate all the arrivals\n",
    "def lam_function(x,y):\n",
    "    return (1.25+math.sin(x))*(1.25+math.cos(y))\n",
    "\n",
    "max_x_val = math.pi/2\n",
    "max_y_val = 0\n",
    "max_lam= lam_function(max_x_val, max_y_val)\n",
    "\n",
    "minimum= -math.pi/2\n",
    "maximum= 15*math.pi/2\n",
    "num_points = np.random.poisson(max_lam*((maximum-minimum)**2))\n",
    "\n",
    "def square():\n",
    "    x_val = []\n",
    "    y_val = []\n",
    "    for i in range(num_points):n\n",
    "        x= np.random.uniform(minimum,maximum)\n",
    "        y= np.random.uniform(minimum,maximum)\n",
    "        current_lam = lam_function(x,y)\n",
    "        thin_U = np.random.uniform(0,1)\n",
    "        if thin_U <= (current_lam/max_lam):\n",
    "            x_val.append(x)\n",
    "            y_val.append(y)\n",
    "    return x_val,y_val"
   ]
  },
  {
   "cell_type": "code",
   "execution_count": 65,
   "metadata": {},
   "outputs": [
    {
     "data": {
      "image/png": "[encoded data removed]",
      "text/plain": [
       "<Figure size 432x288 with 1 Axes>"
      ]
     },
     "metadata": {
      "needs_background": "light"
     },
     "output_type": "display_data"
    }
   ],
   "source": [
    "run = square()\n",
    "plt.xlim(minimum,maximum)\n",
    "plt.ylim(minimum,maximum)\n",
    "plt.scatter(run[0], run[1], s=1)\n",
    "plt.show()"
   ]
  },
  {
   "cell_type": "code",
   "execution_count": null,
   "metadata": {},
   "outputs": [],
   "source": []
  }
 ],
 "metadata": {
  "kernelspec": {
   "display_name": "Python 3 (ipykernel)",
   "language": "python",
   "name": "python3"
  },
  "language_info": {
   "codemirror_mode": {
    "name": "ipython",
    "version": 3
   },
   "file_extension": ".py",
   "mimetype": "text/x-python",
   "name": "python",
   "nbconvert_exporter": "python",
   "pygments_lexer": "ipython3",
   "version": "3.11.4"
  }
 },
 "nbformat": 4,
 "nbformat_minor": 4
}

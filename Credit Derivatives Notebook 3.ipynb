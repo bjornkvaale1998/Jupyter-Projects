{
 "cells": [
  {
   "cell_type": "markdown",
   "id": "8eeca63c",
   "metadata": {},
   "source": [
    "# Interest Rate Derivatives\n",
    "\n",
    "This notebook contains solutions to a set of problems related to interest rate derivatives, including the Hull–White and Vasicek models, bond and option pricing, and swap valuation. Each problem is accompanied by detailed calculations, code implementations, and results. The workflow demonstrates the application of quantitative finance techniques using Python, with supporting visualizations and references to relevant lecture materials. The notebook is organized by problem, with markdown cells providing explanations and code cells containing the computational steps."
   ]
  },
  {
   "cell_type": "code",
   "execution_count": 128,
   "id": "7d9fc891",
   "metadata": {},
   "outputs": [],
   "source": [
    "import pandas as pd\n",
    "import numpy as np\n",
    "import matplotlib.pyplot as plt \n",
    "import yfinance as yf\n",
    "import math\n",
    "from scipy.stats import norm\n",
    "from sympy import symbols, Eq, solve"
   ]
  },
  {
   "cell_type": "markdown",
   "id": "cb405987",
   "metadata": {},
   "source": [
    "## Problem 1\n",
    "\n",
    "In the Hull–White model, a = 0.08 and σ = 0.02 . Calculate the price of a one-year European call\n",
    "option on a zero-coupon bond that will mature in five years when the term structure is flat at 5%, the\n",
    "principal of the bond is \\\\$100, and the strike price is \\\\$ 70.\n"
   ]
  },
  {
   "cell_type": "code",
   "execution_count": 44,
   "id": "7d30794b",
   "metadata": {},
   "outputs": [],
   "source": [
    "def hull_white_call(L, K, a, sigma, T, s, term_struc):\n",
    "    P_s = np.exp(-term_struc*s)\n",
    "    P_T = np.exp(-term_struc*T)\n",
    "    \n",
    "    sig_p = (sigma/a)*(1-np.exp(-a*(s-T)))*np.sqrt((1-np.exp(-2*a*T))/(2*a))\n",
    "    h = (1/sig_p)*np.log((L*P_s)/(K*P_T)) + sig_p/2\n",
    "    print(sig_p,h,P_s,P_T)\n",
    "    price = L*P_s*norm.cdf(h) - K*P_T*norm.cdf(h-sig_p)\n",
    "    \n",
    "    return price"
   ]
  },
  {
   "cell_type": "code",
   "execution_count": 45,
   "id": "0a219901",
   "metadata": {},
   "outputs": [
    {
     "name": "stdout",
     "output_type": "stream",
     "text": [
      "0.06581336189047297 2.4135014331092695 0.7788007830714049 0.951229424500714\n"
     ]
    },
    {
     "data": {
      "text/plain": [
       "11.307679858959219"
      ]
     },
     "execution_count": 45,
     "metadata": {},
     "output_type": "execute_result"
    }
   ],
   "source": [
    "a = 0.08\n",
    "sigma = .02\n",
    "L= 100\n",
    "K=70\n",
    "term_struc = .05\n",
    "T= 1\n",
    "s= 5\n",
    "hull_white_call(L, K, a, sigma, T, s, term_struc)"
   ]
  },
  {
   "cell_type": "markdown",
   "id": "54b80631",
   "metadata": {},
   "source": [
    "## Problem 2 \n",
    "Consider the example in Lecture Notes in Week 6 and implement an algorithm to calculate the interest\n",
    "rates for 6 months (Δ𝑡 = 1 month). The risk-neutral dynamics of the Vasicek model is given by the\n",
    "following stochastic process:\n",
    "𝑑𝑟 = 𝑘(𝜃 − 𝑟)𝑑𝑡 + 𝜎𝑑𝑊\n",
    "where 𝑘 = 0.025, 𝜎 = 126 basis points per year, 𝑟0 = 5.121%, and 𝜃 = 15.339%.\n",
    "<br>\n",
    "a) Report the interest rate values on the terminal nodes at Δ𝑡 = 6 months.\n",
    "<br>\n",
    "b) Calculate the price of a zero-coupon bond with maturity in 6 months with face value 100.\n",
    "<br>\n",
    "c) Calculate the price of a European call option that expires in T = 3 months with strike \\\\$90 on the\n",
    "zero-coupon bond that matures at s = 6 months.\n",
    "<br>\n",
    "d) Calculate the price of an American call option that expires T = 3 months with strike \\\\$90 on the\n",
    "zero-coupon bond that matures at s = 6 months."
   ]
  },
  {
   "cell_type": "markdown",
   "id": "0972b65a",
   "metadata": {},
   "source": [
    "<img src=\"FE 680 Hw 3 Prob 2-1.png\" alt ='See Excel Sheet'/>"
   ]
  },
  {
   "cell_type": "markdown",
   "id": "61b1f7ca",
   "metadata": {},
   "source": [
    "<img src=\"FE 680 Hw 3 Prob 2-2.png\" alt ='See Excel Sheet'/>"
   ]
  },
  {
   "cell_type": "markdown",
   "id": "c962b809",
   "metadata": {},
   "source": [
    "b. We see that our bond is worth 97.44638 \n",
    "<br>\n",
    "c. Euro Call is 9.446\n",
    "<br>\n",
    "d. Amer Call is 9.574"
   ]
  },
  {
   "cell_type": "markdown",
   "id": "81bce4ad",
   "metadata": {},
   "source": [
    "## Problem 3\n",
    "Risk-free zero rates are flat at 5% in the U.S and flat at 9% in Australia (both rates are annually\n",
    "compounded). In a 4-year differential swap Australian floating risk-free rate is received and 8% is paid\n",
    "with both being applied to a USD principal of \\\\$10 million. Payments are exchanged annually. The\n",
    "volatility of all 1-year forward rates in Australia is estimated to be 30%, the volatility of the forward\n",
    "USD/AUD exchange rate (AUD per USD) is 20% for all maturities, and the correlation between the two is\n",
    "0.3. What is the value of the swap?"
   ]
  },
  {
   "cell_type": "markdown",
   "id": "5ff381d8",
   "metadata": {},
   "source": [
    "<img src=\"FE 680 Hw 3 Prob 3.png\" alt ='See Excel Sheet'/>"
   ]
  },
  {
   "cell_type": "markdown",
   "id": "96e0df0b",
   "metadata": {},
   "source": [
    "Value of swap is 494705 dollars"
   ]
  },
  {
   "cell_type": "markdown",
   "id": "376f36f7",
   "metadata": {},
   "source": [
    "## Problem 4\n",
    "Calculate the alternative duration measure for a 2-year bond with principal of \\\\$100 paying coupon\n",
    "semiannually at the rate of \\\\$3 per year when Vasicek’s model is used with 𝑎 = 0.13, 𝑏 = 0.012, 𝜎 =\n",
    "0.01, and 𝑟 = 1%. Show that it correctly predicts the effect of an increase in r to 1.05%"
   ]
  },
  {
   "cell_type": "markdown",
   "id": "7f502699",
   "metadata": {},
   "source": [
    "<img src=\"FE 680 Hw 3 Prob 4.png\" alt ='See Excel Sheet'/>"
   ]
  },
  {
   "cell_type": "markdown",
   "id": "cc1ad1cc",
   "metadata": {},
   "source": [
    "1.72536 is the alternative duration"
   ]
  },
  {
   "cell_type": "code",
   "execution_count": null,
   "id": "f6debab6",
   "metadata": {},
   "outputs": [],
   "source": []
  }
 ],
 "metadata": {
  "kernelspec": {
   "display_name": "Python 3 (ipykernel)",
   "language": "python",
   "name": "python3"
  },
  "language_info": {
   "codemirror_mode": {
    "name": "ipython",
    "version": 3
   },
   "file_extension": ".py",
   "mimetype": "text/x-python",
   "name": "python",
   "nbconvert_exporter": "python",
   "pygments_lexer": "ipython3",
   "version": "3.11.4"
  }
 },
 "nbformat": 4,
 "nbformat_minor": 5
}

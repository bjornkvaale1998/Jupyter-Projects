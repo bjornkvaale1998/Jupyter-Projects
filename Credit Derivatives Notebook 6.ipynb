{
 "cells": [
  {
   "cell_type": "markdown",
   "id": "d50b259a",
   "metadata": {},
   "source": [
    "# Credit Risk and Interest Rate Modeling Notebook\n",
    "\n",
    "This notebook explores advanced topics in fixed income and credit risk modeling. It covers the construction and interpolation of yield curves using cubic splines, pricing of zero-coupon bonds, and the calculation of portfolio sensitivities such as duration and convexity. The notebook also compares the Vasicek and CIR interest rate models, including their impact on bond prices and yields.\n",
    "\n",
    "Further sections address convexity adjustments for derivatives, quanto adjustments for cross-currency swaps, and the pricing and risk analysis of credit tranches using binomial models. The final problems simulate correlated default times for a portfolio of credits, providing summary statistics and visualizations for maximum, mean, and minimum time to default.\n",
    "\n",
    "Throughout, the notebook combines mathematical derivations, Python implementations, and graphical analysis to provide a comprehensive view of modern credit and interest rate risk management techniques."
   ]
  },
  {
   "cell_type": "code",
   "execution_count": 1,
   "id": "ce96b67f",
   "metadata": {},
   "outputs": [],
   "source": [
    "import pandas as pd\n",
    "import numpy as np\n",
    "import math\n",
    "import matplotlib.pyplot as plt\n",
    "from numpy.linalg import inv\n",
    "from scipy.stats import norm, binom\n",
    "from scipy.special import ndtri\n",
    "from sympy import symbols, Eq, solve\n",
    "from sympy.abc import x,y,z"
   ]
  },
  {
   "cell_type": "markdown",
   "id": "811b40e6",
   "metadata": {},
   "source": [
    "## Problem 1\n",
    "a.\n",
    "<br>\n",
    "The yield  of a 2 year zero coupon bond with cubic spline interpolation is 4.911%.\n",
    "<br>\n",
    "<br>\n",
    "b.\n",
    "<br>\n",
    "You will go long 1.04319914410360 6 month zero coupon bonds, while shorting 1.88605821059907 1 year zero coupon bonds and 0.158885340363181 4 year zero coupon bonds. This funds the purchase of one 2 year zero coupon bond while leaving the portfolio of bonds insensitive to 1st and 2nd order change in yield."
   ]
  },
  {
   "cell_type": "code",
   "execution_count": 2,
   "id": "663843a0",
   "metadata": {},
   "outputs": [],
   "source": [
    "def cubic_spline_coeff(maturities, yields):\n",
    "    t= maturities\n",
    "    \n",
    "    n = len(yields)\n",
    "    A = np.zeros((n+2,n+2)) \n",
    "    rates = np.append(yields , [0,0])\n",
    "    ## j = col, i = row\n",
    "    for i in range(n):\n",
    "        for j in range(n+2):\n",
    "            if j == 0:\n",
    "                A[i,j] = 1\n",
    "            elif j==1:\n",
    "                A[i,j] = (t[i]-t[0])\n",
    "            elif j==2:\n",
    "                A[i,j] = (t[i]-t[0])**2\n",
    "            else:\n",
    "                A[i,j]= max((t[i]-t[j-3]),0)**3\n",
    "                \n",
    "    for i in range(n,n+2):\n",
    "        for j in range(n+2):\n",
    "            if j==2:\n",
    "                A[i,j] = 2\n",
    "            elif j>2 and i == n+1:\n",
    "                A[i,j] = 6*(t[n-1]-t[j-3])\n",
    "                \n",
    "    coeff = np.linalg.solve(A, rates)\n",
    "    \n",
    "    return A, rates, coeff\n",
    "\n",
    "def estimate_yield_rate(a, b, c, ds, t, maturities):\n",
    "    cube_term = 0\n",
    "    for i in range(len(ds)):\n",
    "        add = ds[i]*max((t-maturities[i])**3,0)\n",
    "        cube_term = cube_term + add\n",
    "    \n",
    "    r = a + b*(t-maturities[0]) + c*((t-maturities[0])**2) + cube_term\n",
    "    return r\n",
    "\n",
    "\n",
    "def bond_price(y,t_maturity, face):\n",
    "    return face/((y+1)**t_maturity)"
   ]
  },
  {
   "cell_type": "code",
   "execution_count": 3,
   "id": "4ca1fa33",
   "metadata": {},
   "outputs": [],
   "source": [
    "maturities = np.array([.5, 1, 4])  # Maturities in years\n",
    "yields = np.array([.0543, .0520, .0480])  # Corresponding yields\n",
    "\n",
    "coeff = cubic_spline_coeff(maturities, yields)[2] \n",
    "a = coeff[0]\n",
    "b = coeff[1]\n",
    "c = coeff[2]\n",
    "ds = coeff[3:]"
   ]
  },
  {
   "cell_type": "code",
   "execution_count": 4,
   "id": "7b36b674",
   "metadata": {},
   "outputs": [
    {
     "name": "stdout",
     "output_type": "stream",
     "text": [
      "The yield of a zero coupon bond at t=2 is 4.911%\n"
     ]
    }
   ],
   "source": [
    "t = 2\n",
    "y_2 = estimate_yield_rate(a, b, c, ds, t, maturities)\n",
    "print('The yield of a zero coupon bond at t=2 is '+str(round(y_2*100,3))+ '%')"
   ]
  },
  {
   "cell_type": "code",
   "execution_count": 5,
   "id": "956aab94",
   "metadata": {},
   "outputs": [
    {
     "data": {
      "image/png": "[encoded data removed]",
      "text/plain": [
       "<Figure size 640x480 with 1 Axes>"
      ]
     },
     "metadata": {},
     "output_type": "display_data"
    }
   ],
   "source": [
    "ts = np.arange(.25, 5, .01)\n",
    "yield_curve = []\n",
    "for t in ts:\n",
    "    y = estimate_yield_rate(a, b, c, ds, t, maturities)\n",
    "    yield_curve.append(y)\n",
    "plt.scatter(maturities, yields, color='blue')\n",
    "plt.scatter(2,estimate_yield_rate(a, b, c, ds, 2, maturities), color = 'red')\n",
    "plt.plot(ts, yield_curve)\n",
    "plt.show()"
   ]
  },
  {
   "cell_type": "code",
   "execution_count": 6,
   "id": "c0831452",
   "metadata": {},
   "outputs": [],
   "source": [
    "B_half = bond_price(yields[0],maturities[0], 1)\n",
    "B_1 = bond_price(yields[1],maturities[1], 1)\n",
    "B_2 = bond_price(y_2,2, 1)\n",
    "B_4 = bond_price(yields[2],maturities[2], 1)"
   ]
  },
  {
   "cell_type": "code",
   "execution_count": 7,
   "id": "a57d72f6",
   "metadata": {},
   "outputs": [],
   "source": [
    "prices = [B_half,B_1,B_2,B_4]\n",
    "mats = [.5,1,2,4]\n",
    "yields = [.0543,.052,y_2,.048]"
   ]
  },
  {
   "cell_type": "code",
   "execution_count": 8,
   "id": "f19d27c6",
   "metadata": {},
   "outputs": [
    {
     "data": {
      "text/plain": [
       "[0.6571291716982496, 1.717840257567196, 4.952965509758235, 15.096014342635486]"
      ]
     },
     "execution_count": 8,
     "metadata": {},
     "output_type": "execute_result"
    }
   ],
   "source": [
    "durations = mats\n",
    "convexities = []\n",
    "for i in range(len(mats)):\n",
    "    convexity = (mats[i]**2+mats[i])/((1+yields[i])**(mats[i]+2))\n",
    "    convexities.append(convexity)\n",
    "convexities"
   ]
  },
  {
   "cell_type": "code",
   "execution_count": 9,
   "id": "96d48f9d",
   "metadata": {},
   "outputs": [
    {
     "data": {
      "text/plain": [
       "{x: 1.04319914410360, y: -1.88605821059907, z: -0.158885340363181}"
      ]
     },
     "execution_count": 9,
     "metadata": {},
     "output_type": "execute_result"
    }
   ],
   "source": [
    "from sympy import symbols, Eq, solve\n",
    "from sympy.abc import x,y,z\n",
    "equations = [x*durations[0] + y*durations[1] +z*durations[3] + durations[2] , \n",
    "             x*convexities[0] + y*convexities[1] +z*convexities[3] + convexities[2],\n",
    "             x*prices[0] + y*prices[1] +z*prices[3] + prices[2]]\n",
    "solutions = solve(equations, x, y, z)\n",
    "solutions"
   ]
  },
  {
   "cell_type": "markdown",
   "id": "90d8225f",
   "metadata": {},
   "source": [
    "## Problem 2\n",
    "\n",
    "In the table below there shows the prices of a 1 dollar bond with the Vasicek and CIR interest rate models. It also provides the yields for each model. We also have graphs comparing the models below.\n",
    "<br>\n",
    "<br>\n",
    "a.\n",
    "<br>\n",
    "The Vasicek and CIR model are very similar, but as the maturity increases, the prices diverge slightly with the CIR model providing a lower price than the Vasicek model. \n",
    "<br>\n",
    "<br>\n",
    "b.\n",
    "<br>\n",
    "The yield of the models diverge relatively soon with the CIR model providing a much more consistent(flatter) yield curve than the Vasicek model. The Vasicek model's yield decreases much quicker than the CIR yield curve."
   ]
  },
  {
   "cell_type": "code",
   "execution_count": 10,
   "id": "7b3b267d",
   "metadata": {},
   "outputs": [],
   "source": [
    "def Vasicek_bond_price(a,b,sigma,r,T,t):\n",
    "    r_t = r\n",
    "    sig= sigma\n",
    "    B_t_T = (1-np.exp(-a*(T-t)))/a\n",
    "    A_t_T = np.exp(((B_t_T-T+t)*((a**2)*b-(sig**2)/2))/(a**2) - (sig**2)*(B_t_T**2)/(4*a))\n",
    "    Price = A_t_T*np.exp(-B_t_T*r_t)\n",
    "    return Price\n",
    "    \n",
    "def CIR_bond_price(a,b,sigma,r,T,t):\n",
    "    r_t = r\n",
    "    sig = sigma\n",
    "    gamma = np.sqrt(a**2+2*(sig**2))\n",
    "    gamma_exp = np.exp(gamma*(T-t))-1\n",
    "    B_t_T = 2*gamma_exp/((gamma+a)*gamma_exp +2*gamma)\n",
    "    A_t_T = (2*gamma*np.exp((a+gamma)*(T-t)/2)/((gamma+a)*gamma_exp +2*gamma))**(2*a*b/(sig)**2)\n",
    "    Price = A_t_T*np.exp(-B_t_T*r_t)\n",
    "    return Price\n",
    "\n",
    "def bond_yield(price, t):\n",
    "    return (1/price)**(1/t)-1"
   ]
  },
  {
   "cell_type": "code",
   "execution_count": 11,
   "id": "b2f67602",
   "metadata": {},
   "outputs": [
    {
     "data": {
      "text/html": [
       "<div>\n",
       "<style scoped>\n",
       "    .dataframe tbody tr th:only-of-type {\n",
       "        vertical-align: middle;\n",
       "    }\n",
       "\n",
       "    .dataframe tbody tr th {\n",
       "        vertical-align: top;\n",
       "    }\n",
       "\n",
       "    .dataframe thead th {\n",
       "        text-align: right;\n",
       "    }\n",
       "</style>\n",
       "<table border=\"1\" class=\"dataframe\">\n",
       "  <thead>\n",
       "    <tr style=\"text-align: right;\">\n",
       "      <th></th>\n",
       "      <th>Vasicek Prices</th>\n",
       "      <th>CIR Prices</th>\n",
       "      <th>Vasicek Yields</th>\n",
       "      <th>CIR Yields</th>\n",
       "    </tr>\n",
       "  </thead>\n",
       "  <tbody>\n",
       "    <tr>\n",
       "      <th>2</th>\n",
       "      <td>0.819108</td>\n",
       "      <td>0.818768</td>\n",
       "      <td>0.104917</td>\n",
       "      <td>0.105145</td>\n",
       "    </tr>\n",
       "    <tr>\n",
       "      <th>4</th>\n",
       "      <td>0.672465</td>\n",
       "      <td>0.670534</td>\n",
       "      <td>0.104288</td>\n",
       "      <td>0.105083</td>\n",
       "    </tr>\n",
       "    <tr>\n",
       "      <th>6</th>\n",
       "      <td>0.553998</td>\n",
       "      <td>0.549327</td>\n",
       "      <td>0.103440</td>\n",
       "      <td>0.104998</td>\n",
       "    </tr>\n",
       "    <tr>\n",
       "      <th>8</th>\n",
       "      <td>0.458196</td>\n",
       "      <td>0.450205</td>\n",
       "      <td>0.102475</td>\n",
       "      <td>0.104902</td>\n",
       "    </tr>\n",
       "    <tr>\n",
       "      <th>10</th>\n",
       "      <td>0.380457</td>\n",
       "      <td>0.369112</td>\n",
       "      <td>0.101462</td>\n",
       "      <td>0.104801</td>\n",
       "    </tr>\n",
       "  </tbody>\n",
       "</table>\n",
       "</div>"
      ],
      "text/plain": [
       "    Vasicek Prices  CIR Prices  Vasicek Yields  CIR Yields\n",
       "2         0.819108    0.818768        0.104917    0.105145\n",
       "4         0.672465    0.670534        0.104288    0.105083\n",
       "6         0.553998    0.549327        0.103440    0.104998\n",
       "8         0.458196    0.450205        0.102475    0.104902\n",
       "10        0.380457    0.369112        0.101462    0.104801"
      ]
     },
     "execution_count": 11,
     "metadata": {},
     "output_type": "execute_result"
    }
   ],
   "source": [
    "Ts= [2,4,6,8,10]\n",
    "t=0\n",
    "a=.1\n",
    "b=.1\n",
    "sigma = .02\n",
    "r= .1\n",
    "V_prices =[]\n",
    "C_prices = []\n",
    "V_yields = []\n",
    "C_yields = []\n",
    "for T in Ts:\n",
    "    v_p = Vasicek_bond_price(a,b,sigma,r,T,t)\n",
    "    c_p = CIR_bond_price(a,b,sigma,r,T,t)\n",
    "    V_prices.append(v_p)\n",
    "    C_prices.append(c_p)\n",
    "    v_y= bond_yield(v_p,T)\n",
    "    c_y = bond_yield(c_p,T)\n",
    "    V_yields.append(v_y)\n",
    "    C_yields.append(c_y)\n",
    "d = {'Vasicek Prices': V_prices, 'CIR Prices': C_prices, 'Vasicek Yields': V_yields, 'CIR Yields': C_yields}\n",
    "z_coup_p_df = pd.DataFrame(d, index = Ts)\n",
    "z_coup_p_df"
   ]
  },
  {
   "cell_type": "code",
   "execution_count": 12,
   "id": "c4a57412",
   "metadata": {},
   "outputs": [],
   "source": [
    "T_s = np.arange(0.01,10.01,.01)\n",
    "V_prices =[]\n",
    "C_prices = []\n",
    "V_yields = []\n",
    "C_yields = []\n",
    "for T in T_s:\n",
    "    v_p = Vasicek_bond_price(a,b,sigma,r,T,t)\n",
    "    c_p = CIR_bond_price(a,b,sigma,r,T,t)\n",
    "    V_prices.append(v_p)\n",
    "    C_prices.append(c_p)\n",
    "    v_y= bond_yield(v_p,T)\n",
    "    c_y = bond_yield(c_p,T)\n",
    "    V_yields.append(v_y)\n",
    "    C_yields.append(c_y)"
   ]
  },
  {
   "cell_type": "code",
   "execution_count": 13,
   "id": "26fbae8e",
   "metadata": {},
   "outputs": [
    {
     "data": {
      "image/png": "[encoded data removed]",
      "text/plain": [
       "<Figure size 640x480 with 1 Axes>"
      ]
     },
     "metadata": {},
     "output_type": "display_data"
    }
   ],
   "source": [
    "plt.plot(T_s, V_prices, label = 'Vasicek Prices')\n",
    "plt.plot(T_s, C_prices, label = 'CIR Prices')\n",
    "plt.legend()\n",
    "plt.title(\"1$ Bond Prices\")\n",
    "plt.xlabel('Maturities')\n",
    "plt.ylabel('Bond Price')\n",
    "plt.show()"
   ]
  },
  {
   "cell_type": "code",
   "execution_count": 14,
   "id": "82397cc6",
   "metadata": {},
   "outputs": [
    {
     "data": {
      "image/png": "[encoded data removed]",
      "text/plain": [
       "<Figure size 640x480 with 1 Axes>"
      ]
     },
     "metadata": {},
     "output_type": "display_data"
    }
   ],
   "source": [
    "plt.plot(T_s, V_yields, label= 'Vasicek Yields')\n",
    "plt.plot(T_s, C_yields, label= 'CIR Yields')\n",
    "plt.legend()\n",
    "plt.title('Yields')\n",
    "plt.xlabel('Maturities')\n",
    "plt.ylabel('% Yield')\n",
    "plt.show()"
   ]
  },
  {
   "cell_type": "markdown",
   "id": "e953440c",
   "metadata": {},
   "source": [
    "## Problem 3\n",
    "\n",
    "a.\n",
    "c = .045/2 = .0225\n",
    "\\begin{equation}\n",
    "G(y)= \\Sigma_{i=1}^{6} \\frac{.0225}{(1+\\frac{y}{2})^i} + \\frac{1}{(1+\\frac{y}{2})^6}\n",
    "\\end{equation}\n",
    "\n",
    "\\begin{equation}\n",
    "G'(y)=  \\Sigma_{i=1}^{6} \\frac{-\\frac{.0225}{2}*i}{(1+\\frac{y}{2})^{i+1}} - \\frac{\\frac{1}{2}*6}{(1+\\frac{y}{2})^7}\n",
    "\\end{equation}\n",
    "\n",
    "\\begin{equation}\n",
    "G''(y)=  \\Sigma_{i=1}^{6} \\frac{\\frac{.0225}{4}*i*(i+1)}{(1+\\frac{y}{2})^{i+2}} + \\frac{\\frac{1}{4}*6*7}{(1+\\frac{y}{2})^8}\n",
    "\\end{equation}\n",
    "\n",
    "\\begin{equation}\n",
    "adjustment = y - .5*y^{2}\\sigma_{y}^{2}T\\frac{G''(y)}{G'(y)}\n",
    "\\end{equation}\n",
    "\n",
    "\\begin{equation}\n",
    "Value = \\frac{adjustment*L}{(1+r_{US}/2)^{2T}}\n",
    "\\end{equation}\n",
    "where T=8, y= .045, $\\sigma_{y}$ = .2, L = 2000000, $r_{US}$ = .042\n",
    "<br>\n",
    "<br>\n",
    "The value of the derivative if the swap rate is applied to 2,000,000 dollars is 66,101.39"
   ]
  },
  {
   "cell_type": "code",
   "execution_count": 15,
   "id": "12cdc048",
   "metadata": {},
   "outputs": [],
   "source": [
    "#Convexity adjustment\n",
    "def g_y(c, y, t, n):\n",
    "    periods = t*n\n",
    "    g = 1/((1+y/n)**periods)\n",
    "    for i in range(periods):\n",
    "        g = g + (c/2)/((1+y/n)**(i+1))\n",
    "    return g\n",
    "\n",
    "\n",
    "def g_prime(c, y, t, n):\n",
    "    periods = t*n\n",
    "    g_p = -3/((1+y/n)**(periods+1))\n",
    "    for i in range(periods):\n",
    "        g_p = g_p - ((i+1)*c/4)/((1+y/n)**(i+2))\n",
    "    return g_p\n",
    "\n",
    "\n",
    "def g_double_prime(c, y, t, n):\n",
    "    periods = t*n\n",
    "    g_dp = (1.5*7)/((1+y/n)**(periods+2))\n",
    "    for i in range(periods):\n",
    "        g_dp = g_dp + ((i+2)*(i+1)*c/8)/((1+y/n)**(i+3))\n",
    "    return g_dp\n",
    "\n",
    "\n",
    "def adjustment(c, y, t, n, sig_y, T):\n",
    "    adj_rate = y - .5*(y**2)*(sig_y**2)*T*g_double_prime(c, y, t, n)/g_prime(c, y, t, n)\n",
    "    return adj_rate"
   ]
  },
  {
   "cell_type": "code",
   "execution_count": 16,
   "id": "0460ab87",
   "metadata": {},
   "outputs": [],
   "source": [
    "t = 3\n",
    "n = 2\n",
    "c= .045\n",
    "y= .045\n",
    "sig_y = .2\n",
    "T = 8\n",
    "r= .042\n",
    "L= 2000000"
   ]
  },
  {
   "cell_type": "code",
   "execution_count": 17,
   "id": "761ce531",
   "metadata": {},
   "outputs": [
    {
     "data": {
      "text/plain": [
       "0.046088488597977276"
      ]
     },
     "execution_count": 17,
     "metadata": {},
     "output_type": "execute_result"
    }
   ],
   "source": [
    "adj_rate = adjustment(c, y, t, n, sig_y, T)\n",
    "adj_rate"
   ]
  },
  {
   "cell_type": "code",
   "execution_count": 18,
   "id": "5af08464",
   "metadata": {},
   "outputs": [
    {
     "data": {
      "text/plain": [
       "66101.38947427605"
      ]
     },
     "execution_count": 18,
     "metadata": {},
     "output_type": "execute_result"
    }
   ],
   "source": [
    "adj_rate*L/((1+(r/2))**(T*2))"
   ]
  },
  {
   "cell_type": "markdown",
   "id": "1f1d516a",
   "metadata": {},
   "source": [
    "Part b.\n",
    "<br>\n",
    "vol =.2 for fwd swap, vol .1 for Yen/Dollar, corr .4 exchange and U.S dollar ir, \n",
    "X = Dollar,\n",
    "Y= Yen,\n",
    "L = Principal = 2000000,\n",
    "$r_{yen}$ = .004\n",
    "\\begin{equation}\n",
    "E_{X}(V_{T}) = E_{Y}(V_{T})e^{\\rho_{vw}\\sigma_{v}\\sigma_{w}T}\n",
    "\\end{equation}\n",
    "\\begin{equation}\n",
    "E_{Y}(V_{T}) = \\frac{E_{X}(V_{T})}{e^{\\rho_{vw}\\sigma_{v}\\sigma_{w}T}}\n",
    "\\end{equation}\n",
    "\\begin{equation}\n",
    "Value = \\frac{E_{Y}(V_{T})*L}{(1+r_{yen}/2)^{2T}}\n",
    "\\end{equation}\n",
    "\n",
    "So the value of the derivative is 83,742.14 Yen"
   ]
  },
  {
   "cell_type": "code",
   "execution_count": 19,
   "id": "e1d653f2",
   "metadata": {},
   "outputs": [],
   "source": [
    "E_X = adj_rate\n",
    "vol_v= .2\n",
    "vol_w = .1\n",
    "corr_vw= .4 \n",
    "T=8\n",
    "L=2000000\n",
    "r= .004\n",
    "def quanto_adjustment(corr_vw, vol_v, vol_w, T):\n",
    "    quanto_adj = np.exp(vol_v*vol_w*corr_vw*T)\n",
    "    return quanto_adj"
   ]
  },
  {
   "cell_type": "code",
   "execution_count": 20,
   "id": "2ed8abf3",
   "metadata": {},
   "outputs": [
    {
     "data": {
      "text/plain": [
       "1.0660923987615052"
      ]
     },
     "execution_count": 20,
     "metadata": {},
     "output_type": "execute_result"
    }
   ],
   "source": [
    "quanto_adj = quanto_adjustment(corr_vw, vol_v, vol_w, T)\n",
    "quanto_adj"
   ]
  },
  {
   "cell_type": "code",
   "execution_count": 21,
   "id": "26d1a4fa",
   "metadata": {},
   "outputs": [
    {
     "data": {
      "text/plain": [
       "83742.1430306788"
      ]
     },
     "execution_count": 21,
     "metadata": {},
     "output_type": "execute_result"
    }
   ],
   "source": [
    "E_Y = adj_rate/quanto_adj\n",
    "(E_Y*L)/((1+r/2)**(T*2))"
   ]
  },
  {
   "cell_type": "markdown",
   "id": "3d7dd417",
   "metadata": {},
   "source": [
    "## Problem 4 \n",
    "\n",
    "a.\n",
    "<br>\n",
    "\n",
    "The probability that the senior tranche is wiped out is 0, the probability that the mezzanine tranche is wiped out is 54.278%, and the probability that the equity tranche is wiped out is 99.957%.\n",
    "\n",
    "<br>\n",
    "<br>\n",
    "b.\n",
    "<br>\n",
    "The price of the equity tranche is 535.20 dollars, the price of the mezzanine tranche is 1,415,874.53 dollars, and the price of the senior tranche is 83,583,590.27 dollars."
   ]
  },
  {
   "cell_type": "code",
   "execution_count": 22,
   "id": "5935ab15",
   "metadata": {},
   "outputs": [
    {
     "data": {
      "text/plain": [
       "[0.9995744861829607, 0.542775794224051, 0.0]"
      ]
     },
     "execution_count": 22,
     "metadata": {},
     "output_type": "execute_result"
    }
   ],
   "source": [
    "from scipy.stats import norm, binom\n",
    "n = 100\n",
    "p= .15\n",
    "tranches = np.array([5,10,85])\n",
    "num_defs_needed = tranches.cumsum()\n",
    "pds =[]\n",
    "for defs in num_defs_needed:\n",
    "    pd = 1 - binom.cdf(defs-1,n,p)\n",
    "    pds.append(pd)\n",
    "pds"
   ]
  },
  {
   "cell_type": "code",
   "execution_count": 23,
   "id": "77697859",
   "metadata": {},
   "outputs": [
    {
     "data": {
      "text/plain": [
       "535.2"
      ]
     },
     "execution_count": 23,
     "metadata": {},
     "output_type": "execute_result"
    }
   ],
   "source": [
    "#equity tranche\n",
    "eq_val = 0\n",
    "for i in range(tranches[0]+1):\n",
    "    value = (tranches[0]-i)\n",
    "    prob = binom.pmf(i,n,p)\n",
    "    EV = value*prob\n",
    "    eq_val = eq_val +EV\n",
    "round(eq_val*1000000,2)"
   ]
  },
  {
   "cell_type": "code",
   "execution_count": 24,
   "id": "58e7c47a",
   "metadata": {},
   "outputs": [
    {
     "data": {
      "text/plain": [
       "1415874.53"
      ]
     },
     "execution_count": 24,
     "metadata": {},
     "output_type": "execute_result"
    }
   ],
   "source": [
    "#mezzanine tranche\n",
    "mezz_val = binom.cdf(4,n,p)*tranches[1]\n",
    "for i in range(tranches[1]+1):\n",
    "    value = (tranches[1]-i)\n",
    "    prob = binom.pmf(i+5,n,p)\n",
    "    EV = value*prob\n",
    "    mezz_val = mezz_val +EV\n",
    "round(mezz_val*1000000,2)"
   ]
  },
  {
   "cell_type": "code",
   "execution_count": 25,
   "id": "3e11842a",
   "metadata": {},
   "outputs": [
    {
     "data": {
      "text/plain": [
       "83583590.27"
      ]
     },
     "execution_count": 25,
     "metadata": {},
     "output_type": "execute_result"
    }
   ],
   "source": [
    "#senior tranche\n",
    "sen_val = binom.cdf(14,n,p)*tranches[2]\n",
    "for i in range(tranches[2]+1):\n",
    "    value = (tranches[2]-i)\n",
    "    prob = binom.pmf(i+15,n,p)\n",
    "    EV = value*prob\n",
    "    sen_val = sen_val +EV\n",
    "round(sen_val*1000000,2)"
   ]
  },
  {
   "cell_type": "code",
   "execution_count": 26,
   "id": "1ac1ee9e",
   "metadata": {},
   "outputs": [
    {
     "data": {
      "text/plain": [
       "84.99999999999986"
      ]
     },
     "execution_count": 26,
     "metadata": {},
     "output_type": "execute_result"
    }
   ],
   "source": [
    "eq_val+mezz_val+sen_val"
   ]
  },
  {
   "cell_type": "markdown",
   "id": "8b5f8713",
   "metadata": {},
   "source": [
    "## Problem 5\n",
    "\n",
    "The Hazard Rate $\\lambda$ is 3.46% and the Recovery Rate R is 22.2194% as shown in the Excel Sheet."
   ]
  },
  {
   "cell_type": "markdown",
   "id": "26c7ad95",
   "metadata": {},
   "source": [
    "## Problem 6\n",
    "\n",
    "b. \n",
    "<br>\n",
    "The summary statistics for each of the 10 credits is provided below. We can see the first 5 provide much different results than the last 5. It makes sense the first 5 have a longer time to default because of the lower hazard rate.\n",
    "<br>\n",
    "<br>\n",
    "c.\n",
    "<br>\n",
    "We can see the pdf of the combined and then also of the two sets. The 1st set has a lower mean because of the lower hazard rate and it also has a fatter tail because of the negative correlation. The 2nd set has a lower mean time to default because of the higher hazard rate and due to the positive correlation with the second variable they are more likely to default together lowering the max default times making narrower tails."
   ]
  },
  {
   "cell_type": "code",
   "execution_count": 27,
   "id": "c98652d4",
   "metadata": {},
   "outputs": [],
   "source": [
    "import pandas as pd\n",
    "def latent_var_sim(b_1, b_2s, hazs, t, n, sims):\n",
    "    C_Ts= [] \n",
    "    b_2j,b_2k = b_2s \n",
    "    haz_j, haz_k = hazs   \n",
    "    '''\n",
    "    for j in range(n): \n",
    "        if j < n/2:\n",
    "            Q_T = np.exp(-haz_j*T)\n",
    "        else:\n",
    "            Q_T = np.exp(-haz_k*T)  \n",
    "        CPD = 1-Q_T\n",
    "        C_T = ndtri(CPD)\n",
    "        C_Ts.append(C_T)\n",
    "    '''\n",
    "    rvs = np.random.standard_normal((2+n,sims))\n",
    "    z_1 = rvs[0]\n",
    "    z_2 = rvs[1]\n",
    "    eps = rvs[2:]\n",
    "    A_s = []\n",
    "    u_s = []\n",
    "    default_times = []\n",
    "    means = []\n",
    "    medians = []\n",
    "    mins = []\n",
    "    maxs = []\n",
    "    quartile_1s= []\n",
    "    quartile_3s = []\n",
    "    \n",
    "    for j in range(n):\n",
    "        if j < n/2:\n",
    "            A_n = b_1*z_1+b_2j*z_2+(np.sqrt(1-(b_1**2)-(b_2j**2))*eps[j])\n",
    "            u_n = 1 - norm.cdf(A_n)\n",
    "            Q_inv = np.log(u_n)/(-haz_j)\n",
    "        else:\n",
    "            A_n = b_1*z_1+b_2k*z_2+(np.sqrt(1-(b_1**2)-(b_2k**2))*eps[j])\n",
    "            u_n = 1 - norm.cdf(A_n)\n",
    "            Q_inv = np.log(u_n)/(-haz_k)\n",
    "        A_s.append(A_n)\n",
    "        u_s.append(u_n)\n",
    "        default_times.append(Q_inv)\n",
    "        means.append(np.mean(Q_inv))\n",
    "        medians.append(np.median(Q_inv))\n",
    "        mins.append(np.min(Q_inv))\n",
    "        maxs.append(np.max(Q_inv))\n",
    "        quartile_1s.append(np.quantile(Q_inv,.25))\n",
    "        quartile_3s.append(np.quantile(Q_inv,.75))\n",
    "    col = [ 'Minimum', '1st Quartile','Mean', 'Median', '3rd Quartile','Maximum']\n",
    "    summary_df = pd.DataFrame(np.array([mins,quartile_1s,\n",
    "                                        means,medians,\n",
    "                                        quartile_3s,maxs]).T,\n",
    "                              index = np.arange(1,n+1), columns = col)\n",
    "    \n",
    "    return np.array(default_times), summary_df"
   ]
  },
  {
   "cell_type": "code",
   "execution_count": 28,
   "id": "3c767391",
   "metadata": {},
   "outputs": [
    {
     "data": {
      "text/html": [
       "<div>\n",
       "<style scoped>\n",
       "    .dataframe tbody tr th:only-of-type {\n",
       "        vertical-align: middle;\n",
       "    }\n",
       "\n",
       "    .dataframe tbody tr th {\n",
       "        vertical-align: top;\n",
       "    }\n",
       "\n",
       "    .dataframe thead th {\n",
       "        text-align: right;\n",
       "    }\n",
       "</style>\n",
       "<table border=\"1\" class=\"dataframe\">\n",
       "  <thead>\n",
       "    <tr style=\"text-align: right;\">\n",
       "      <th></th>\n",
       "      <th>Minimum</th>\n",
       "      <th>1st Quartile</th>\n",
       "      <th>Mean</th>\n",
       "      <th>Median</th>\n",
       "      <th>3rd Quartile</th>\n",
       "      <th>Maximum</th>\n",
       "    </tr>\n",
       "  </thead>\n",
       "  <tbody>\n",
       "    <tr>\n",
       "      <th>1</th>\n",
       "      <td>0.000231</td>\n",
       "      <td>27.979175</td>\n",
       "      <td>99.736056</td>\n",
       "      <td>67.966970</td>\n",
       "      <td>138.910399</td>\n",
       "      <td>798.609515</td>\n",
       "    </tr>\n",
       "    <tr>\n",
       "      <th>2</th>\n",
       "      <td>0.000163</td>\n",
       "      <td>28.892144</td>\n",
       "      <td>99.478904</td>\n",
       "      <td>69.598139</td>\n",
       "      <td>136.794525</td>\n",
       "      <td>1045.315134</td>\n",
       "    </tr>\n",
       "    <tr>\n",
       "      <th>3</th>\n",
       "      <td>0.000624</td>\n",
       "      <td>29.383958</td>\n",
       "      <td>100.087522</td>\n",
       "      <td>69.356884</td>\n",
       "      <td>138.305953</td>\n",
       "      <td>1057.016586</td>\n",
       "    </tr>\n",
       "    <tr>\n",
       "      <th>4</th>\n",
       "      <td>0.001235</td>\n",
       "      <td>28.504024</td>\n",
       "      <td>98.204308</td>\n",
       "      <td>68.153987</td>\n",
       "      <td>136.865291</td>\n",
       "      <td>873.523721</td>\n",
       "    </tr>\n",
       "    <tr>\n",
       "      <th>5</th>\n",
       "      <td>0.004674</td>\n",
       "      <td>28.587879</td>\n",
       "      <td>97.862413</td>\n",
       "      <td>68.528302</td>\n",
       "      <td>136.121508</td>\n",
       "      <td>789.649979</td>\n",
       "    </tr>\n",
       "    <tr>\n",
       "      <th>6</th>\n",
       "      <td>0.004867</td>\n",
       "      <td>13.966138</td>\n",
       "      <td>50.147566</td>\n",
       "      <td>34.285731</td>\n",
       "      <td>69.975289</td>\n",
       "      <td>464.326257</td>\n",
       "    </tr>\n",
       "    <tr>\n",
       "      <th>7</th>\n",
       "      <td>0.005251</td>\n",
       "      <td>14.018637</td>\n",
       "      <td>50.107153</td>\n",
       "      <td>34.188946</td>\n",
       "      <td>69.564246</td>\n",
       "      <td>442.683923</td>\n",
       "    </tr>\n",
       "    <tr>\n",
       "      <th>8</th>\n",
       "      <td>0.007002</td>\n",
       "      <td>14.643712</td>\n",
       "      <td>49.971633</td>\n",
       "      <td>34.541025</td>\n",
       "      <td>68.681120</td>\n",
       "      <td>519.274209</td>\n",
       "    </tr>\n",
       "    <tr>\n",
       "      <th>9</th>\n",
       "      <td>0.013086</td>\n",
       "      <td>14.180312</td>\n",
       "      <td>49.599554</td>\n",
       "      <td>34.701008</td>\n",
       "      <td>68.770376</td>\n",
       "      <td>494.816998</td>\n",
       "    </tr>\n",
       "    <tr>\n",
       "      <th>10</th>\n",
       "      <td>0.004823</td>\n",
       "      <td>14.643441</td>\n",
       "      <td>50.427476</td>\n",
       "      <td>34.421819</td>\n",
       "      <td>69.185991</td>\n",
       "      <td>556.475989</td>\n",
       "    </tr>\n",
       "  </tbody>\n",
       "</table>\n",
       "</div>"
      ],
      "text/plain": [
       "     Minimum  1st Quartile        Mean     Median  3rd Quartile      Maximum\n",
       "1   0.000231     27.979175   99.736056  67.966970    138.910399   798.609515\n",
       "2   0.000163     28.892144   99.478904  69.598139    136.794525  1045.315134\n",
       "3   0.000624     29.383958  100.087522  69.356884    138.305953  1057.016586\n",
       "4   0.001235     28.504024   98.204308  68.153987    136.865291   873.523721\n",
       "5   0.004674     28.587879   97.862413  68.528302    136.121508   789.649979\n",
       "6   0.004867     13.966138   50.147566  34.285731     69.975289   464.326257\n",
       "7   0.005251     14.018637   50.107153  34.188946     69.564246   442.683923\n",
       "8   0.007002     14.643712   49.971633  34.541025     68.681120   519.274209\n",
       "9   0.013086     14.180312   49.599554  34.701008     68.770376   494.816998\n",
       "10  0.004823     14.643441   50.427476  34.421819     69.185991   556.475989"
      ]
     },
     "execution_count": 28,
     "metadata": {},
     "output_type": "execute_result"
    }
   ],
   "source": [
    "b_1 = .15\n",
    "b_2s =[-.6,.4]\n",
    "hazs =[.01,.02]\n",
    "n = 10\n",
    "sims = 10000\n",
    "T= 30\n",
    "res = latent_var_sim(b_1, b_2s, hazs, T, n, sims)\n",
    "res[1]"
   ]
  },
  {
   "cell_type": "code",
   "execution_count": 29,
   "id": "d26159be",
   "metadata": {
    "scrolled": true
   },
   "outputs": [],
   "source": [
    "port_def_ts = []\n",
    "port_def_js = []\n",
    "port_def_ks = []\n",
    "for i in range(sims):\n",
    "    default_t = np.max(res[0].T[i])\n",
    "    default_j = np.max(res[0].T[i][:5])\n",
    "    default_k = np.max(res[0].T[i][5:])\n",
    "    port_def_ts.append(default_t)\n",
    "    port_def_js.append(default_j)\n",
    "    port_def_ks.append(default_k)\n"
   ]
  },
  {
   "cell_type": "code",
   "execution_count": 30,
   "id": "cdead04d",
   "metadata": {},
   "outputs": [],
   "source": [
    "percent_comb_port_less_50 = np.where(port_def_ts < np.ones(sims)*50,1,0).cumsum()[-1]/sims\n",
    "percent_1_port_less_50 = np.where(port_def_js < np.ones(sims)*50,1,0).cumsum()[-1]/sims\n",
    "percent_2_port_less_50 = np.where(port_def_ks < np.ones(sims)*50,1,0).cumsum()[-1]/sims\n",
    "percent_comb_port_less_100 = np.where(port_def_ts < np.ones(sims)*100,1,0).cumsum()[-1]/sims\n",
    "percent_1_port_less_100 = np.where(port_def_js < np.ones(sims)*100,1,0).cumsum()[-1]/sims\n",
    "percent_2_port_less_100 = np.where(port_def_ks < np.ones(sims)*100,1,0).cumsum()[-1]/sims\n",
    "percent_comb_port_less_150 = np.where(port_def_ts < np.ones(sims)*150,1,0).cumsum()[-1]/sims\n",
    "percent_1_port_less_150 = np.where(port_def_js < np.ones(sims)*150,1,0).cumsum()[-1]/sims\n",
    "percent_2_port_less_150 = np.where(port_def_ks < np.ones(sims)*150,1,0).cumsum()[-1]/sims\n",
    "percent_comb_port_less_200 = np.where(port_def_ts < np.ones(sims)*200,1,0).cumsum()[-1]/sims\n",
    "percent_1_port_less_200 = np.where(port_def_js < np.ones(sims)*200,1,0).cumsum()[-1]/sims\n",
    "percent_2_port_less_200 = np.where(port_def_ks < np.ones(sims)*200,1,0).cumsum()[-1]/sims\n",
    "percent_comb_port_less_250 = np.where(port_def_ts < np.ones(sims)*250,1,0).cumsum()[-1]/sims\n",
    "percent_1_port_less_250 = np.where(port_def_js < np.ones(sims)*250,1,0).cumsum()[-1]/sims\n",
    "percent_2_port_less_250 = np.where(port_def_ks < np.ones(sims)*250,1,0).cumsum()[-1]/sims\n",
    "percent_comb_port_less_300 = np.where(port_def_ts < np.ones(sims)*300,1,0).cumsum()[-1]/sims\n",
    "percent_1_port_less_300 = np.where(port_def_js < np.ones(sims)*300,1,0).cumsum()[-1]/sims\n",
    "percent_2_port_less_300 = np.where(port_def_ks < np.ones(sims)*300,1,0).cumsum()[-1]/sims\n",
    "percent_comb_port_less_350 = np.where(port_def_ts < np.ones(sims)*350,1,0).cumsum()[-1]/sims\n",
    "percent_1_port_less_350 = np.where(port_def_js < np.ones(sims)*350,1,0).cumsum()[-1]/sims\n",
    "percent_2_port_less_350 = np.where(port_def_ks < np.ones(sims)*350,1,0).cumsum()[-1]/sims\n",
    "percent_comb_port_less_400 = np.where(port_def_ts < np.ones(sims)*400,1,0).cumsum()[-1]/sims\n",
    "percent_1_port_less_400 = np.where(port_def_js < np.ones(sims)*400,1,0).cumsum()[-1]/sims\n",
    "percent_2_port_less_400 = np.where(port_def_ks < np.ones(sims)*400,1,0).cumsum()[-1]/sims"
   ]
  },
  {
   "cell_type": "code",
   "execution_count": 31,
   "id": "c595b01f",
   "metadata": {},
   "outputs": [
    {
     "data": {
      "text/html": [
       "<div>\n",
       "<style scoped>\n",
       "    .dataframe tbody tr th:only-of-type {\n",
       "        vertical-align: middle;\n",
       "    }\n",
       "\n",
       "    .dataframe tbody tr th {\n",
       "        vertical-align: top;\n",
       "    }\n",
       "\n",
       "    .dataframe thead th {\n",
       "        text-align: right;\n",
       "    }\n",
       "</style>\n",
       "<table border=\"1\" class=\"dataframe\">\n",
       "  <thead>\n",
       "    <tr style=\"text-align: right;\">\n",
       "      <th></th>\n",
       "      <th>Cum Prob DT less than 50</th>\n",
       "      <th>Cum Prob DT less than 100</th>\n",
       "      <th>Cum Prob DT less than 150</th>\n",
       "      <th>Cum Prob DT less than 200</th>\n",
       "      <th>Cum Prob DT less than 250</th>\n",
       "      <th>Cum Prob DT less than 300</th>\n",
       "      <th>Cum Prob DT less than 350</th>\n",
       "      <th>Cum Prob DT less than 400</th>\n",
       "    </tr>\n",
       "  </thead>\n",
       "  <tbody>\n",
       "    <tr>\n",
       "      <th>Combined</th>\n",
       "      <td>0.0014</td>\n",
       "      <td>0.0825</td>\n",
       "      <td>0.3041</td>\n",
       "      <td>0.5309</td>\n",
       "      <td>0.6968</td>\n",
       "      <td>0.8063</td>\n",
       "      <td>0.8772</td>\n",
       "      <td>0.9236</td>\n",
       "    </tr>\n",
       "    <tr>\n",
       "      <th>Credits 1-5</th>\n",
       "      <td>0.0681</td>\n",
       "      <td>0.2450</td>\n",
       "      <td>0.4362</td>\n",
       "      <td>0.6033</td>\n",
       "      <td>0.7293</td>\n",
       "      <td>0.8188</td>\n",
       "      <td>0.8826</td>\n",
       "      <td>0.9258</td>\n",
       "    </tr>\n",
       "    <tr>\n",
       "      <th>Credits 6-10</th>\n",
       "      <td>0.1670</td>\n",
       "      <td>0.5411</td>\n",
       "      <td>0.7900</td>\n",
       "      <td>0.9116</td>\n",
       "      <td>0.9643</td>\n",
       "      <td>0.9869</td>\n",
       "      <td>0.9946</td>\n",
       "      <td>0.9978</td>\n",
       "    </tr>\n",
       "  </tbody>\n",
       "</table>\n",
       "</div>"
      ],
      "text/plain": [
       "              Cum Prob DT less than 50  Cum Prob DT less than 100  \\\n",
       "Combined                        0.0014                     0.0825   \n",
       "Credits 1-5                     0.0681                     0.2450   \n",
       "Credits 6-10                    0.1670                     0.5411   \n",
       "\n",
       "              Cum Prob DT less than 150  Cum Prob DT less than 200  \\\n",
       "Combined                         0.3041                     0.5309   \n",
       "Credits 1-5                      0.4362                     0.6033   \n",
       "Credits 6-10                     0.7900                     0.9116   \n",
       "\n",
       "              Cum Prob DT less than 250  Cum Prob DT less than 300  \\\n",
       "Combined                         0.6968                     0.8063   \n",
       "Credits 1-5                      0.7293                     0.8188   \n",
       "Credits 6-10                     0.9643                     0.9869   \n",
       "\n",
       "              Cum Prob DT less than 350  Cum Prob DT less than 400  \n",
       "Combined                         0.8772                     0.9236  \n",
       "Credits 1-5                      0.8826                     0.9258  \n",
       "Credits 6-10                     0.9946                     0.9978  "
      ]
     },
     "execution_count": 31,
     "metadata": {},
     "output_type": "execute_result"
    }
   ],
   "source": [
    "import pandas as pd\n",
    "#Maximum time to default cummulative probabilities\n",
    "d = {'Cum Prob DT less than 50': [percent_comb_port_less_50, percent_1_port_less_50, percent_2_port_less_50], \n",
    "     'Cum Prob DT less than 100': [percent_comb_port_less_100, percent_1_port_less_100, percent_2_port_less_100], \n",
    "     'Cum Prob DT less than 150': [percent_comb_port_less_150, percent_1_port_less_150, percent_2_port_less_150], \n",
    "     'Cum Prob DT less than 200': [percent_comb_port_less_200, percent_1_port_less_200, percent_2_port_less_200], \n",
    "     'Cum Prob DT less than 250': [percent_comb_port_less_250, percent_1_port_less_250, percent_2_port_less_250], \n",
    "     'Cum Prob DT less than 300': [percent_comb_port_less_300, percent_1_port_less_300, percent_2_port_less_300],\n",
    "     'Cum Prob DT less than 350': [percent_comb_port_less_350, percent_1_port_less_350, percent_2_port_less_350], \n",
    "     'Cum Prob DT less than 400': [percent_comb_port_less_400, percent_1_port_less_400, percent_2_port_less_400]}\n",
    "table = pd.DataFrame(d, index=['Combined', 'Credits 1-5','Credits 6-10'])\n",
    "table"
   ]
  },
  {
   "cell_type": "code",
   "execution_count": 32,
   "id": "dfc1e7e7",
   "metadata": {},
   "outputs": [
    {
     "data": {
      "image/png": "[encoded data removed]",
      "text/plain": [
       "<Figure size 640x480 with 1 Axes>"
      ]
     },
     "metadata": {},
     "output_type": "display_data"
    }
   ],
   "source": [
    "plt.hist(port_def_ts, bins = 100,density= True,stacked = True, histtype='step', label = 'Combined Max Portfolio Default Time', color= 'green')\n",
    "plt.hist(port_def_js, bins = 100,density= True,stacked = True, histtype='step', label = 'Credit 1-5 Max Default Time')\n",
    "plt.hist(port_def_ks, bins = 100,density= True,stacked = True, histtype='step', label = 'Credit 6-10 Max Default Time' )\n",
    "plt.legend()\n",
    "plt.show()"
   ]
  },
  {
   "cell_type": "code",
   "execution_count": 33,
   "id": "682983b0",
   "metadata": {},
   "outputs": [
    {
     "data": {
      "image/png": "[encoded data removed]",
      "text/plain": [
       "<Figure size 640x480 with 1 Axes>"
      ]
     },
     "metadata": {},
     "output_type": "display_data"
    }
   ],
   "source": [
    "plt.hist(port_def_js, bins = 100,density= True,stacked = True, histtype='step', label = 'Credit 1-5 Max Default Time')\n",
    "plt.hist(port_def_ks, bins = 100,density= True,stacked = True, histtype='step', label = 'Credit 6-10 Max Default Time' )\n",
    "plt.legend()\n",
    "plt.show()"
   ]
  },
  {
   "cell_type": "code",
   "execution_count": 34,
   "id": "88cf8d28",
   "metadata": {},
   "outputs": [
    {
     "data": {
      "image/png": "[encoded data removed]",
      "text/plain": [
       "<Figure size 640x480 with 1 Axes>"
      ]
     },
     "metadata": {},
     "output_type": "display_data"
    }
   ],
   "source": [
    "plt.hist(port_def_ts, bins = 100,density= True,stacked = True, label = 'Combined Max Portfolio Default Time', color= 'green')\n",
    "plt.legend()\n",
    "plt.show()"
   ]
  },
  {
   "cell_type": "code",
   "execution_count": 35,
   "id": "7476459a",
   "metadata": {},
   "outputs": [],
   "source": [
    "port_def_ts = []\n",
    "port_def_js = []\n",
    "port_def_ks = []\n",
    "for i in range(sims):\n",
    "    default_t = np.mean(res[0].T[i])\n",
    "    default_j = np.mean(res[0].T[i][:5])\n",
    "    default_k = np.mean(res[0].T[i][5:])\n",
    "    port_def_ts.append(default_t)\n",
    "    port_def_js.append(default_j)\n",
    "    port_def_ks.append(default_k)\n"
   ]
  },
  {
   "cell_type": "code",
   "execution_count": 36,
   "id": "be0472a7",
   "metadata": {},
   "outputs": [
    {
     "data": {
      "image/png": "[encoded data removed]",
      "text/plain": [
       "<Figure size 640x480 with 1 Axes>"
      ]
     },
     "metadata": {},
     "output_type": "display_data"
    }
   ],
   "source": [
    "plt.hist(port_def_ts, bins = 50,density= True,stacked = True, histtype='step', label = 'Combined Mean Portfolio Default Time', color= 'green')\n",
    "plt.hist(port_def_js, bins = 50,density= True,stacked = True, histtype='step', label = 'Credit 1-5 Mean Default Time')\n",
    "plt.hist(port_def_ks, bins = 50,density= True,stacked = True, histtype='step', label = 'Credit 6-10 Mean Default Time' )\n",
    "plt.legend()\n",
    "plt.show()"
   ]
  },
  {
   "cell_type": "code",
   "execution_count": 37,
   "id": "31792097",
   "metadata": {},
   "outputs": [],
   "source": [
    "#Cummulative probability mean default time is less\n",
    "percent_comb_port_less_25 = np.where(port_def_ts < np.ones(sims)*25,1,0).cumsum()[-1]/sims\n",
    "percent_1_port_less_25 = np.where(port_def_js < np.ones(sims)*25,1,0).cumsum()[-1]/sims\n",
    "percent_2_port_less_25 = np.where(port_def_ks < np.ones(sims)*25,1,0).cumsum()[-1]/sims\n",
    "percent_comb_port_less_50 = np.where(port_def_ts < np.ones(sims)*50,1,0).cumsum()[-1]/sims\n",
    "percent_1_port_less_50 = np.where(port_def_js < np.ones(sims)*50,1,0).cumsum()[-1]/sims\n",
    "percent_2_port_less_50 = np.where(port_def_ks < np.ones(sims)*50,1,0).cumsum()[-1]/sims\n",
    "percent_comb_port_less_75 = np.where(port_def_ts < np.ones(sims)*75,1,0).cumsum()[-1]/sims\n",
    "percent_1_port_less_75 = np.where(port_def_js < np.ones(sims)*75,1,0).cumsum()[-1]/sims\n",
    "percent_2_port_less_75 = np.where(port_def_ks < np.ones(sims)*75,1,0).cumsum()[-1]/sims\n",
    "percent_comb_port_less_100 = np.where(port_def_ts < np.ones(sims)*100,1,0).cumsum()[-1]/sims\n",
    "percent_1_port_less_100 = np.where(port_def_js < np.ones(sims)*100,1,0).cumsum()[-1]/sims\n",
    "percent_2_port_less_100 = np.where(port_def_ks < np.ones(sims)*100,1,0).cumsum()[-1]/sims\n",
    "percent_comb_port_less_125 = np.where(port_def_ts < np.ones(sims)*125,1,0).cumsum()[-1]/sims\n",
    "percent_1_port_less_125 = np.where(port_def_js < np.ones(sims)*125,1,0).cumsum()[-1]/sims\n",
    "percent_2_port_less_125 = np.where(port_def_ks < np.ones(sims)*125,1,0).cumsum()[-1]/sims\n",
    "percent_comb_port_less_150 = np.where(port_def_ts < np.ones(sims)*150,1,0).cumsum()[-1]/sims\n",
    "percent_1_port_less_150 = np.where(port_def_js < np.ones(sims)*150,1,0).cumsum()[-1]/sims\n",
    "percent_2_port_less_150 = np.where(port_def_ks < np.ones(sims)*150,1,0).cumsum()[-1]/sims\n",
    "percent_comb_port_less_175 = np.where(port_def_ts < np.ones(sims)*175,1,0).cumsum()[-1]/sims\n",
    "percent_1_port_less_175 = np.where(port_def_js < np.ones(sims)*175,1,0).cumsum()[-1]/sims\n",
    "percent_2_port_less_175 = np.where(port_def_ks < np.ones(sims)*175,1,0).cumsum()[-1]/sims\n",
    "percent_comb_port_less_200 = np.where(port_def_ts < np.ones(sims)*200,1,0).cumsum()[-1]/sims\n",
    "percent_1_port_less_200 = np.where(port_def_js < np.ones(sims)*200,1,0).cumsum()[-1]/sims\n",
    "percent_2_port_less_200 = np.where(port_def_ks < np.ones(sims)*200,1,0).cumsum()[-1]/sims\n",
    "percent_comb_port_less_250 = np.where(port_def_ts < np.ones(sims)*250,1,0).cumsum()[-1]/sims\n",
    "percent_1_port_less_250 = np.where(port_def_js < np.ones(sims)*250,1,0).cumsum()[-1]/sims\n",
    "percent_2_port_less_250 = np.where(port_def_ks < np.ones(sims)*250,1,0).cumsum()[-1]/sims\n",
    "percent_comb_port_less_300 = np.where(port_def_ts < np.ones(sims)*300,1,0).cumsum()[-1]/sims\n",
    "percent_1_port_less_300 = np.where(port_def_js < np.ones(sims)*300,1,0).cumsum()[-1]/sims\n",
    "percent_2_port_less_300 = np.where(port_def_ks < np.ones(sims)*300,1,0).cumsum()[-1]/sims\n"
   ]
  },
  {
   "cell_type": "code",
   "execution_count": 38,
   "id": "4bd63761",
   "metadata": {},
   "outputs": [
    {
     "data": {
      "text/html": [
       "<div>\n",
       "<style scoped>\n",
       "    .dataframe tbody tr th:only-of-type {\n",
       "        vertical-align: middle;\n",
       "    }\n",
       "\n",
       "    .dataframe tbody tr th {\n",
       "        vertical-align: top;\n",
       "    }\n",
       "\n",
       "    .dataframe thead th {\n",
       "        text-align: right;\n",
       "    }\n",
       "</style>\n",
       "<table border=\"1\" class=\"dataframe\">\n",
       "  <thead>\n",
       "    <tr style=\"text-align: right;\">\n",
       "      <th></th>\n",
       "      <th>Cum Prob mean DT less than 25</th>\n",
       "      <th>Cum Prob mean DT less than 50</th>\n",
       "      <th>Cum Prob mean DT less than 75</th>\n",
       "      <th>Cum Prob mean DT less than 100</th>\n",
       "      <th>Cum Prob mean DT less than 125</th>\n",
       "      <th>Cum Prob mean DT less than 150</th>\n",
       "      <th>Cum Prob mean DT less than 175</th>\n",
       "      <th>Cum Prob mean DT less than 200</th>\n",
       "      <th>Cum Prob mean DT less than 250</th>\n",
       "      <th>Cum Prob mean DT less than 300</th>\n",
       "    </tr>\n",
       "  </thead>\n",
       "  <tbody>\n",
       "    <tr>\n",
       "      <th>Combined</th>\n",
       "      <td>0.0067</td>\n",
       "      <td>0.2009</td>\n",
       "      <td>0.5914</td>\n",
       "      <td>0.8285</td>\n",
       "      <td>0.9322</td>\n",
       "      <td>0.9750</td>\n",
       "      <td>0.9907</td>\n",
       "      <td>0.9968</td>\n",
       "      <td>0.9996</td>\n",
       "      <td>1.0000</td>\n",
       "    </tr>\n",
       "    <tr>\n",
       "      <th>Credits 1-5</th>\n",
       "      <td>0.0797</td>\n",
       "      <td>0.2554</td>\n",
       "      <td>0.4342</td>\n",
       "      <td>0.6013</td>\n",
       "      <td>0.7205</td>\n",
       "      <td>0.8091</td>\n",
       "      <td>0.8720</td>\n",
       "      <td>0.9148</td>\n",
       "      <td>0.9643</td>\n",
       "      <td>0.9858</td>\n",
       "    </tr>\n",
       "    <tr>\n",
       "      <th>Credits 6-10</th>\n",
       "      <td>0.1888</td>\n",
       "      <td>0.5769</td>\n",
       "      <td>0.8263</td>\n",
       "      <td>0.9409</td>\n",
       "      <td>0.9781</td>\n",
       "      <td>0.9940</td>\n",
       "      <td>0.9978</td>\n",
       "      <td>0.9995</td>\n",
       "      <td>1.0000</td>\n",
       "      <td>1.0000</td>\n",
       "    </tr>\n",
       "  </tbody>\n",
       "</table>\n",
       "</div>"
      ],
      "text/plain": [
       "              Cum Prob mean DT less than 25  Cum Prob mean DT less than 50  \\\n",
       "Combined                             0.0067                         0.2009   \n",
       "Credits 1-5                          0.0797                         0.2554   \n",
       "Credits 6-10                         0.1888                         0.5769   \n",
       "\n",
       "              Cum Prob mean DT less than 75  Cum Prob mean DT less than 100  \\\n",
       "Combined                             0.5914                          0.8285   \n",
       "Credits 1-5                          0.4342                          0.6013   \n",
       "Credits 6-10                         0.8263                          0.9409   \n",
       "\n",
       "              Cum Prob mean DT less than 125  Cum Prob mean DT less than 150  \\\n",
       "Combined                              0.9322                          0.9750   \n",
       "Credits 1-5                           0.7205                          0.8091   \n",
       "Credits 6-10                          0.9781                          0.9940   \n",
       "\n",
       "              Cum Prob mean DT less than 175  Cum Prob mean DT less than 200  \\\n",
       "Combined                              0.9907                          0.9968   \n",
       "Credits 1-5                           0.8720                          0.9148   \n",
       "Credits 6-10                          0.9978                          0.9995   \n",
       "\n",
       "              Cum Prob mean DT less than 250  Cum Prob mean DT less than 300  \n",
       "Combined                              0.9996                          1.0000  \n",
       "Credits 1-5                           0.9643                          0.9858  \n",
       "Credits 6-10                          1.0000                          1.0000  "
      ]
     },
     "execution_count": 38,
     "metadata": {},
     "output_type": "execute_result"
    }
   ],
   "source": [
    "import pandas as pd\n",
    "#Minimum time to default cummulative probabilities\n",
    "d = {'Cum Prob mean DT less than 25': [percent_comb_port_less_25, percent_1_port_less_25, percent_2_port_less_25], \n",
    "     'Cum Prob mean DT less than 50': [percent_comb_port_less_50, percent_1_port_less_50, percent_2_port_less_50], \n",
    "     'Cum Prob mean DT less than 75': [percent_comb_port_less_75, percent_1_port_less_75, percent_2_port_less_75], \n",
    "     'Cum Prob mean DT less than 100': [percent_comb_port_less_100, percent_1_port_less_100, percent_2_port_less_100], \n",
    "     'Cum Prob mean DT less than 125': [percent_comb_port_less_125, percent_1_port_less_125, percent_2_port_less_125], \n",
    "     'Cum Prob mean DT less than 150': [percent_comb_port_less_150, percent_1_port_less_150, percent_2_port_less_150],\n",
    "     'Cum Prob mean DT less than 175': [percent_comb_port_less_175, percent_1_port_less_175, percent_2_port_less_175], \n",
    "     'Cum Prob mean DT less than 200': [percent_comb_port_less_200, percent_1_port_less_200, percent_2_port_less_200],\n",
    "     'Cum Prob mean DT less than 250': [percent_comb_port_less_250, percent_1_port_less_250, percent_2_port_less_250],\n",
    "     'Cum Prob mean DT less than 300': [percent_comb_port_less_300, percent_1_port_less_300, percent_2_port_less_300]\n",
    "    }\n",
    "table = pd.DataFrame(d, index=['Combined', 'Credits 1-5','Credits 6-10'])\n",
    "table"
   ]
  },
  {
   "cell_type": "code",
   "execution_count": 39,
   "id": "9f49314e",
   "metadata": {},
   "outputs": [],
   "source": [
    "port_def_ts = []\n",
    "port_def_js = []\n",
    "port_def_ks = []\n",
    "for i in range(sims):\n",
    "    default_t = np.min(res[0].T[i])\n",
    "    default_j = np.min(res[0].T[i][:5])\n",
    "    default_k = np.min(res[0].T[i][5:])\n",
    "    port_def_ts.append(default_t)\n",
    "    port_def_js.append(default_j)\n",
    "    port_def_ks.append(default_k)\n"
   ]
  },
  {
   "cell_type": "code",
   "execution_count": 40,
   "id": "50c3f915",
   "metadata": {},
   "outputs": [
    {
     "data": {
      "image/png": "[encoded data removed]",
      "text/plain": [
       "<Figure size 640x480 with 1 Axes>"
      ]
     },
     "metadata": {},
     "output_type": "display_data"
    }
   ],
   "source": [
    "plt.hist(port_def_ts, bins = 50,density= True,stacked = True, histtype='step', label = 'Combined Min Portfolio Default Time', color= 'green')\n",
    "plt.hist(port_def_js, bins = 50,density= True,stacked = True, histtype='step', label = 'Credit 1-5 Min Default Time')\n",
    "plt.hist(port_def_ks, bins = 50,density= True,stacked = True, histtype='step', label = 'Credit 6-10 Min Default Time' )\n",
    "plt.legend()\n",
    "plt.title('Time to First Default')\n",
    "plt.xlim(-10,200)\n",
    "plt.show()"
   ]
  },
  {
   "cell_type": "code",
   "execution_count": 41,
   "id": "c662bcb7",
   "metadata": {},
   "outputs": [],
   "source": [
    "#Cummulative probability time to first default is less\n",
    "percent_comb_port_less_5 = np.where(port_def_ts < np.ones(sims)*5,1,0).cumsum()[-1]/sims\n",
    "percent_1_port_less_5 = np.where(port_def_js < np.ones(sims)*5,1,0).cumsum()[-1]/sims\n",
    "percent_2_port_less_5 = np.where(port_def_ks < np.ones(sims)*5,1,0).cumsum()[-1]/sims\n",
    "percent_comb_port_less_10 = np.where(port_def_ts < np.ones(sims)*10,1,0).cumsum()[-1]/sims\n",
    "percent_1_port_less_10 = np.where(port_def_js < np.ones(sims)*10,1,0).cumsum()[-1]/sims\n",
    "percent_2_port_less_10 = np.where(port_def_ks < np.ones(sims)*10,1,0).cumsum()[-1]/sims\n",
    "percent_comb_port_less_15 = np.where(port_def_ts < np.ones(sims)*15,1,0).cumsum()[-1]/sims\n",
    "percent_1_port_less_15 = np.where(port_def_js < np.ones(sims)*15,1,0).cumsum()[-1]/sims\n",
    "percent_2_port_less_15 = np.where(port_def_ks < np.ones(sims)*15,1,0).cumsum()[-1]/sims\n",
    "percent_comb_port_less_20 = np.where(port_def_ts < np.ones(sims)*20,1,0).cumsum()[-1]/sims\n",
    "percent_1_port_less_20 = np.where(port_def_js < np.ones(sims)*20,1,0).cumsum()[-1]/sims\n",
    "percent_2_port_less_20 = np.where(port_def_ks < np.ones(sims)*20,1,0).cumsum()[-1]/sims\n",
    "percent_comb_port_less_25 = np.where(port_def_ts < np.ones(sims)*25,1,0).cumsum()[-1]/sims\n",
    "percent_1_port_less_25 = np.where(port_def_js < np.ones(sims)*25,1,0).cumsum()[-1]/sims\n",
    "percent_2_port_less_25 = np.where(port_def_ks < np.ones(sims)*25,1,0).cumsum()[-1]/sims\n",
    "percent_comb_port_less_30 = np.where(port_def_ts < np.ones(sims)*30,1,0).cumsum()[-1]/sims\n",
    "percent_1_port_less_30 = np.where(port_def_js < np.ones(sims)*30,1,0).cumsum()[-1]/sims\n",
    "percent_2_port_less_30 = np.where(port_def_ks < np.ones(sims)*30,1,0).cumsum()[-1]/sims\n",
    "percent_comb_port_less_35 = np.where(port_def_ts < np.ones(sims)*35,1,0).cumsum()[-1]/sims\n",
    "percent_1_port_less_35 = np.where(port_def_js < np.ones(sims)*35,1,0).cumsum()[-1]/sims\n",
    "percent_2_port_less_35 = np.where(port_def_ks < np.ones(sims)*35,1,0).cumsum()[-1]/sims\n",
    "percent_comb_port_less_40 = np.where(port_def_ts < np.ones(sims)*40,1,0).cumsum()[-1]/sims\n",
    "percent_1_port_less_40 = np.where(port_def_js < np.ones(sims)*40,1,0).cumsum()[-1]/sims\n",
    "percent_2_port_less_40 = np.where(port_def_ks < np.ones(sims)*40,1,0).cumsum()[-1]/sims\n",
    "percent_comb_port_less_50 = np.where(port_def_ts < np.ones(sims)*50,1,0).cumsum()[-1]/sims\n",
    "percent_1_port_less_50 = np.where(port_def_js < np.ones(sims)*50,1,0).cumsum()[-1]/sims\n",
    "percent_2_port_less_50 = np.where(port_def_ks < np.ones(sims)*50,1,0).cumsum()[-1]/sims\n",
    "percent_comb_port_less_60 = np.where(port_def_ts < np.ones(sims)*60,1,0).cumsum()[-1]/sims\n",
    "percent_1_port_less_60 = np.where(port_def_js < np.ones(sims)*60,1,0).cumsum()[-1]/sims\n",
    "percent_2_port_less_60 = np.where(port_def_ks < np.ones(sims)*60,1,0).cumsum()[-1]/sims\n",
    "percent_comb_port_less_70 = np.where(port_def_ts < np.ones(sims)*70,1,0).cumsum()[-1]/sims\n",
    "percent_1_port_less_70 = np.where(port_def_js < np.ones(sims)*70,1,0).cumsum()[-1]/sims\n",
    "percent_2_port_less_70 = np.where(port_def_ks < np.ones(sims)*70,1,0).cumsum()[-1]/sims"
   ]
  },
  {
   "cell_type": "code",
   "execution_count": 42,
   "id": "57b0462f",
   "metadata": {},
   "outputs": [
    {
     "data": {
      "text/html": [
       "<div>\n",
       "<style scoped>\n",
       "    .dataframe tbody tr th:only-of-type {\n",
       "        vertical-align: middle;\n",
       "    }\n",
       "\n",
       "    .dataframe tbody tr th {\n",
       "        vertical-align: top;\n",
       "    }\n",
       "\n",
       "    .dataframe thead th {\n",
       "        text-align: right;\n",
       "    }\n",
       "</style>\n",
       "<table border=\"1\" class=\"dataframe\">\n",
       "  <thead>\n",
       "    <tr style=\"text-align: right;\">\n",
       "      <th></th>\n",
       "      <th>Cum Prob first DT less than 5</th>\n",
       "      <th>Cum Prob first DT less than 10</th>\n",
       "      <th>Cum Prob first DT less than 15</th>\n",
       "      <th>Cum Prob first DT less than 20</th>\n",
       "      <th>Cum Prob first DT less than 25</th>\n",
       "      <th>Cum Prob first DT less than 30</th>\n",
       "      <th>Cum Prob first DT less than 35</th>\n",
       "      <th>Cum Prob first DT less than 40</th>\n",
       "      <th>Cum Prob first DT less than 50</th>\n",
       "      <th>Cum Prob first DT less than 60</th>\n",
       "      <th>Cum Prob first DT less than 70</th>\n",
       "    </tr>\n",
       "  </thead>\n",
       "  <tbody>\n",
       "    <tr>\n",
       "      <th>Combined</th>\n",
       "      <td>0.5018</td>\n",
       "      <td>0.7621</td>\n",
       "      <td>0.8872</td>\n",
       "      <td>0.9450</td>\n",
       "      <td>0.9735</td>\n",
       "      <td>0.9871</td>\n",
       "      <td>0.9940</td>\n",
       "      <td>0.9973</td>\n",
       "      <td>0.9989</td>\n",
       "      <td>0.9997</td>\n",
       "      <td>0.9998</td>\n",
       "    </tr>\n",
       "    <tr>\n",
       "      <th>Credits 1-5</th>\n",
       "      <td>0.1832</td>\n",
       "      <td>0.3119</td>\n",
       "      <td>0.4157</td>\n",
       "      <td>0.4981</td>\n",
       "      <td>0.5682</td>\n",
       "      <td>0.6284</td>\n",
       "      <td>0.6780</td>\n",
       "      <td>0.7212</td>\n",
       "      <td>0.7871</td>\n",
       "      <td>0.8351</td>\n",
       "      <td>0.8727</td>\n",
       "    </tr>\n",
       "    <tr>\n",
       "      <th>Credits 6-10</th>\n",
       "      <td>0.3520</td>\n",
       "      <td>0.5735</td>\n",
       "      <td>0.7107</td>\n",
       "      <td>0.7972</td>\n",
       "      <td>0.8589</td>\n",
       "      <td>0.9003</td>\n",
       "      <td>0.9299</td>\n",
       "      <td>0.9523</td>\n",
       "      <td>0.9757</td>\n",
       "      <td>0.9873</td>\n",
       "      <td>0.9946</td>\n",
       "    </tr>\n",
       "  </tbody>\n",
       "</table>\n",
       "</div>"
      ],
      "text/plain": [
       "              Cum Prob first DT less than 5  Cum Prob first DT less than 10  \\\n",
       "Combined                             0.5018                          0.7621   \n",
       "Credits 1-5                          0.1832                          0.3119   \n",
       "Credits 6-10                         0.3520                          0.5735   \n",
       "\n",
       "              Cum Prob first DT less than 15  Cum Prob first DT less than 20  \\\n",
       "Combined                              0.8872                          0.9450   \n",
       "Credits 1-5                           0.4157                          0.4981   \n",
       "Credits 6-10                          0.7107                          0.7972   \n",
       "\n",
       "              Cum Prob first DT less than 25  Cum Prob first DT less than 30  \\\n",
       "Combined                              0.9735                          0.9871   \n",
       "Credits 1-5                           0.5682                          0.6284   \n",
       "Credits 6-10                          0.8589                          0.9003   \n",
       "\n",
       "              Cum Prob first DT less than 35  Cum Prob first DT less than 40  \\\n",
       "Combined                              0.9940                          0.9973   \n",
       "Credits 1-5                           0.6780                          0.7212   \n",
       "Credits 6-10                          0.9299                          0.9523   \n",
       "\n",
       "              Cum Prob first DT less than 50  Cum Prob first DT less than 60  \\\n",
       "Combined                              0.9989                          0.9997   \n",
       "Credits 1-5                           0.7871                          0.8351   \n",
       "Credits 6-10                          0.9757                          0.9873   \n",
       "\n",
       "              Cum Prob first DT less than 70  \n",
       "Combined                              0.9998  \n",
       "Credits 1-5                           0.8727  \n",
       "Credits 6-10                          0.9946  "
      ]
     },
     "execution_count": 42,
     "metadata": {},
     "output_type": "execute_result"
    }
   ],
   "source": [
    "import pandas as pd\n",
    "#Minimum time to default cummulative probabilities\n",
    "d = {'Cum Prob first DT less than 5': [percent_comb_port_less_5, percent_1_port_less_5, percent_2_port_less_5], \n",
    "     'Cum Prob first DT less than 10': [percent_comb_port_less_10, percent_1_port_less_10, percent_2_port_less_10], \n",
    "     'Cum Prob first DT less than 15': [percent_comb_port_less_15, percent_1_port_less_15, percent_2_port_less_15], \n",
    "     'Cum Prob first DT less than 20': [percent_comb_port_less_20, percent_1_port_less_20, percent_2_port_less_20], \n",
    "     'Cum Prob first DT less than 25': [percent_comb_port_less_25, percent_1_port_less_25, percent_2_port_less_25], \n",
    "     'Cum Prob first DT less than 30': [percent_comb_port_less_30, percent_1_port_less_30, percent_2_port_less_30],\n",
    "     'Cum Prob first DT less than 35': [percent_comb_port_less_35, percent_1_port_less_35, percent_2_port_less_35], \n",
    "     'Cum Prob first DT less than 40': [percent_comb_port_less_40, percent_1_port_less_40, percent_2_port_less_40],\n",
    "     'Cum Prob first DT less than 50': [percent_comb_port_less_50, percent_1_port_less_50, percent_2_port_less_50],\n",
    "     'Cum Prob first DT less than 60': [percent_comb_port_less_60, percent_1_port_less_60, percent_2_port_less_60],\n",
    "     'Cum Prob first DT less than 70': [percent_comb_port_less_70, percent_1_port_less_70, percent_2_port_less_70]\n",
    "    }\n",
    "table = pd.DataFrame(d, index=['Combined', 'Credits 1-5','Credits 6-10'])\n",
    "table"
   ]
  },
  {
   "cell_type": "code",
   "execution_count": null,
   "id": "31337eac",
   "metadata": {},
   "outputs": [],
   "source": []
  }
 ],
 "metadata": {
  "kernelspec": {
   "display_name": "Python 3 (ipykernel)",
   "language": "python",
   "name": "python3"
  },
  "language_info": {
   "codemirror_mode": {
    "name": "ipython",
    "version": 3
   },
   "file_extension": ".py",
   "mimetype": "text/x-python",
   "name": "python",
   "nbconvert_exporter": "python",
   "pygments_lexer": "ipython3",
   "version": "3.11.4"
  }
 },
 "nbformat": 4,
 "nbformat_minor": 5
}

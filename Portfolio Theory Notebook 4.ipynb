{
 "cells": [
  {
   "cell_type": "markdown",
   "id": "b2e28aad",
   "metadata": {},
   "source": [
    "# Portfolio Theory Analysis\n",
    "\n",
    "This notebook explores various aspects of portfolio theory using real financial data. The workflow includes:\n",
    "\n",
    "- Importing and processing stock price data from text and TSV files.\n",
    "- Calculating returns, mean vectors, and covariance matrices for a set of stocks.\n",
    "- Implementing and testing portfolio optimization functions, including constraints on weights.\n",
    "- Plotting the efficient frontier using both empirical and model-based covariance matrices.\n",
    "- Performing regression analysis to estimate factor model parameters (betas, alphas, idiosyncratic risk).\n",
    "- Comparing empirical and estimated covariance matrices and their impact on portfolio optimization.\n",
    "- Visualizing regression fits and residuals for individual stocks.\n",
    "\n",
    "The notebook demonstrates practical applications of quantitative finance concepts such as mean-variance optimization, factor models, and regression analysis, providing both code and visualizations to support the analysis."
   ]
  },
  {
   "cell_type": "code",
   "execution_count": 131,
   "id": "d6538ac4",
   "metadata": {},
   "outputs": [],
   "source": [
    "import pandas as pd\n",
    "import numpy as np\n",
    "import math\n",
    "import matplotlib.pyplot as plt\n",
    "from numpy.linalg import inv\n",
    "from cvxopt import matrix, solvers\n",
    "import yfinance as yf\n",
    "import os \n",
    "from scipy.optimize import minimize\n",
    "from sklearn.linear_model import LinearRegression\n",
    "import statsmodels.api as sm"
   ]
  },
  {
   "cell_type": "markdown",
   "id": "767047f1",
   "metadata": {},
   "source": [
    "## Question 1"
   ]
  },
  {
   "cell_type": "code",
   "execution_count": 132,
   "id": "f1dcf73a",
   "metadata": {},
   "outputs": [],
   "source": [
    "path = r\"C:\\Users\\bjorn\\FE630 Portfolio Theory\\data\\data\"\n",
    "\n",
    "col_names = [\"AA\",\"AXP\",\"BA\",\"BAC\",\"CAT\",\"CSCO\",\"CVX\",\"DD\",\"DIS\",\"GE\",\"HD\",\"HPQ\",\"IBM\",\"INTC\",\n",
    "            \"JNJ\",\"JPM\",\"KO\",\"MCD\",\"MMM\",\"MRK\",\"MSFT\",\"PFE\",\"PG\",\"T\",\"TRV\",\"UNH\",\"UTX\",\"VZ\",\"WMT\",\"XOM\"]\n",
    "\n",
    "def processdata(path): \n",
    "    # Folder Path \n",
    "    path = path\n",
    "    # Change the directory \n",
    "    os.chdir(path) \n",
    "  \n",
    "    #create price df and return df\n",
    "    master_df = pd.DataFrame()\n",
    "    return_df = pd.DataFrame()\n",
    "    i = 0\n",
    "    # iterate through all file \n",
    "    for file in os.listdir(): \n",
    "        # Check whether file is in text format or not \n",
    "        if file.endswith(\".txt\"): \n",
    "            file_path = f\"{path}\\{file}\"\n",
    "\n",
    "            with open(file_path, 'r') as f: \n",
    "                #read in csv and add adjusted price column to data frame\n",
    "                df = pd.read_csv(f,sep =\" \", header = None, index_col =False, names=['Date', '1', '2','3','4','5',col_names[i]])\n",
    "                data = df[col_names[i]]\n",
    "                master_df = pd.concat([master_df, data], axis=1)   \n",
    "                i+=1\n",
    "    # calculate the returns            \n",
    "    return_df = master_df.pct_change(1)\n",
    "    return_df = return_df.iloc[1:, :]*252\n",
    "    #get mean return vector for each\n",
    "    mu = return_df.mean()\n",
    "    #turn into numpy arrays\n",
    "    matrix_p = master_df.to_numpy()\n",
    "    matrix_r = return_df.to_numpy()\n",
    "    matrix_r = np.transpose(matrix_r)\n",
    "    #create 30x30 cov matrix\n",
    "    Q = np.cov(matrix_r)\n",
    "    return  mu, Q, master_df, return_df"
   ]
  },
  {
   "cell_type": "code",
   "execution_count": 133,
   "id": "76feeca3",
   "metadata": {},
   "outputs": [],
   "source": [
    "x = processdata(path)"
   ]
  },
  {
   "cell_type": "code",
   "execution_count": 134,
   "id": "5651945d",
   "metadata": {},
   "outputs": [],
   "source": [
    "#record the mu and cov matrix\n",
    "mu = x[0]\n",
    "Q= x[1]"
   ]
  },
  {
   "cell_type": "code",
   "execution_count": 135,
   "id": "eb884e5b",
   "metadata": {},
   "outputs": [
    {
     "data": {
      "text/plain": [
       "array([[21.68980458,  4.985245  ,  5.0910747 ,  6.15218005,  6.587781  ],\n",
       "       [ 4.985245  ,  9.17436029,  4.2075321 ,  5.58445932,  3.91584786],\n",
       "       [ 5.0910747 ,  4.2075321 , 10.720837  ,  4.82217168,  3.67061757],\n",
       "       [ 6.15218005,  5.58445932,  4.82217168, 13.64886255,  4.75268546],\n",
       "       [ 6.587781  ,  3.91584786,  3.67061757,  4.75268546, 10.56239698]])"
      ]
     },
     "execution_count": 135,
     "metadata": {},
     "output_type": "execute_result"
    }
   ],
   "source": [
    "Q[:5,:5]"
   ]
  },
  {
   "cell_type": "markdown",
   "id": "d8fc5d00",
   "metadata": {},
   "source": [
    "## Question 2"
   ]
  },
  {
   "cell_type": "code",
   "execution_count": 136,
   "id": "34c69156",
   "metadata": {},
   "outputs": [],
   "source": [
    "#create function which takes arguments mu, Q, tau\n",
    "def port(mu,Q,Tau):    \n",
    "    n_variables = len(mu)\n",
    "    \n",
    "    # Define the linear constraint coefficients\n",
    "    A = np.ones((1, n_variables))  # array of ones\n",
    "    b = np.array([1.0])\n",
    "    #constraint where sum of weights = 1\n",
    "    constraints = {'type': 'eq', 'fun': lambda x:  A @ x - b}\n",
    "    #each weight must be between 0,0.1\n",
    "    bounds = [(0, 0.1) for _ in range(n_variables)]\n",
    "    # minimize the negative of the function given\n",
    "    # method used SLSQP, but Powell, L-BFGS-B,\n",
    "    result = minimize(lambda x: 0.5 * x.T @ Q @ x - (tau * x.T @ mu), x0=np.zeros(n_variables), constraints=constraints, bounds=bounds, method ='SLSQP')\n",
    "    #store the weight vector as h\n",
    "    h = result.x\n",
    "    #calculate the return\n",
    "    ret = np.asmatrix(mu)*np.asmatrix(h).T\n",
    "    #ret= np.dot(mu,h)\n",
    "    ret = ret[0,0]\n",
    "    #calculate the volatility\n",
    "    std_dev = np.sqrt(np.asmatrix(h)*Q*np.asmatrix(h).T)\n",
    "    std_dev = std_dev[0,0]\n",
    "    return result.fun, h, ret, std_dev"
   ]
  },
  {
   "cell_type": "code",
   "execution_count": 137,
   "id": "59323f48",
   "metadata": {},
   "outputs": [
    {
     "data": {
      "text/plain": [
       "(1.3754710931408196,\n",
       " array([1.85558998e-16, 1.61793723e-17, 2.42451100e-02, 7.71164455e-17,\n",
       "        2.38974002e-02, 2.50103641e-02, 7.93268107e-17, 1.75894610e-02,\n",
       "        2.64946143e-17, 1.59182646e-17, 2.64938870e-02, 7.81213737e-03,\n",
       "        2.18172789e-02, 4.05421181e-03, 4.59862093e-02, 1.30027739e-16,\n",
       "        1.00000000e-01, 1.00000000e-01, 3.51765337e-03, 3.31965825e-02,\n",
       "        4.57992670e-17, 3.33035170e-02, 1.00000000e-01, 1.00000000e-01,\n",
       "        9.72602657e-02, 1.52463990e-02, 1.20704725e-17, 9.24692604e-02,\n",
       "        1.00000000e-01, 2.81002623e-02]),\n",
       " 0.07876681542350143,\n",
       " 1.6788929827555568)"
      ]
     },
     "execution_count": 137,
     "metadata": {},
     "output_type": "execute_result"
    }
   ],
   "source": [
    "#test out the port function for a given tau\n",
    "tau = .43\n",
    "port(mu,Q,tau)"
   ]
  },
  {
   "cell_type": "code",
   "execution_count": null,
   "id": "40c5f937",
   "metadata": {},
   "outputs": [],
   "source": []
  },
  {
   "cell_type": "markdown",
   "id": "8cdad716",
   "metadata": {},
   "source": [
    "## Question 3\n",
    "\n",
    "For some reason when I wrap my code in a function block it does not work, but it works seperate so I included it below. I think it is a problem when the optimizer is wrapped in a function and then you call that function in another function. It works manually so I included that below"
   ]
  },
  {
   "cell_type": "code",
   "execution_count": 138,
   "id": "7064c44c",
   "metadata": {},
   "outputs": [],
   "source": [
    "def frontier(mu, Q):\n",
    "    #create empty arrays to store returns and std devs\n",
    "    returns = []\n",
    "    std_devs = []\n",
    "    #create vector of taus\n",
    "    taus = np.arange(.001,.5,.001)\n",
    "    #loop for each value of tau\n",
    "    for i in range(len(taus)):\n",
    "        \n",
    "        tau= round(taus[i],3)\n",
    "        #call port for the given tau and get the weights vector h\n",
    "        sol = port(mu,Q,tau)\n",
    "        var = sol[0]\n",
    "        h = sol[1]\n",
    "        #ret = sol[2]\n",
    "        #std_dev=sol[3]\n",
    "        \n",
    "        #calculate return and std deviation\n",
    "        ret = np.asmatrix(mu)*np.asmatrix(h).T\n",
    "        std_dev = np.sqrt(np.asmatrix(h)*Q*np.asmatrix(h).T)\n",
    "        #add the values to the return and std_dev arrays\n",
    "        returns.append(ret[0,0])\n",
    "        std_devs.append(std_dev[0,0])\n",
    "    plt.plot(std_devs, returns, color ='red', label = \"EFF Frontier\")\n",
    "    plt.show()"
   ]
  },
  {
   "cell_type": "code",
   "execution_count": 139,
   "id": "579ac6a4",
   "metadata": {},
   "outputs": [
    {
     "data": {
      "image/png": "[encoded data removed]",
      "text/plain": [
       "<Figure size 640x480 with 1 Axes>"
      ]
     },
     "metadata": {},
     "output_type": "display_data"
    }
   ],
   "source": [
    "frontier(mu,Q)"
   ]
  },
  {
   "cell_type": "code",
   "execution_count": null,
   "id": "d5451b6e",
   "metadata": {},
   "outputs": [],
   "source": []
  },
  {
   "cell_type": "code",
   "execution_count": 140,
   "id": "242192d1",
   "metadata": {},
   "outputs": [
    {
     "data": {
      "image/png": "[encoded data removed]",
      "text/plain": [
       "<Figure size 640x480 with 1 Axes>"
      ]
     },
     "metadata": {},
     "output_type": "display_data"
    }
   ],
   "source": [
    "#same as the frontier function just not wrapped since the port function was not working for some reason\n",
    "#annualized since I was getting some issues with the small return values and slsqp would not work properly\n",
    "\n",
    "returns = []\n",
    "std_devs = []\n",
    "\n",
    "taus = np.arange(0,.5,.001)\n",
    "for i in range(len(taus)):\n",
    "        tau= round(taus[i],3)\n",
    "        sol = port(mu,Q,tau)\n",
    "        var = sol[0]\n",
    "        h = sol[1]\n",
    "        #ret = sol[2]\n",
    "        #std_dev=sol[3]\n",
    "        ret = np.asmatrix(mu)*np.asmatrix(h).T\n",
    "        std_dev = np.sqrt(np.asmatrix(h)*Q*np.asmatrix(h).T)\n",
    "        returns.append(ret[0,0])\n",
    "        std_devs.append(std_dev[0,0])\n",
    "plt.plot(std_devs, returns, color ='red', label = \"EFF Frontier\")\n",
    "plt.show()"
   ]
  },
  {
   "cell_type": "markdown",
   "id": "2b6b408e",
   "metadata": {},
   "source": [
    "## Question 4"
   ]
  },
  {
   "cell_type": "code",
   "execution_count": 141,
   "id": "461725b3",
   "metadata": {},
   "outputs": [],
   "source": [
    "path_1 = r\"C:\\Users\\bjorn\\Downloads\\Midtermdata\\Midtermdata\\data.tsv\"\n",
    "\n",
    "def processdata_1(path): \n",
    "    # Folder Path \n",
    "    path = path\n",
    "    #put the data into a dataframe and drop the date column\n",
    "    df = pd.read_csv(path,sep =\"\\t\")\n",
    "    df = df.drop([\"Unnamed: 0\"], axis=1)\n",
    "    df = df.rename(columns={'AAPL':'^dji','^DJI':'aapl'})\n",
    "    #make the return data frame\n",
    "    return_df = df.pct_change(1)\n",
    "    return_df = return_df.iloc[1:, :]\n",
    "    \n",
    "    #drop the dow jones column and make it its own\n",
    "    index_returns = return_df[\"^dji\"]*252\n",
    "    return_df = return_df.drop([\"^dji\"], axis=1)*252\n",
    "    #make the mu vector and annual mu vector\n",
    "    annual_mu = return_df.mean()\n",
    "    \n",
    "    #annual_mu = mu*252\n",
    "    \n",
    "    #dow jones avg return and annual return\n",
    "    annual_index_mu = index_returns.mean()\n",
    "    \n",
    "    #annual_index_mu = index_mu*252\n",
    "    \n",
    "    #calculate the index variance, make index returns an array\n",
    "    index_variance = index_returns.std()**2\n",
    "    index_returns = index_returns.to_numpy() \n",
    "    #convert dataframes into arrays \n",
    "    matrix_p = df.to_numpy()\n",
    "    matrix_r = return_df.to_numpy()\n",
    "    matrix_r_1 = np.transpose(matrix_r)\n",
    "    #calculate cov matrix Qts\n",
    "    Qts = np.cov(matrix_r_1)\n",
    "    #correlation matrix was used to check\n",
    "    corr = np.corrcoef(matrix_r_1)\n",
    "    #return a bunch of variables we may need \n",
    "    return df, return_df, annual_mu, annual_index_mu, index_returns, matrix_r, Qts , matrix_r_1, index_variance, #mu"
   ]
  },
  {
   "cell_type": "code",
   "execution_count": 142,
   "id": "86252f8d",
   "metadata": {},
   "outputs": [],
   "source": [
    "# import the data and generate the variables\n",
    "x = processdata_1(path_1)"
   ]
  },
  {
   "cell_type": "code",
   "execution_count": 143,
   "id": "334cae0b",
   "metadata": {},
   "outputs": [
    {
     "data": {
      "text/plain": [
       "array([[17.18975751,  5.16394956,  8.11715676,  7.50404189,  7.76013556],\n",
       "       [ 5.16394956, 11.80100462,  3.70962075,  5.02306758,  3.46425729],\n",
       "       [ 8.11715676,  3.70962075, 11.57832659,  5.91223415,  6.43691793],\n",
       "       [ 7.50404189,  5.02306758,  5.91223415, 15.58659996,  6.22194123],\n",
       "       [ 7.76013556,  3.46425729,  6.43691793,  6.22194123, 12.60131895]])"
      ]
     },
     "execution_count": 143,
     "metadata": {},
     "output_type": "execute_result"
    }
   ],
   "source": [
    "# 5 rows and 5 columns of cov matrix generated\n",
    "x[6][:5,:5]"
   ]
  },
  {
   "cell_type": "code",
   "execution_count": 144,
   "id": "64a68dab",
   "metadata": {},
   "outputs": [],
   "source": [
    "#store variables\n",
    "df, return_df, annual_mu, annual_index_mu, index_returns, matrix_r, Qts , matrix_r_1, index_variance = x"
   ]
  },
  {
   "cell_type": "code",
   "execution_count": 145,
   "id": "a654339b",
   "metadata": {},
   "outputs": [
    {
     "data": {
      "text/plain": [
       "array([[17.18975751,  5.16394956,  8.11715676,  7.50404189,  7.76013556],\n",
       "       [ 5.16394956, 11.80100462,  3.70962075,  5.02306758,  3.46425729],\n",
       "       [ 8.11715676,  3.70962075, 11.57832659,  5.91223415,  6.43691793],\n",
       "       [ 7.50404189,  5.02306758,  5.91223415, 15.58659996,  6.22194123],\n",
       "       [ 7.76013556,  3.46425729,  6.43691793,  6.22194123, 12.60131895]])"
      ]
     },
     "execution_count": 145,
     "metadata": {},
     "output_type": "execute_result"
    }
   ],
   "source": [
    "Qts[:5,:5]"
   ]
  },
  {
   "cell_type": "code",
   "execution_count": 146,
   "id": "1cf806a9",
   "metadata": {},
   "outputs": [],
   "source": [
    "#used to look at the covariances a little easier\n",
    "df_1 = pd.DataFrame(Qts,return_df.columns,return_df.columns)"
   ]
  },
  {
   "cell_type": "markdown",
   "id": "9f5de9c8",
   "metadata": {},
   "source": [
    "## Question 5"
   ]
  },
  {
   "cell_type": "code",
   "execution_count": 147,
   "id": "55b06f87",
   "metadata": {},
   "outputs": [],
   "source": [
    "# regression function to find intercepts, betas, std deviations, and estimate covariance matrix\n",
    "def regress(index_returns, matrix_r):\n",
    "    \n",
    "    #calculate index variance  \n",
    "    index_var = np.std(index_returns)**2 \n",
    "    #create arrays to store intercepts, betas, idiosyncratic std devs, variances\n",
    "    intercepts = []\n",
    "    betas = []\n",
    "    idiosyn_std_devs = []\n",
    "    variances = []\n",
    "    mus = []\n",
    "    #loop for each of the 30 stocks\n",
    "    for i in range( matrix_r.shape[1]):\n",
    "        #independent variable is the dow jones returns\n",
    "        X = index_returns\n",
    "        #dependent variable is the stock returns\n",
    "        y =  matrix_r[:,i]\n",
    "        X = X.reshape(-1, 1)\n",
    "        y = y.reshape(-1, 1)\n",
    "        #fit the line and get the score, beta, alpha(intercept)\n",
    "        reg = LinearRegression().fit(X, y)\n",
    "        s = reg.score(X,y)\n",
    "        beta = reg.coef_[0][0]\n",
    "        alpha = reg.intercept_[0]\n",
    "        #run a prediction and calculate the residual std dev\n",
    "        residuals = y-reg.predict(X)\n",
    "        #vol = np.sqrt(np.sum(residuals**2)/(matrix_r.shape[0]-1))\n",
    "        vol = np.std(residuals)\n",
    "        \n",
    "        #add intercepts and estimate the variance with the beta and vol(residual std dev)\n",
    "        intercepts.append(alpha)\n",
    "        betas.append(beta)\n",
    "        idiosyn_std_devs.append(vol)\n",
    "        #formula for variance given from beta, index variance and volatility\n",
    "        variance = ((beta**2)*index_var)+vol**2\n",
    "        variances.append(variance)\n",
    "        mu = alpha+beta*index_returns.mean()\n",
    "        mus.append(mu)\n",
    "    \n",
    "    #estimate covariance matrix (and correlation matrix to compare) by using the formula provided\n",
    "    Qsi = np.zeros((matrix_r.shape[1], matrix_r.shape[1]))\n",
    "    corr_1 = np.zeros((matrix_r.shape[1], matrix_r.shape[1]))\n",
    "    #put variances on the diagonal and the covariances elsewhere\n",
    "    for i in range(matrix_r.shape[1]):\n",
    "        for j in range(matrix_r.shape[1]):\n",
    "            if i == j :\n",
    "                Qsi[i,j] = variances[i]\n",
    "                corr_1[i,j] = 1\n",
    "            else:\n",
    "                #formula for covariance given from betas and index variance\n",
    "                Qsi[i,j]= betas[i]*betas[j]*index_var\n",
    "                corr_1[i,j]= Qsi[i,j]/(np.sqrt(variances[i])*np.sqrt(variances[j]))\n",
    "    \n",
    "    return intercepts, betas, idiosyn_std_devs, index_var, variances,mus, Qsi, corr_1\n",
    "        "
   ]
  },
  {
   "cell_type": "code",
   "execution_count": 148,
   "id": "81162552",
   "metadata": {},
   "outputs": [
    {
     "data": {
      "text/plain": [
       "array([[17.12072233,  5.45491294,  6.51690302,  6.79705457,  6.77493237],\n",
       "       [ 5.45491294, 11.75361102,  4.8844674 ,  5.09444308,  5.07786232],\n",
       "       [ 6.51690302,  4.8844674 , 11.53182729,  6.08625506,  6.06644628],\n",
       "       [ 6.79705457,  5.09444308,  6.08625506, 15.52400318,  6.32723339],\n",
       "       [ 6.77493237,  5.07786232,  6.06644628,  6.32723339, 12.55071125]])"
      ]
     },
     "execution_count": 148,
     "metadata": {},
     "output_type": "execute_result"
    }
   ],
   "source": [
    "#assign the variables output\n",
    "intercepts, betas, idiosyn_std_devs, index_var, variances, mus, Qsi, corr_1 = regress(index_returns, matrix_r)\n",
    "#5 rows and 5 columns of the estimated covariance matrix\n",
    "Qsi[:5,:5]"
   ]
  },
  {
   "cell_type": "code",
   "execution_count": 149,
   "id": "46cade7b",
   "metadata": {},
   "outputs": [
    {
     "data": {
      "text/plain": [
       "array([[17.18975751,  5.16394956,  8.11715676,  7.50404189,  7.76013556],\n",
       "       [ 5.16394956, 11.80100462,  3.70962075,  5.02306758,  3.46425729],\n",
       "       [ 8.11715676,  3.70962075, 11.57832659,  5.91223415,  6.43691793],\n",
       "       [ 7.50404189,  5.02306758,  5.91223415, 15.58659996,  6.22194123],\n",
       "       [ 7.76013556,  3.46425729,  6.43691793,  6.22194123, 12.60131895]])"
      ]
     },
     "execution_count": 149,
     "metadata": {},
     "output_type": "execute_result"
    }
   ],
   "source": [
    "Qts[:5,:5]"
   ]
  },
  {
   "cell_type": "code",
   "execution_count": 150,
   "id": "20d52f4a",
   "metadata": {},
   "outputs": [],
   "source": [
    "df_2 = pd.DataFrame(Qsi,return_df.columns,return_df.columns)"
   ]
  },
  {
   "cell_type": "markdown",
   "id": "7d46f901",
   "metadata": {},
   "source": [
    "## Question 6: Annual mu"
   ]
  },
  {
   "cell_type": "code",
   "execution_count": 151,
   "id": "0f8d2c25",
   "metadata": {},
   "outputs": [
    {
     "data": {
      "image/png": "[encoded data removed]",
      "text/plain": [
       "<Figure size 640x480 with 1 Axes>"
      ]
     },
     "metadata": {},
     "output_type": "display_data"
    }
   ],
   "source": [
    "#couldn't call frontier, but this is the frontier for annual mu and the calculated covariance matrix from Q4\n",
    "returns = []\n",
    "std_devs = []\n",
    "\n",
    "taus = np.arange(.001,.5,.001)\n",
    "for i in range(len(taus)):\n",
    "        tau= round(taus[i],3)\n",
    "        sol = port(annual_mu,Qts,tau)\n",
    "        var = sol[0]\n",
    "        h = sol[1]\n",
    "        #ret = sol[2]\n",
    "        #std_dev=sol[3]\n",
    "        ret = np.asmatrix(annual_mu)*np.asmatrix(h).T\n",
    "        std_dev = np.sqrt(np.asmatrix(h)*Qts*np.asmatrix(h).T)\n",
    "        returns.append(ret[0,0])\n",
    "        std_devs.append(std_dev[0,0])\n",
    "plt.plot(std_devs, returns, color ='blue', label = \"EFF Frontier\")\n",
    "plt.show()"
   ]
  },
  {
   "cell_type": "code",
   "execution_count": 152,
   "id": "b0b58b7e",
   "metadata": {},
   "outputs": [
    {
     "data": {
      "image/png": "[encoded data removed]",
      "text/plain": [
       "<Figure size 640x480 with 1 Axes>"
      ]
     },
     "metadata": {},
     "output_type": "display_data"
    }
   ],
   "source": [
    "#couldn't call frontier, but this is the frontier for annual mu and the estimated covariance matrix from Q5\n",
    "returns_1 = []\n",
    "std_devs_1 = []\n",
    "\n",
    "taus = np.arange(.001,.5,.001)\n",
    "for i in range(len(taus)):\n",
    "        tau= round(taus[i],3)\n",
    "        sol = port(mus,Qsi,tau)\n",
    "        var = sol[0]\n",
    "        h = sol[1]\n",
    "        #ret = sol[2]\n",
    "        #std_dev=sol[3]\n",
    "        ret = np.asmatrix(mus)*np.asmatrix(h).T\n",
    "        std_dev = np.sqrt(np.asmatrix(h)*Qsi*np.asmatrix(h).T)\n",
    "        returns_1.append(ret[0,0])\n",
    "        std_devs_1.append(std_dev[0,0])\n",
    "plt.plot(std_devs_1, returns_1, color ='red', label = \"EFF Frontier\")\n",
    "plt.show()"
   ]
  },
  {
   "cell_type": "code",
   "execution_count": 153,
   "id": "b1b7daa9",
   "metadata": {},
   "outputs": [
    {
     "data": {
      "image/png": "[encoded data removed]",
      "text/plain": [
       "<Figure size 640x480 with 1 Axes>"
      ]
     },
     "metadata": {},
     "output_type": "display_data"
    }
   ],
   "source": [
    "#superimposed plots, they are close with the difference in std deviation being off by a factor of .025\n",
    "plt.plot(std_devs, returns, color='blue')\n",
    "plt.plot(std_devs_1, returns_1, color='red')\n",
    "\n",
    "plt.show()"
   ]
  },
  {
   "cell_type": "code",
   "execution_count": 154,
   "id": "4d02b124",
   "metadata": {},
   "outputs": [
    {
     "data": {
      "text/plain": [
       "<function matplotlib.pyplot.show(close=None, block=None)>"
      ]
     },
     "execution_count": 154,
     "metadata": {},
     "output_type": "execute_result"
    },
    {
     "data": {
      "image/png": "[encoded data removed]",
      "text/plain": [
       "<Figure size 640x480 with 1 Axes>"
      ]
     },
     "metadata": {},
     "output_type": "display_data"
    }
   ],
   "source": [
    "#a look at regression\n",
    "x= index_returns\n",
    "x = sm.add_constant(x)\n",
    "y = matrix_r[:,2]\n",
    "model = sm.OLS(y, x)\n",
    "results = model.fit()\n",
    "predict = results.predict(x)\n",
    "plt.plot(index_returns,predict)\n",
    "plt.scatter(index_returns,y)\n",
    "plt.grid()\n",
    "plt.show"
   ]
  },
  {
   "cell_type": "code",
   "execution_count": 155,
   "id": "67296914",
   "metadata": {},
   "outputs": [
    {
     "name": "stdout",
     "output_type": "stream",
     "text": [
      "                            OLS Regression Results                            \n",
      "==============================================================================\n",
      "Dep. Variable:                      y   R-squared:                       0.506\n",
      "Model:                            OLS   Adj. R-squared:                  0.504\n",
      "Method:                 Least Squares   F-statistic:                     253.0\n",
      "Date:                Fri, 08 Dec 2023   Prob (F-statistic):           1.06e-39\n",
      "Time:                        19:26:55   Log-Likelihood:                -569.93\n",
      "No. Observations:                 249   AIC:                             1144.\n",
      "Df Residuals:                     247   BIC:                             1151.\n",
      "Df Model:                           1                                         \n",
      "Covariance Type:            nonrobust                                         \n",
      "==============================================================================\n",
      "                 coef    std err          t      P>|t|      [0.025      0.975]\n",
      "------------------------------------------------------------------------------\n",
      "const          0.1756      0.152      1.156      0.249      -0.124       0.475\n",
      "x1             1.0197      0.064     15.907      0.000       0.893       1.146\n",
      "==============================================================================\n",
      "Omnibus:                      112.012   Durbin-Watson:                   1.496\n",
      "Prob(Omnibus):                  0.000   Jarque-Bera (JB):             1132.267\n",
      "Skew:                           1.491   Prob(JB):                    1.35e-246\n",
      "Kurtosis:                      13.012   Cond. No.                         2.37\n",
      "==============================================================================\n",
      "\n",
      "Notes:\n",
      "[1] Standard Errors assume that the covariance matrix of the errors is correctly specified.\n"
     ]
    }
   ],
   "source": [
    "print(results.summary())"
   ]
  },
  {
   "cell_type": "code",
   "execution_count": 156,
   "id": "59211fd0",
   "metadata": {},
   "outputs": [
    {
     "data": {
      "text/html": [
       "<div>\n",
       "<style scoped>\n",
       "    .dataframe tbody tr th:only-of-type {\n",
       "        vertical-align: middle;\n",
       "    }\n",
       "\n",
       "    .dataframe tbody tr th {\n",
       "        vertical-align: top;\n",
       "    }\n",
       "\n",
       "    .dataframe thead th {\n",
       "        text-align: right;\n",
       "    }\n",
       "</style>\n",
       "<table border=\"1\" class=\"dataframe\">\n",
       "  <thead>\n",
       "    <tr style=\"text-align: right;\">\n",
       "      <th></th>\n",
       "      <th>AXP</th>\n",
       "      <th>BA</th>\n",
       "      <th>CAT</th>\n",
       "      <th>CSCO</th>\n",
       "      <th>CVX</th>\n",
       "      <th>DD</th>\n",
       "      <th>DIS</th>\n",
       "      <th>GE</th>\n",
       "      <th>GS</th>\n",
       "      <th>HD</th>\n",
       "      <th>...</th>\n",
       "      <th>PFE</th>\n",
       "      <th>PG</th>\n",
       "      <th>TRV</th>\n",
       "      <th>UNH</th>\n",
       "      <th>UTX</th>\n",
       "      <th>V</th>\n",
       "      <th>VZ</th>\n",
       "      <th>WMT</th>\n",
       "      <th>XOM</th>\n",
       "      <th>aapl</th>\n",
       "    </tr>\n",
       "  </thead>\n",
       "  <tbody>\n",
       "    <tr>\n",
       "      <th>AXP</th>\n",
       "      <td>17.189758</td>\n",
       "      <td>5.163950</td>\n",
       "      <td>8.117157</td>\n",
       "      <td>7.504042</td>\n",
       "      <td>7.760136</td>\n",
       "      <td>5.749718</td>\n",
       "      <td>6.395502</td>\n",
       "      <td>5.803977</td>\n",
       "      <td>6.435895</td>\n",
       "      <td>7.092305</td>\n",
       "      <td>...</td>\n",
       "      <td>6.239094</td>\n",
       "      <td>5.199586</td>\n",
       "      <td>4.521560</td>\n",
       "      <td>4.736512</td>\n",
       "      <td>7.085481</td>\n",
       "      <td>5.935080</td>\n",
       "      <td>6.234735</td>\n",
       "      <td>4.520417</td>\n",
       "      <td>4.878846</td>\n",
       "      <td>5.864956</td>\n",
       "    </tr>\n",
       "    <tr>\n",
       "      <th>BA</th>\n",
       "      <td>5.163950</td>\n",
       "      <td>11.801005</td>\n",
       "      <td>3.709621</td>\n",
       "      <td>5.023068</td>\n",
       "      <td>3.464257</td>\n",
       "      <td>4.267319</td>\n",
       "      <td>4.262013</td>\n",
       "      <td>4.100070</td>\n",
       "      <td>5.104498</td>\n",
       "      <td>6.164554</td>\n",
       "      <td>...</td>\n",
       "      <td>4.875137</td>\n",
       "      <td>4.528996</td>\n",
       "      <td>3.842933</td>\n",
       "      <td>4.200445</td>\n",
       "      <td>5.726216</td>\n",
       "      <td>4.608220</td>\n",
       "      <td>6.011435</td>\n",
       "      <td>4.046447</td>\n",
       "      <td>3.509210</td>\n",
       "      <td>3.484391</td>\n",
       "    </tr>\n",
       "    <tr>\n",
       "      <th>CAT</th>\n",
       "      <td>8.117157</td>\n",
       "      <td>3.709621</td>\n",
       "      <td>11.578327</td>\n",
       "      <td>5.912234</td>\n",
       "      <td>6.436918</td>\n",
       "      <td>5.088507</td>\n",
       "      <td>5.292388</td>\n",
       "      <td>5.142882</td>\n",
       "      <td>5.860775</td>\n",
       "      <td>6.103578</td>\n",
       "      <td>...</td>\n",
       "      <td>5.771296</td>\n",
       "      <td>4.211307</td>\n",
       "      <td>3.951963</td>\n",
       "      <td>4.873973</td>\n",
       "      <td>5.495761</td>\n",
       "      <td>6.033398</td>\n",
       "      <td>5.452918</td>\n",
       "      <td>4.121900</td>\n",
       "      <td>5.328031</td>\n",
       "      <td>4.738707</td>\n",
       "    </tr>\n",
       "    <tr>\n",
       "      <th>CSCO</th>\n",
       "      <td>7.504042</td>\n",
       "      <td>5.023068</td>\n",
       "      <td>5.912234</td>\n",
       "      <td>15.586600</td>\n",
       "      <td>6.221941</td>\n",
       "      <td>10.180008</td>\n",
       "      <td>7.189573</td>\n",
       "      <td>4.093393</td>\n",
       "      <td>8.207462</td>\n",
       "      <td>7.003930</td>\n",
       "      <td>...</td>\n",
       "      <td>4.362807</td>\n",
       "      <td>4.042409</td>\n",
       "      <td>3.797098</td>\n",
       "      <td>4.019818</td>\n",
       "      <td>4.503392</td>\n",
       "      <td>5.831677</td>\n",
       "      <td>5.687167</td>\n",
       "      <td>4.223546</td>\n",
       "      <td>2.880183</td>\n",
       "      <td>8.315665</td>\n",
       "    </tr>\n",
       "    <tr>\n",
       "      <th>CVX</th>\n",
       "      <td>7.760136</td>\n",
       "      <td>3.464257</td>\n",
       "      <td>6.436918</td>\n",
       "      <td>6.221941</td>\n",
       "      <td>12.601319</td>\n",
       "      <td>6.605386</td>\n",
       "      <td>6.610962</td>\n",
       "      <td>5.378391</td>\n",
       "      <td>6.416051</td>\n",
       "      <td>6.645179</td>\n",
       "      <td>...</td>\n",
       "      <td>6.029496</td>\n",
       "      <td>5.314021</td>\n",
       "      <td>4.868431</td>\n",
       "      <td>5.123564</td>\n",
       "      <td>5.275225</td>\n",
       "      <td>5.952877</td>\n",
       "      <td>6.353332</td>\n",
       "      <td>4.353866</td>\n",
       "      <td>4.976422</td>\n",
       "      <td>6.271119</td>\n",
       "    </tr>\n",
       "  </tbody>\n",
       "</table>\n",
       "<p>5 rows × 30 columns</p>\n",
       "</div>"
      ],
      "text/plain": [
       "            AXP         BA        CAT       CSCO        CVX         DD  \\\n",
       "AXP   17.189758   5.163950   8.117157   7.504042   7.760136   5.749718   \n",
       "BA     5.163950  11.801005   3.709621   5.023068   3.464257   4.267319   \n",
       "CAT    8.117157   3.709621  11.578327   5.912234   6.436918   5.088507   \n",
       "CSCO   7.504042   5.023068   5.912234  15.586600   6.221941  10.180008   \n",
       "CVX    7.760136   3.464257   6.436918   6.221941  12.601319   6.605386   \n",
       "\n",
       "           DIS        GE        GS        HD  ...       PFE        PG  \\\n",
       "AXP   6.395502  5.803977  6.435895  7.092305  ...  6.239094  5.199586   \n",
       "BA    4.262013  4.100070  5.104498  6.164554  ...  4.875137  4.528996   \n",
       "CAT   5.292388  5.142882  5.860775  6.103578  ...  5.771296  4.211307   \n",
       "CSCO  7.189573  4.093393  8.207462  7.003930  ...  4.362807  4.042409   \n",
       "CVX   6.610962  5.378391  6.416051  6.645179  ...  6.029496  5.314021   \n",
       "\n",
       "           TRV       UNH       UTX         V        VZ       WMT       XOM  \\\n",
       "AXP   4.521560  4.736512  7.085481  5.935080  6.234735  4.520417  4.878846   \n",
       "BA    3.842933  4.200445  5.726216  4.608220  6.011435  4.046447  3.509210   \n",
       "CAT   3.951963  4.873973  5.495761  6.033398  5.452918  4.121900  5.328031   \n",
       "CSCO  3.797098  4.019818  4.503392  5.831677  5.687167  4.223546  2.880183   \n",
       "CVX   4.868431  5.123564  5.275225  5.952877  6.353332  4.353866  4.976422   \n",
       "\n",
       "          aapl  \n",
       "AXP   5.864956  \n",
       "BA    3.484391  \n",
       "CAT   4.738707  \n",
       "CSCO  8.315665  \n",
       "CVX   6.271119  \n",
       "\n",
       "[5 rows x 30 columns]"
      ]
     },
     "execution_count": 156,
     "metadata": {},
     "output_type": "execute_result"
    }
   ],
   "source": [
    "df_1.head()"
   ]
  },
  {
   "cell_type": "code",
   "execution_count": 157,
   "id": "3402fd91",
   "metadata": {},
   "outputs": [
    {
     "data": {
      "text/html": [
       "<div>\n",
       "<style scoped>\n",
       "    .dataframe tbody tr th:only-of-type {\n",
       "        vertical-align: middle;\n",
       "    }\n",
       "\n",
       "    .dataframe tbody tr th {\n",
       "        vertical-align: top;\n",
       "    }\n",
       "\n",
       "    .dataframe thead th {\n",
       "        text-align: right;\n",
       "    }\n",
       "</style>\n",
       "<table border=\"1\" class=\"dataframe\">\n",
       "  <thead>\n",
       "    <tr style=\"text-align: right;\">\n",
       "      <th></th>\n",
       "      <th>AXP</th>\n",
       "      <th>BA</th>\n",
       "      <th>CAT</th>\n",
       "      <th>CSCO</th>\n",
       "      <th>CVX</th>\n",
       "      <th>DD</th>\n",
       "      <th>DIS</th>\n",
       "      <th>GE</th>\n",
       "      <th>GS</th>\n",
       "      <th>HD</th>\n",
       "      <th>...</th>\n",
       "      <th>PFE</th>\n",
       "      <th>PG</th>\n",
       "      <th>TRV</th>\n",
       "      <th>UNH</th>\n",
       "      <th>UTX</th>\n",
       "      <th>V</th>\n",
       "      <th>VZ</th>\n",
       "      <th>WMT</th>\n",
       "      <th>XOM</th>\n",
       "      <th>aapl</th>\n",
       "    </tr>\n",
       "  </thead>\n",
       "  <tbody>\n",
       "    <tr>\n",
       "      <th>AXP</th>\n",
       "      <td>17.120722</td>\n",
       "      <td>5.454913</td>\n",
       "      <td>6.516903</td>\n",
       "      <td>6.797055</td>\n",
       "      <td>6.774932</td>\n",
       "      <td>7.338864</td>\n",
       "      <td>6.522561</td>\n",
       "      <td>5.861374</td>\n",
       "      <td>6.807852</td>\n",
       "      <td>7.447319</td>\n",
       "      <td>...</td>\n",
       "      <td>6.276218</td>\n",
       "      <td>5.660381</td>\n",
       "      <td>4.897404</td>\n",
       "      <td>5.583335</td>\n",
       "      <td>6.589393</td>\n",
       "      <td>6.244609</td>\n",
       "      <td>7.147881</td>\n",
       "      <td>4.785256</td>\n",
       "      <td>4.953482</td>\n",
       "      <td>6.718693</td>\n",
       "    </tr>\n",
       "    <tr>\n",
       "      <th>BA</th>\n",
       "      <td>5.454913</td>\n",
       "      <td>11.753611</td>\n",
       "      <td>4.884467</td>\n",
       "      <td>5.094443</td>\n",
       "      <td>5.077862</td>\n",
       "      <td>5.500533</td>\n",
       "      <td>4.888708</td>\n",
       "      <td>4.393144</td>\n",
       "      <td>5.102536</td>\n",
       "      <td>5.581821</td>\n",
       "      <td>...</td>\n",
       "      <td>4.704072</td>\n",
       "      <td>4.242498</td>\n",
       "      <td>3.670641</td>\n",
       "      <td>4.184751</td>\n",
       "      <td>4.938799</td>\n",
       "      <td>4.680381</td>\n",
       "      <td>5.357390</td>\n",
       "      <td>3.586585</td>\n",
       "      <td>3.712672</td>\n",
       "      <td>5.035710</td>\n",
       "    </tr>\n",
       "    <tr>\n",
       "      <th>CAT</th>\n",
       "      <td>6.516903</td>\n",
       "      <td>4.884467</td>\n",
       "      <td>11.531827</td>\n",
       "      <td>6.086255</td>\n",
       "      <td>6.066446</td>\n",
       "      <td>6.571405</td>\n",
       "      <td>5.840467</td>\n",
       "      <td>5.248423</td>\n",
       "      <td>6.095924</td>\n",
       "      <td>6.668518</td>\n",
       "      <td>...</td>\n",
       "      <td>5.619884</td>\n",
       "      <td>5.068449</td>\n",
       "      <td>4.385260</td>\n",
       "      <td>4.999460</td>\n",
       "      <td>5.900309</td>\n",
       "      <td>5.591581</td>\n",
       "      <td>6.400394</td>\n",
       "      <td>4.284840</td>\n",
       "      <td>4.435473</td>\n",
       "      <td>6.016088</td>\n",
       "    </tr>\n",
       "    <tr>\n",
       "      <th>CSCO</th>\n",
       "      <td>6.797055</td>\n",
       "      <td>5.094443</td>\n",
       "      <td>6.086255</td>\n",
       "      <td>15.524003</td>\n",
       "      <td>6.327233</td>\n",
       "      <td>6.853899</td>\n",
       "      <td>6.091539</td>\n",
       "      <td>5.474045</td>\n",
       "      <td>6.357978</td>\n",
       "      <td>6.955187</td>\n",
       "      <td>...</td>\n",
       "      <td>5.861475</td>\n",
       "      <td>5.286334</td>\n",
       "      <td>4.573775</td>\n",
       "      <td>5.214379</td>\n",
       "      <td>6.153954</td>\n",
       "      <td>5.831955</td>\n",
       "      <td>6.675537</td>\n",
       "      <td>4.469038</td>\n",
       "      <td>4.626148</td>\n",
       "      <td>6.274710</td>\n",
       "    </tr>\n",
       "    <tr>\n",
       "      <th>CVX</th>\n",
       "      <td>6.774932</td>\n",
       "      <td>5.077862</td>\n",
       "      <td>6.066446</td>\n",
       "      <td>6.327233</td>\n",
       "      <td>12.550711</td>\n",
       "      <td>6.831592</td>\n",
       "      <td>6.071713</td>\n",
       "      <td>5.456228</td>\n",
       "      <td>6.337285</td>\n",
       "      <td>6.932551</td>\n",
       "      <td>...</td>\n",
       "      <td>5.842397</td>\n",
       "      <td>5.269129</td>\n",
       "      <td>4.558889</td>\n",
       "      <td>5.197408</td>\n",
       "      <td>6.133925</td>\n",
       "      <td>5.812973</td>\n",
       "      <td>6.653810</td>\n",
       "      <td>4.454493</td>\n",
       "      <td>4.611091</td>\n",
       "      <td>6.254288</td>\n",
       "    </tr>\n",
       "  </tbody>\n",
       "</table>\n",
       "<p>5 rows × 30 columns</p>\n",
       "</div>"
      ],
      "text/plain": [
       "            AXP         BA        CAT       CSCO        CVX        DD  \\\n",
       "AXP   17.120722   5.454913   6.516903   6.797055   6.774932  7.338864   \n",
       "BA     5.454913  11.753611   4.884467   5.094443   5.077862  5.500533   \n",
       "CAT    6.516903   4.884467  11.531827   6.086255   6.066446  6.571405   \n",
       "CSCO   6.797055   5.094443   6.086255  15.524003   6.327233  6.853899   \n",
       "CVX    6.774932   5.077862   6.066446   6.327233  12.550711  6.831592   \n",
       "\n",
       "           DIS        GE        GS        HD  ...       PFE        PG  \\\n",
       "AXP   6.522561  5.861374  6.807852  7.447319  ...  6.276218  5.660381   \n",
       "BA    4.888708  4.393144  5.102536  5.581821  ...  4.704072  4.242498   \n",
       "CAT   5.840467  5.248423  6.095924  6.668518  ...  5.619884  5.068449   \n",
       "CSCO  6.091539  5.474045  6.357978  6.955187  ...  5.861475  5.286334   \n",
       "CVX   6.071713  5.456228  6.337285  6.932551  ...  5.842397  5.269129   \n",
       "\n",
       "           TRV       UNH       UTX         V        VZ       WMT       XOM  \\\n",
       "AXP   4.897404  5.583335  6.589393  6.244609  7.147881  4.785256  4.953482   \n",
       "BA    3.670641  4.184751  4.938799  4.680381  5.357390  3.586585  3.712672   \n",
       "CAT   4.385260  4.999460  5.900309  5.591581  6.400394  4.284840  4.435473   \n",
       "CSCO  4.573775  5.214379  6.153954  5.831955  6.675537  4.469038  4.626148   \n",
       "CVX   4.558889  5.197408  6.133925  5.812973  6.653810  4.454493  4.611091   \n",
       "\n",
       "          aapl  \n",
       "AXP   6.718693  \n",
       "BA    5.035710  \n",
       "CAT   6.016088  \n",
       "CSCO  6.274710  \n",
       "CVX   6.254288  \n",
       "\n",
       "[5 rows x 30 columns]"
      ]
     },
     "execution_count": 157,
     "metadata": {},
     "output_type": "execute_result"
    }
   ],
   "source": [
    "df_2.head()"
   ]
  },
  {
   "cell_type": "code",
   "execution_count": 158,
   "id": "9125703e",
   "metadata": {},
   "outputs": [
    {
     "data": {
      "text/plain": [
       "<function matplotlib.pyplot.show(close=None, block=None)>"
      ]
     },
     "execution_count": 158,
     "metadata": {},
     "output_type": "execute_result"
    },
    {
     "data": {
      "image/png": "[encoded data removed]",
      "text/plain": [
       "<Figure size 640x480 with 1 Axes>"
      ]
     },
     "metadata": {},
     "output_type": "display_data"
    }
   ],
   "source": [
    "x= index_returns\n",
    "x = sm.add_constant(x)\n",
    "y = matrix_r[:,0]\n",
    "model = sm.OLS(y, x)\n",
    "results = model.fit()\n",
    "predict = results.predict(x)\n",
    "plt.plot(index_returns,predict)\n",
    "plt.scatter(index_returns,y)\n",
    "plt.grid()\n",
    "plt.show"
   ]
  },
  {
   "cell_type": "code",
   "execution_count": 159,
   "id": "3f53d9f4",
   "metadata": {},
   "outputs": [
    {
     "data": {
      "text/plain": [
       "<function matplotlib.pyplot.show(close=None, block=None)>"
      ]
     },
     "execution_count": 159,
     "metadata": {},
     "output_type": "execute_result"
    },
    {
     "data": {
      "image/png": "[encoded data removed]",
      "text/plain": [
       "<Figure size 640x480 with 1 Axes>"
      ]
     },
     "metadata": {},
     "output_type": "display_data"
    }
   ],
   "source": [
    "X = index_returns\n",
    "        #dependent variable is the stock returns\n",
    "y =  matrix_r[:,0]\n",
    "X = X.reshape(-1, 1)\n",
    "y = y.reshape(-1, 1)\n",
    "#fit the line and get the score, beta, alpha(intercept)\n",
    "reg = LinearRegression().fit(X, y)\n",
    "s = reg.score(X,y)\n",
    "beta = reg.coef_[0][0]\n",
    "alpha = reg.intercept_[0]\n",
    "predict = reg.predict(X)\n",
    "#run a prediction and calculate the residual std dev\n",
    "residuals = y-reg.predict(X)\n",
    "vol = np.sqrt(np.sum(residuals**2)/(matrix_r.shape[0]-1))\n",
    "        \n",
    "plt.plot(index_returns,predict)\n",
    "plt.scatter(index_returns,y)\n",
    "plt.grid()\n",
    "plt.show"
   ]
  },
  {
   "cell_type": "code",
   "execution_count": 160,
   "id": "761bf19e",
   "metadata": {},
   "outputs": [
    {
     "data": {
      "text/plain": [
       "<function matplotlib.pyplot.show(close=None, block=None)>"
      ]
     },
     "execution_count": 160,
     "metadata": {},
     "output_type": "execute_result"
    },
    {
     "data": {
      "image/png": "[encoded data removed]",
      "text/plain": [
       "<Figure size 640x480 with 1 Axes>"
      ]
     },
     "metadata": {},
     "output_type": "display_data"
    }
   ],
   "source": [
    "plt.scatter(residuals, predict)\n",
    "plt.grid()\n",
    "plt.show"
   ]
  },
  {
   "cell_type": "code",
   "execution_count": 161,
   "id": "8ca1d5c0",
   "metadata": {},
   "outputs": [
    {
     "data": {
      "text/plain": [
       "3.143630678583644"
      ]
     },
     "execution_count": 161,
     "metadata": {},
     "output_type": "execute_result"
    }
   ],
   "source": [
    "vol\n"
   ]
  },
  {
   "cell_type": "code",
   "execution_count": 162,
   "id": "43119448",
   "metadata": {},
   "outputs": [
    {
     "data": {
      "text/plain": [
       "3.1373118165593445"
      ]
     },
     "execution_count": 162,
     "metadata": {},
     "output_type": "execute_result"
    }
   ],
   "source": [
    "np.std(residuals)"
   ]
  },
  {
   "cell_type": "code",
   "execution_count": null,
   "id": "01f02100",
   "metadata": {},
   "outputs": [],
   "source": []
  }
 ],
 "metadata": {
  "kernelspec": {
   "display_name": "Python 3 (ipykernel)",
   "language": "python",
   "name": "python3"
  },
  "language_info": {
   "codemirror_mode": {
    "name": "ipython",
    "version": 3
   },
   "file_extension": ".py",
   "mimetype": "text/x-python",
   "name": "python",
   "nbconvert_exporter": "python",
   "pygments_lexer": "ipython3",
   "version": "3.11.9"
  }
 },
 "nbformat": 4,
 "nbformat_minor": 5
}

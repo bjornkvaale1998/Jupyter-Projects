{
 "cells": [
  {
   "cell_type": "markdown",
   "id": "b0aa9aeb",
   "metadata": {},
   "source": [
    "# Portfolio Theory and Risk Aversion Analysis\n",
    "\n",
    "This notebook explores key concepts in portfolio theory and risk aversion using both analytical and numerical methods. It covers:\n",
    "\n",
    "- Calculation of certainty equivalents and risk premiums under different utility functions (logarithmic and power utility).\n",
    "- Analytical derivations and Taylor series approximations for risk premium.\n",
    "- Discussion of risk aversion coefficients and their implications for investor behavior.\n",
    "- Downloading and analyzing historical stock data to compute returns, covariances, and construct the efficient frontier.\n",
    "- Implementation of quadratic programming to solve for optimal portfolio weights under various risk-return preferences.\n",
    "- Examination of diversification effects and the impact of correlation on portfolio risk.\n",
    "\n",
    "The notebook combines theoretical explanations with practical Python code to provide a comprehensive understanding of modern portfolio theory."
   ]
  },
  {
   "cell_type": "code",
   "execution_count": 3,
   "id": "342b6836",
   "metadata": {},
   "outputs": [],
   "source": [
    "import numpy as np\n",
    "import pandas as pd\n",
    "import math\n",
    "import matplotlib.pyplot as plt\n",
    "from numpy.linalg import inv\n",
    "from cvxopt import matrix, solvers\n",
    "from numpy import c_\n",
    "import yfinance as yf"
   ]
  },
  {
   "cell_type": "markdown",
   "id": "73472107",
   "metadata": {},
   "source": [
    "### Question 1.\n",
    "\n",
    "$W_{0}$ = 1000\n",
    "<br>\n",
    "-150 with prob. p=1/2\n",
    "<br>\n",
    "+150 with prob. q=1/2\n",
    "<br>\n",
    "U(W)=ln(W)"
   ]
  },
  {
   "cell_type": "markdown",
   "id": "3ae63a75",
   "metadata": {},
   "source": [
    "### a.\n",
    "#### Certainty Equivalent\n",
    "E[U(W)] = U(CE)\n",
    "<br>\n",
    "$e^{U(CE)}$ = $e^{ln(CE)}$ = CE\n",
    "<br>\n",
    "CE = $988.68\n",
    "\n",
    "#### Risk Premium\n",
    "RP = E($W_{t}$)-CE\n",
    "<br>\n",
    "RP = $11.31\n",
    "\n",
    "#### Taylor Series Expansion\n",
    "Risk Premium is approximated by y is about equal to volatility*A($W*_{T}$)/2 with  A($W*_{T}$) = -U\"($W*_{T}$) / U'($W*_{T}$) \n",
    "<br>\n",
    "A($W*_{T}$) = -1/$W*_{T}$ where $W*_{T}$ = 1000 so A($W*_{T}$) = 1/1000. Volatility = E(($W_{T}$-E($W_{T}$)$)^{2}$) = 1/2*(850-1000$)^{2}$ + 1/2*(1150-1000$)^{2}$ = 22500. This approximates the risk premium to 22500/2000 = 11.25 which is close to 11.31"
   ]
  },
  {
   "cell_type": "code",
   "execution_count": 4,
   "id": "82d30776",
   "metadata": {},
   "outputs": [
    {
     "name": "stdout",
     "output_type": "stream",
     "text": [
      "Expected Utility = 6.896376785420829\n"
     ]
    }
   ],
   "source": [
    "#E[U(W)]\n",
    "W_0=1000\n",
    "z_1 = 150\n",
    "z_2 = 150\n",
    "p=1/2\n",
    "q=1/2\n",
    "def calc_expected_utility (W_0,z_1,z_2,p,q):\n",
    "    U_1 = math.log(W_0-z_1)\n",
    "    U_2 = math.log(W_0+z_2)\n",
    "    expected_utility = p*U_1+q*U_2\n",
    "    return expected_utility\n",
    "exp_util = calc_expected_utility(W_0,z_1,z_2,p,q)\n",
    "print(\"Expected Utility = \"+ str(exp_util))"
   ]
  },
  {
   "cell_type": "code",
   "execution_count": 5,
   "id": "e617d8f2",
   "metadata": {},
   "outputs": [
    {
     "name": "stdout",
     "output_type": "stream",
     "text": [
      "Certainty Equivalent = 988.6859966642594\n"
     ]
    }
   ],
   "source": [
    "#U(CE)\n",
    "def calc_certainty_equivalent(exp_util):\n",
    "    CE=math.exp(exp_util)\n",
    "    return CE\n",
    "cert_equiv = calc_certainty_equivalent(exp_util)\n",
    "print(\"Certainty Equivalent = \"+ str(cert_equiv))"
   ]
  },
  {
   "cell_type": "code",
   "execution_count": 6,
   "id": "2f4e7f8e",
   "metadata": {},
   "outputs": [
    {
     "name": "stdout",
     "output_type": "stream",
     "text": [
      "Risk Premium = 11.314003335740608\n"
     ]
    }
   ],
   "source": [
    "#RP \n",
    "def calc_risk_premium(W_0,z_1,z_2,p,q,cert_equiv):\n",
    "    expected_wealth = p*(W_0-z_1)+q*(W_0+z_2)\n",
    "    RP=expected_wealth - cert_equiv\n",
    "    return RP\n",
    "RP = calc_risk_premium(W_0,z_1,z_2,p,q,cert_equiv)\n",
    "print(\"Risk Premium = \" +str(RP))"
   ]
  },
  {
   "cell_type": "code",
   "execution_count": 7,
   "id": "564c1376",
   "metadata": {},
   "outputs": [
    {
     "name": "stdout",
     "output_type": "stream",
     "text": [
      "Volatility = 22500.0\n"
     ]
    }
   ],
   "source": [
    "#volatility\n",
    "volatility = p*((-z_1)**2)+q*(z_2**2)\n",
    "print(\"Volatility = \" +str(volatility))"
   ]
  },
  {
   "cell_type": "markdown",
   "id": "9c1b2d67",
   "metadata": {},
   "source": [
    "### b. \n",
    "$W_{0}$ = 2000\n",
    "<br>\n",
    "RP = $5.63 \n",
    "<br> This makes sense since RP should decrease as wealth increases"
   ]
  },
  {
   "cell_type": "code",
   "execution_count": 8,
   "id": "9195a7be",
   "metadata": {},
   "outputs": [
    {
     "name": "stdout",
     "output_type": "stream",
     "text": [
      "Risk Premium = 5.632932482087199\n"
     ]
    }
   ],
   "source": [
    "W_0 = 2000\n",
    "exp_util = calc_expected_utility(W_0,z_1,z_2,p,q)\n",
    "cert_equiv = calc_certainty_equivalent(exp_util)\n",
    "RP = calc_risk_premium(W_0,z_1,z_2,p,q,cert_equiv)\n",
    "print(\"Risk Premium = \" +str(RP))"
   ]
  },
  {
   "cell_type": "markdown",
   "id": "a8b236c5",
   "metadata": {},
   "source": [
    "### c.\n",
    "$W_{0}$ = 1000\n",
    "<br>\n",
    "-300 with prob. p = 1/2\n",
    "<br>\n",
    "+300 with prob. q = 1/2\n",
    "<br>\n",
    "RP = $46.06 \n",
    "<br>\n",
    "This makes sense since RP should increase since there is a higher volatility"
   ]
  },
  {
   "cell_type": "code",
   "execution_count": 9,
   "id": "62ef38e7",
   "metadata": {},
   "outputs": [
    {
     "name": "stdout",
     "output_type": "stream",
     "text": [
      "Risk Premium = 46.060798583054975\n"
     ]
    }
   ],
   "source": [
    "W_0 = 1000\n",
    "z_1 = 300\n",
    "z_2 = 300\n",
    "exp_util = calc_expected_utility(W_0,z_1,z_2,p,q)\n",
    "cert_equiv = calc_certainty_equivalent(exp_util)\n",
    "RP = calc_risk_premium(W_0,z_1,z_2,p,q,cert_equiv)\n",
    "print(\"Risk Premium = \" +str(RP))"
   ]
  },
  {
   "cell_type": "markdown",
   "id": "4dd37af8",
   "metadata": {},
   "source": [
    "### Question 2\n",
    "$W_{0}$ = 1000\n",
    "<br> \n",
    "-400 with prob. p = 1/3\n",
    "<br>\n",
    "+250 with prob. q = 2/3\n",
    "<br>\n",
    "U(W) = $W^{k}$ where k is a real number\n",
    "<br> <br>\n",
    "\n",
    "If we assume that there is an equal probability to lose/gain the same amount of money. We have 3 scenarios, if k = 1 then the investor is neutral towards risk, meaning that the utility fluctuates by the same amount if he loses c dollars and if he gains x dollars. We see here that U(W) = W. If k<1 we see that the investor is risk adverse, similar to the log utility above, as the investor gains more wealth, the utility that each additional unit of wealth provides decreases. If k>1 then this investor is a risk taker, each additional unit of wealth provides increasing utility. For example, if k=1/2 and $W_{0}$=100, then U(100)=10. A 5 dollar increase leads us to a utility of 10.2469 for a difference of .2469. A 5 dollar decrease leads us to a utility of 9.7467 for a difference of .2533. This means that the expected utility of gaining/losing 5 dollars is less than the utility of expected wealth, or E[U(W)]<U[E(W)]. This is the opposite for k>1 which would lead us to E[U(W)]>U[E(W)] which means that the risk is worth it so they are a risk taker. \n",
    "<br><br>\n",
    "In this scenario however, there is a 2/3 chance to win 250 and a 1/3 chance to lose 400 which changes the k value that is the \"sweet spot\" for where E[U(W)]=U[E(W)]. The risk aversion coefficient is A($W*_{T}$) = -U\"($W*_{T}$) / U'($W*_{T}$) so we get - k(k-1)$W*_{T}^{(k-2)}$ / k$W*_{T}^{(k-1)}$. Since $W*_{T}$ has mean 0 we compute this by doing 1250*2/3+600*1/3= 1033.33 so $W*_{T}$ = 1033.33 with x = 216.67 with prob. 2/3 and x = -433.33 with prob. 1/3. We then calculate A($W*_{T}$) and get 1-k/$W*_{T}$ = (1-k)/1033.33\n",
    "<br> <br>\n",
    "k=1/2\n",
    "<br>\n",
    "E[U(W)] = U(CE) = $CE^{1/2}$\n",
    "<br>\n",
    "CE = $E[U(W)]^{2}$ = 1007.12\n",
    "<br>\n",
    "RP = 26.21\n",
    "<br>\n",
    "by approximation we have volatility times A($W*_{T}$)/2 so for k = 1/2, A($W*_{T}$) = .00048387. volatility = 93888.89 so RP is about 22.71\n",
    "<br> <br>\n",
    "k=2\n",
    "<br>\n",
    "E[U(W)] = U(CE) = $CE^{2}$\n",
    "<br>\n",
    "CE = $E[U(W)]^{1/2}$ = 1077.81\n",
    "<br>\n",
    "RP = -44.47\n",
    "<br>\n",
    "by approximation we have volatility times A($W*_{T}$)/2 so for k = 2, A($W*_{T}$) = -.00096775. volatility = 93888.89 so RP is about -45.43"
   ]
  },
  {
   "cell_type": "code",
   "execution_count": 10,
   "id": "bdeeda6a",
   "metadata": {},
   "outputs": [
    {
     "name": "stdout",
     "output_type": "stream",
     "text": [
      "Expected Utility for k = 1/2 is 31.735191848828844\n",
      "Expected Utility for k = 2 is 1161666.6666666665\n"
     ]
    }
   ],
   "source": [
    "#k=1/2\n",
    "k=1/2\n",
    "W_0 = 1000\n",
    "z_1 = 400\n",
    "z_2 = 250\n",
    "p=1/3\n",
    "q=2/3\n",
    "def calc_expected_utility_power (W_0,z_1,z_2,p,q,k):\n",
    "    U_1 = (W_0-z_1)**k\n",
    "    U_2 = (W_0+z_2)**k\n",
    "    expected_utility = p*U_1+q*U_2\n",
    "    return expected_utility\n",
    "exp_util_1 = calc_expected_utility_power(W_0,z_1,z_2,p,q,k)\n",
    "k=2\n",
    "exp_util_2 = calc_expected_utility_power(W_0,z_1,z_2,p,q,k)\n",
    "print(\"Expected Utility for k = 1/2 is \"+ str(exp_util_1)+\"\\n\"+ \"Expected Utility for k = 2 is \"+ str(exp_util_2))"
   ]
  },
  {
   "cell_type": "code",
   "execution_count": 11,
   "id": "82f80bd8",
   "metadata": {},
   "outputs": [
    {
     "name": "stdout",
     "output_type": "stream",
     "text": [
      "Certainty Equivalent for k = 1/2 is 1007.1224016819727\n",
      "Certainty Equivalent for k = 2 is 1077.8064142816495\n"
     ]
    }
   ],
   "source": [
    "k = 1/2\n",
    "def calc_certainty_equivalent_power(exp_util,k):\n",
    "    k=1/k\n",
    "    CE=exp_util**k\n",
    "    return CE\n",
    "cert_equiv_1 = calc_certainty_equivalent_power(exp_util_1,k)\n",
    "k=2\n",
    "cert_equiv_2 = calc_certainty_equivalent_power(exp_util_2,k)\n",
    "print(\"Certainty Equivalent for k = 1/2 is \"+ str(cert_equiv_1)+\"\\n\"+\"Certainty Equivalent for k = 2 is \"+ str(cert_equiv_2))"
   ]
  },
  {
   "cell_type": "code",
   "execution_count": 12,
   "id": "f7a7f1b2",
   "metadata": {},
   "outputs": [
    {
     "name": "stdout",
     "output_type": "stream",
     "text": [
      "Risk Premium for k = 1/2 is 26.21093165136051\n",
      "Risk Premium for k = 2 is -44.47308094831624\n"
     ]
    }
   ],
   "source": [
    "RP_1 = calc_risk_premium(W_0,z_1,z_2,p,q,cert_equiv_1)\n",
    "RP_2 = calc_risk_premium(W_0,z_1,z_2,p,q,cert_equiv_2)\n",
    "print(\"Risk Premium for k = 1/2 is \"+ str(RP_1)+\"\\n\"+\"Risk Premium for k = 2 is \"+ str(RP_2))"
   ]
  },
  {
   "cell_type": "code",
   "execution_count": 13,
   "id": "cda1ef97",
   "metadata": {
    "scrolled": true
   },
   "outputs": [
    {
     "name": "stdout",
     "output_type": "stream",
     "text": [
      "Volatility = 93888.88889999999\n"
     ]
    }
   ],
   "source": [
    "W_mean = 1033.33\n",
    "volatility = p*((600-W_mean)**2)+q*((1250-W_mean)**2)\n",
    "print(\"Volatility = \" +str(volatility))"
   ]
  },
  {
   "cell_type": "markdown",
   "id": "4c165685",
   "metadata": {},
   "source": [
    "### Question 3\n",
    "\n",
    "b. We start with A($r_{p}$) = -U\"($r_{p}$) / U'($r_{p}$). If A($r_{p}$) > 0 than the investor is Risk-averse. U($r_{p}$) = -$e^{-\\lambda*r_{p}}$ so U'$r_{p}$) = $\\lambda$*$e^{-\\lambda*r_{p}}$ and U\"($r_{p}$) = -$\\lambda^{2}$ *$e^{-\\lambda*r_{p}}$. This simplifies to A($r_{p}$) = $\\lambda$ so when $\\lambda$ > 0, the investor is risk-averse.\n",
    "<br><br>\n",
    "c. $\\mu_{p}$($\\omega$) = $\\Sigma^{n}_{i=1}$$\\omega_{i}$*$\\mu_{i}$\n",
    "<br>\n",
    "$\\sigma^{2}_{p}$($\\omega$) = $\\Sigma^{n}_{i=1}$$(\\omega)^{2}$*$\\Sigma_{ii}$ + $\\Sigma^{n}_{i=1}\\Sigma^{n}_{j=1}$$(\\omega)^{2}$$\\Sigma_{ij}$ (for i not equal to j)."
   ]
  },
  {
   "cell_type": "markdown",
   "id": "10947c05",
   "metadata": {},
   "source": [
    "### Question 4\n",
    "Daily closing Prices for Appl, "
   ]
  },
  {
   "cell_type": "code",
   "execution_count": 14,
   "id": "264462d5",
   "metadata": {},
   "outputs": [
    {
     "name": "stdout",
     "output_type": "stream",
     "text": [
      "[*********************100%%**********************]  4 of 4 completed\n"
     ]
    },
    {
     "data": {
      "text/html": [
       "<div>\n",
       "<style scoped>\n",
       "    .dataframe tbody tr th:only-of-type {\n",
       "        vertical-align: middle;\n",
       "    }\n",
       "\n",
       "    .dataframe tbody tr th {\n",
       "        vertical-align: top;\n",
       "    }\n",
       "\n",
       "    .dataframe thead th {\n",
       "        text-align: right;\n",
       "    }\n",
       "</style>\n",
       "<table border=\"1\" class=\"dataframe\">\n",
       "  <thead>\n",
       "    <tr style=\"text-align: right;\">\n",
       "      <th></th>\n",
       "      <th>AAPL</th>\n",
       "      <th>AMZN</th>\n",
       "      <th>GOOG</th>\n",
       "      <th>META</th>\n",
       "    </tr>\n",
       "    <tr>\n",
       "      <th>Date</th>\n",
       "      <th></th>\n",
       "      <th></th>\n",
       "      <th></th>\n",
       "      <th></th>\n",
       "    </tr>\n",
       "  </thead>\n",
       "  <tbody>\n",
       "    <tr>\n",
       "      <th>2022-10-03</th>\n",
       "      <td>141.609909</td>\n",
       "      <td>115.879997</td>\n",
       "      <td>99.300003</td>\n",
       "      <td>138.610001</td>\n",
       "    </tr>\n",
       "    <tr>\n",
       "      <th>2022-10-04</th>\n",
       "      <td>145.238388</td>\n",
       "      <td>121.089996</td>\n",
       "      <td>102.410004</td>\n",
       "      <td>140.279999</td>\n",
       "    </tr>\n",
       "    <tr>\n",
       "      <th>2022-10-05</th>\n",
       "      <td>145.536606</td>\n",
       "      <td>120.949997</td>\n",
       "      <td>102.220001</td>\n",
       "      <td>138.979996</td>\n",
       "    </tr>\n",
       "    <tr>\n",
       "      <th>2022-10-06</th>\n",
       "      <td>144.572342</td>\n",
       "      <td>120.300003</td>\n",
       "      <td>102.239998</td>\n",
       "      <td>139.070007</td>\n",
       "    </tr>\n",
       "    <tr>\n",
       "      <th>2022-10-07</th>\n",
       "      <td>139.263824</td>\n",
       "      <td>114.559998</td>\n",
       "      <td>99.570000</td>\n",
       "      <td>133.449997</td>\n",
       "    </tr>\n",
       "  </tbody>\n",
       "</table>\n",
       "</div>"
      ],
      "text/plain": [
       "                  AAPL        AMZN        GOOG        META\n",
       "Date                                                      \n",
       "2022-10-03  141.609909  115.879997   99.300003  138.610001\n",
       "2022-10-04  145.238388  121.089996  102.410004  140.279999\n",
       "2022-10-05  145.536606  120.949997  102.220001  138.979996\n",
       "2022-10-06  144.572342  120.300003  102.239998  139.070007\n",
       "2022-10-07  139.263824  114.559998   99.570000  133.449997"
      ]
     },
     "execution_count": 14,
     "metadata": {},
     "output_type": "execute_result"
    }
   ],
   "source": [
    "tickers = ['AAPL', 'GOOG', 'META', 'AMZN']\n",
    "tickers = sorted(tickers)\n",
    "data = yf.download(tickers,'2022-10-01','2023-09-30')['Adj Close']\n",
    "data.head()"
   ]
  },
  {
   "cell_type": "code",
   "execution_count": 15,
   "id": "dad164ce",
   "metadata": {},
   "outputs": [],
   "source": [
    "daily_returns = data.pct_change()\n",
    "daily_returns = daily_returns[1:]"
   ]
  },
  {
   "cell_type": "code",
   "execution_count": 16,
   "id": "bdecda2a",
   "metadata": {},
   "outputs": [],
   "source": [
    "daily_return_vec = []\n",
    "annual_return_vec = []\n",
    "for i in tickers:\n",
    "    return_data = daily_returns[i].mean()\n",
    "    annual = (return_data+1)**250-1\n",
    "    daily_return_vec.append(return_data)\n",
    "    annual_return_vec.append(annual)"
   ]
  },
  {
   "cell_type": "code",
   "execution_count": 17,
   "id": "61c85ea6",
   "metadata": {},
   "outputs": [
    {
     "data": {
      "text/plain": [
       "[0.0009106081506869729,\n",
       " 0.0006673536243463465,\n",
       " 0.001370784636172238,\n",
       " 0.0036504684494353262]"
      ]
     },
     "execution_count": 17,
     "metadata": {},
     "output_type": "execute_result"
    }
   ],
   "source": [
    "daily_return_vec"
   ]
  },
  {
   "cell_type": "code",
   "execution_count": 18,
   "id": "91618e56",
   "metadata": {},
   "outputs": [],
   "source": [
    "rho = annual_return_vec"
   ]
  },
  {
   "cell_type": "code",
   "execution_count": 19,
   "id": "b80b743e",
   "metadata": {},
   "outputs": [],
   "source": [
    "rho = annual_return_vec\n",
    "cov_matrix = daily_returns.cov()*252"
   ]
  },
  {
   "cell_type": "code",
   "execution_count": 20,
   "id": "fb375b91",
   "metadata": {},
   "outputs": [],
   "source": [
    "cov_matrix = matrix(np.asmatrix(cov_matrix))\n",
    "rho = matrix(np.asmatrix(rho)).T\n",
    "n = len(rho)\n",
    "A = matrix(1.0,(1,n))\n",
    "b = matrix(1.0,(1,1)).T\n",
    "#G = matrix(0.0,(n,n))\n",
    "#h = matrix(0.0, (n,1))"
   ]
  },
  {
   "cell_type": "code",
   "execution_count": 21,
   "id": "dd756926",
   "metadata": {},
   "outputs": [
    {
     "name": "stdout",
     "output_type": "stream",
     "text": [
      "[ 7.55e-02  5.45e-02  6.11e-02  7.57e-02]\n",
      "[ 5.45e-02  1.51e-01  8.71e-02  1.10e-01]\n",
      "[ 6.11e-02  8.71e-02  1.17e-01  1.06e-01]\n",
      "[ 7.57e-02  1.10e-01  1.06e-01  2.71e-01]\n",
      "\n",
      "[ 1.00e+00  1.00e+00  1.00e+00  1.00e+00]\n",
      "\n",
      "[ 1.00e+00]\n",
      "\n"
     ]
    }
   ],
   "source": [
    "print(cov_matrix)\n",
    "print(A)\n",
    "print(b)"
   ]
  },
  {
   "cell_type": "code",
   "execution_count": 63,
   "id": "990db8a4",
   "metadata": {},
   "outputs": [
    {
     "data": {
      "text/html": [
       "<div>\n",
       "<style scoped>\n",
       "    .dataframe tbody tr th:only-of-type {\n",
       "        vertical-align: middle;\n",
       "    }\n",
       "\n",
       "    .dataframe tbody tr th {\n",
       "        vertical-align: top;\n",
       "    }\n",
       "\n",
       "    .dataframe thead th {\n",
       "        text-align: right;\n",
       "    }\n",
       "</style>\n",
       "<table border=\"1\" class=\"dataframe\">\n",
       "  <thead>\n",
       "    <tr style=\"text-align: right;\">\n",
       "      <th></th>\n",
       "      <th>Lambda</th>\n",
       "      <th>Apple</th>\n",
       "      <th>Amazon</th>\n",
       "      <th>Google</th>\n",
       "      <th>Meta</th>\n",
       "      <th>Return</th>\n",
       "      <th>Std Deviation</th>\n",
       "    </tr>\n",
       "  </thead>\n",
       "  <tbody>\n",
       "    <tr>\n",
       "      <th>0</th>\n",
       "      <td>1.00</td>\n",
       "      <td>-6.149</td>\n",
       "      <td>-8.264</td>\n",
       "      <td>0.651</td>\n",
       "      <td>14.763</td>\n",
       "      <td>19.14</td>\n",
       "      <td>6.17</td>\n",
       "    </tr>\n",
       "    <tr>\n",
       "      <th>1</th>\n",
       "      <td>1.25</td>\n",
       "      <td>-4.764</td>\n",
       "      <td>-6.580</td>\n",
       "      <td>0.551</td>\n",
       "      <td>11.794</td>\n",
       "      <td>15.35</td>\n",
       "      <td>4.94</td>\n",
       "    </tr>\n",
       "    <tr>\n",
       "      <th>2</th>\n",
       "      <td>1.50</td>\n",
       "      <td>-3.841</td>\n",
       "      <td>-5.458</td>\n",
       "      <td>0.484</td>\n",
       "      <td>9.815</td>\n",
       "      <td>12.82</td>\n",
       "      <td>4.12</td>\n",
       "    </tr>\n",
       "    <tr>\n",
       "      <th>3</th>\n",
       "      <td>1.75</td>\n",
       "      <td>-3.182</td>\n",
       "      <td>-4.656</td>\n",
       "      <td>0.436</td>\n",
       "      <td>8.402</td>\n",
       "      <td>11.01</td>\n",
       "      <td>3.53</td>\n",
       "    </tr>\n",
       "    <tr>\n",
       "      <th>4</th>\n",
       "      <td>2.00</td>\n",
       "      <td>-2.688</td>\n",
       "      <td>-4.054</td>\n",
       "      <td>0.400</td>\n",
       "      <td>7.342</td>\n",
       "      <td>9.66</td>\n",
       "      <td>3.09</td>\n",
       "    </tr>\n",
       "    <tr>\n",
       "      <th>...</th>\n",
       "      <td>...</td>\n",
       "      <td>...</td>\n",
       "      <td>...</td>\n",
       "      <td>...</td>\n",
       "      <td>...</td>\n",
       "      <td>...</td>\n",
       "      <td>...</td>\n",
       "    </tr>\n",
       "    <tr>\n",
       "      <th>1991</th>\n",
       "      <td>498.75</td>\n",
       "      <td>0.759</td>\n",
       "      <td>0.139</td>\n",
       "      <td>0.151</td>\n",
       "      <td>-0.050</td>\n",
       "      <td>0.21</td>\n",
       "      <td>0.26</td>\n",
       "    </tr>\n",
       "    <tr>\n",
       "      <th>1992</th>\n",
       "      <td>499.00</td>\n",
       "      <td>0.759</td>\n",
       "      <td>0.139</td>\n",
       "      <td>0.151</td>\n",
       "      <td>-0.050</td>\n",
       "      <td>0.21</td>\n",
       "      <td>0.26</td>\n",
       "    </tr>\n",
       "    <tr>\n",
       "      <th>1993</th>\n",
       "      <td>499.25</td>\n",
       "      <td>0.759</td>\n",
       "      <td>0.139</td>\n",
       "      <td>0.151</td>\n",
       "      <td>-0.050</td>\n",
       "      <td>0.21</td>\n",
       "      <td>0.26</td>\n",
       "    </tr>\n",
       "    <tr>\n",
       "      <th>1994</th>\n",
       "      <td>499.50</td>\n",
       "      <td>0.759</td>\n",
       "      <td>0.139</td>\n",
       "      <td>0.151</td>\n",
       "      <td>-0.050</td>\n",
       "      <td>0.21</td>\n",
       "      <td>0.26</td>\n",
       "    </tr>\n",
       "    <tr>\n",
       "      <th>1995</th>\n",
       "      <td>499.75</td>\n",
       "      <td>0.759</td>\n",
       "      <td>0.139</td>\n",
       "      <td>0.151</td>\n",
       "      <td>-0.050</td>\n",
       "      <td>0.21</td>\n",
       "      <td>0.26</td>\n",
       "    </tr>\n",
       "  </tbody>\n",
       "</table>\n",
       "<p>1996 rows × 7 columns</p>\n",
       "</div>"
      ],
      "text/plain": [
       "      Lambda  Apple  Amazon  Google    Meta  Return  Std Deviation\n",
       "0       1.00 -6.149  -8.264   0.651  14.763   19.14           6.17\n",
       "1       1.25 -4.764  -6.580   0.551  11.794   15.35           4.94\n",
       "2       1.50 -3.841  -5.458   0.484   9.815   12.82           4.12\n",
       "3       1.75 -3.182  -4.656   0.436   8.402   11.01           3.53\n",
       "4       2.00 -2.688  -4.054   0.400   7.342    9.66           3.09\n",
       "...      ...    ...     ...     ...     ...     ...            ...\n",
       "1991  498.75  0.759   0.139   0.151  -0.050    0.21           0.26\n",
       "1992  499.00  0.759   0.139   0.151  -0.050    0.21           0.26\n",
       "1993  499.25  0.759   0.139   0.151  -0.050    0.21           0.26\n",
       "1994  499.50  0.759   0.139   0.151  -0.050    0.21           0.26\n",
       "1995  499.75  0.759   0.139   0.151  -0.050    0.21           0.26\n",
       "\n",
       "[1996 rows x 7 columns]"
      ]
     },
     "execution_count": 63,
     "metadata": {},
     "output_type": "execute_result"
    }
   ],
   "source": [
    "dict = {'Lambda':[],\n",
    "        'Apple':[],\n",
    "        'Amazon':[],\n",
    "        'Google' :[],\n",
    "        'Meta' :[],\n",
    "        'Return' :[],\n",
    "        'Std Deviation':[]\n",
    "       }\n",
    "sols = pd.DataFrame(dict)\n",
    "sols = sols.iloc[0:0]\n",
    "lambdas = np.arange(1,500,.25)\n",
    "for i in range(len(lambdas)):\n",
    "    scalar = float(lambdas[i]*.5)\n",
    "    sol = solvers.qp(cov_matrix*scalar,-rho, A=A, b=b)\n",
    "    ret = round((np.matmul(sol['x'].T,rho))[0][0],2)\n",
    "    risk = round(np.sqrt((sol['x'].T)*cov_matrix*sol['x'])[0][0],2)\n",
    "    sols.loc[len(sols.index)] = [lambdas[i], round(sol['x'][0],3),\n",
    "                                 round(sol['x'][1],3), \n",
    "                                 round(sol['x'][2],3),\n",
    "                                 round(sol['x'][3],3), ret, risk]\n",
    "sols   "
   ]
  },
  {
   "cell_type": "code",
   "execution_count": 64,
   "id": "e35689b0",
   "metadata": {},
   "outputs": [
    {
     "data": {
      "image/png": "[encoded data removed]",
      "text/plain": [
       "<Figure size 640x480 with 1 Axes>"
      ]
     },
     "metadata": {},
     "output_type": "display_data"
    }
   ],
   "source": [
    "sols = sols[[\"Return\", \"Std Deviation\"]]\n",
    "plt.plot(sols[\"Std Deviation\"],sols[\"Return\"], color ='red', label = \"EFF Frontier\")\n",
    "plt.show()"
   ]
  },
  {
   "cell_type": "markdown",
   "id": "cb022acb",
   "metadata": {},
   "source": [
    "### Question 5(3-1) Diversification\n",
    "\n",
    "b. $\\sigma^{2}_{p}$(n) = $\\Sigma^{n}_{i=1}$$(1/n)^{2}$*$\\Sigma_{ii}$ + $\\Sigma^{n}_{i=1}\\Sigma^{n}_{j=1}$$(1/n)^{2}$$\\Sigma_{ij}$ (for i not equal to j). This becomes <br>(1/n)*(1/n$\\Sigma^{n}_{i=1}$) + (n-1)/$n^{2}$ $\\Sigma^{n}_{i=1}$(1/(n-1))$\\Sigma^{n}_{j=1}$$\\Sigma_{ij}$ which becomes 1/n* avg variance + average covariance or \n",
    "1/n* $\\overline{\\sigma}^{2}_{i}$ +$\\overline{\\sigma}_{ij}$. As n goes to infinity, $\\sigma^{2}_{p}$(n) = 0 + $\\overline{\\sigma}_{ij}$ = "
   ]
  },
  {
   "cell_type": "markdown",
   "id": "3aca086f",
   "metadata": {},
   "source": [
    "c. perfect anti-correlation has the highest risk at the return while the perfect correlation has the lowest risk at the return and no correlation lies in the middle."
   ]
  },
  {
   "cell_type": "code",
   "execution_count": 59,
   "id": "af3c488b",
   "metadata": {},
   "outputs": [],
   "source": [
    "mu_1 = .05\n",
    "mu_2 = .1\n",
    "vol_1 = .05\n",
    "vol_2 = .15\n",
    "corr = 1\n",
    "anti_corr = -1\n",
    "no_corr = 0 \n",
    "rho = matrix([[mu_1,mu_2]])\n",
    "cov = corr*vol_1*vol_2\n",
    "anti_cov = anti_corr*vol_1*vol_2\n",
    "no_cov = no_corr*vol_1*vol_2\n",
    "n= len(rho)\n",
    "target = rho[0]\n",
    "cov_matrix = matrix([[vol_1**2,cov],[cov,vol_2**2]])\n",
    "anti_cov_matrix = matrix([[vol_1**2,anti_cov],[anti_cov,vol_2**2]])\n",
    "no_cov_matrix = matrix([[vol_1**2,no_cov],[no_cov,vol_2**2]])"
   ]
  },
  {
   "cell_type": "code",
   "execution_count": 62,
   "id": "7e7be81c",
   "metadata": {},
   "outputs": [],
   "source": [
    "A = matrix(1.0,(1,n))\n",
    "b = matrix(1.0,(1,1)).T\n",
    "q = matrix(np.zeros((n, 1)))\n",
    "sol = solvers.qp(cov_matrix*.5,-rho, A=A, b=b)\n",
    "sol_anti = solvers.qp(anti_cov_matrix*.5,-rho, A=A, b=b)\n",
    "sol_no = solvers.qp(no_cov_matrix*.5,-rho, A=A, b=b)\n"
   ]
  },
  {
   "cell_type": "code",
   "execution_count": 63,
   "id": "f11e4866",
   "metadata": {},
   "outputs": [
    {
     "name": "stdout",
     "output_type": "stream",
     "text": [
      "[-9.39e+00]\n",
      "[ 9.80e+00]\n",
      "\n",
      "[ 9.60e+00]\n",
      "[ 6.53e+00]\n",
      "\n",
      "[-3.10e+00]\n",
      "[ 4.10e+00]\n",
      "\n"
     ]
    }
   ],
   "source": [
    "print(sol['x'])\n",
    "print(sol_anti['x'])\n",
    "print(sol_no['x'])"
   ]
  },
  {
   "cell_type": "code",
   "execution_count": 77,
   "id": "a338cde5",
   "metadata": {
    "scrolled": true
   },
   "outputs": [
    {
     "data": {
      "image/png": "[encoded data removed]",
      "text/plain": [
       "<Figure size 640x480 with 1 Axes>"
      ]
     },
     "metadata": {},
     "output_type": "display_data"
    }
   ],
   "source": [
    "A = matrix(np.c_[np.ones(n), rho]).T\n",
    "eff_front_rets = np.linspace(0.001,2,200)\n",
    "eff_front_risk = np.linspace(0.001,0.001,200)\n",
    "for i in range(0,200):\n",
    "    target_l = eff_front_rets[i]\n",
    "    b = matrix(np.c_[np.ones(1),target_l]).T\n",
    "    sol1 = solvers.qp(cov_matrix,q, A=A, b=b) \n",
    "    eff_front_risk[i] = np.sqrt((sol1['x'].T)*cov_matrix*sol1['x'])\n",
    "\n",
    "plt.plot(eff_front_risk,eff_front_rets, color='red',label=\"Eff Frontier\")\n",
    "plt.show()"
   ]
  },
  {
   "cell_type": "code",
   "execution_count": 78,
   "id": "5ea696b7",
   "metadata": {},
   "outputs": [
    {
     "data": {
      "image/png": "[encoded data removed]",
      "text/plain": [
       "<Figure size 640x480 with 1 Axes>"
      ]
     },
     "metadata": {},
     "output_type": "display_data"
    }
   ],
   "source": [
    "A = matrix(np.c_[np.ones(n), rho]).T\n",
    "eff_front_rets = np.linspace(0.001,2,200)\n",
    "eff_front_risk = np.linspace(0.001,0.001,200)\n",
    "for i in range(0,200):\n",
    "    target_l = eff_front_rets[i]\n",
    "    b = matrix(np.c_[np.ones(1),target_l]).T\n",
    "    sol1 = solvers.qp(anti_cov_matrix,q, A=A, b=b) \n",
    "    eff_front_risk[i] = np.sqrt((sol1['x'].T)*anti_cov_matrix*sol1['x'])\n",
    "\n",
    "plt.plot(eff_front_risk,eff_front_rets, color='red',label=\"Eff Frontier\")\n",
    "plt.show()"
   ]
  },
  {
   "cell_type": "code",
   "execution_count": 79,
   "id": "232c1615",
   "metadata": {},
   "outputs": [
    {
     "data": {
      "image/png": "[encoded data removed]",
      "text/plain": [
       "<Figure size 640x480 with 1 Axes>"
      ]
     },
     "metadata": {},
     "output_type": "display_data"
    }
   ],
   "source": [
    "A = matrix(np.c_[np.ones(n), rho]).T\n",
    "eff_front_rets = np.linspace(0.001,2,200)\n",
    "eff_front_risk = np.linspace(0.001,0.001,200)\n",
    "for i in range(0,200):\n",
    "    target_l = eff_front_rets[i]\n",
    "    b = matrix(np.c_[np.ones(1),target_l]).T\n",
    "    sol1 = solvers.qp(no_cov_matrix,q, A=A, b=b) \n",
    "    eff_front_risk[i] = np.sqrt((sol1['x'].T)*no_cov_matrix*sol1['x'])\n",
    "\n",
    "plt.plot(eff_front_risk,eff_front_rets, color='red',label=\"Eff Frontier\")\n",
    "plt.show()"
   ]
  },
  {
   "cell_type": "code",
   "execution_count": null,
   "id": "e70c314f",
   "metadata": {},
   "outputs": [],
   "source": []
  }
 ],
 "metadata": {
  "kernelspec": {
   "display_name": "Python 3 (ipykernel)",
   "language": "python",
   "name": "python3"
  },
  "language_info": {
   "codemirror_mode": {
    "name": "ipython",
    "version": 3
   },
   "file_extension": ".py",
   "mimetype": "text/x-python",
   "name": "python",
   "nbconvert_exporter": "python",
   "pygments_lexer": "ipython3",
   "version": "3.11.9"
  }
 },
 "nbformat": 4,
 "nbformat_minor": 5
}

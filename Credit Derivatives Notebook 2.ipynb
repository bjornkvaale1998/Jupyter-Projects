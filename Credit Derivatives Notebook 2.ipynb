{
 "cells": [
  {
   "cell_type": "markdown",
   "id": "4fd2b6e5",
   "metadata": {},
   "source": [
    "\n",
    "# Fixed Income Derivatives: Problem Solutions\n",
    "This notebook contains detailed solutions to a series of problems in fixed income derivatives. Each problem is presented with a clear statement, relevant formulas, step-by-step calculations, and final answers. Where applicable, supporting calculations and results are illustrated with images from Excel sheets. The problems cover topics such as European swap options, collars, timing adjustments, and convexity adjustments.\n",
    "\n",
    "Use this notebook as a reference for understanding the methodologies and approaches used to solve each problem."
   ]
  },
  {
   "cell_type": "markdown",
   "id": "25ae9824",
   "metadata": {},
   "source": [
    "## Problem 1\n",
    "In this problem we were tasked with finding the value of a European Swap Option.\n",
    "<br>\n",
    "We used the formula\n",
    "\\begin{equation}\n",
    "LA(S_{0}N(d_{1})-S_{k}N(d_{2}))\n",
    "\\end{equation}\n",
    "where m is compounding frequency\n",
    "\\begin{equation}\n",
    "A = \\frac{1}{m}\\Sigma^{8}_{i=3} \\frac{1}{(1+S_{0})^{i}}\n",
    "\\end{equation}\n",
    "\n",
    "We get 147,641.22 dollars as our value of the Swap Option\n"
   ]
  },
  {
   "cell_type": "markdown",
   "id": "f0dbf12e",
   "metadata": {},
   "source": [
    "<img src=\"FE 680 HW 2 Prob 1.png\" alt ='See Excel Sheet'/>"
   ]
  },
  {
   "cell_type": "markdown",
   "id": "b83df1b9",
   "metadata": {},
   "source": [
    "## Problem 2\n",
    "For a collar we calculate a cap and floor with values 3.9, 3.2 respectively. We go long a cap and short a floor \n",
    "<br>\n",
    "A caplet is \n",
    "\\begin{equation}\n",
    "L\\delta_{k}P(0,t_{k+1})*(F_{k}N(d_{1})-R_{k,cap}N(d_{2}))\n",
    "\\end{equation}\n",
    "A floorlet is \n",
    "\\begin{equation}\n",
    "L\\delta_{k}P(0,t_{k+1})*(R_{k,floor}N(-d_{2})-F_{k}N(-d_{1}))\n",
    "\\end{equation}\n",
    "\n",
    "We do this for all times from 0-5 and we get a final value of 59359.65 dollars when we sum the caplets and sum the floorlets and find the difference. "
   ]
  },
  {
   "cell_type": "markdown",
   "id": "bbf7f2a9",
   "metadata": {},
   "source": [
    "<img src=\"FE 680 HW 2 Prob 2.png\" alt ='See Excel Sheet'/>"
   ]
  },
  {
   "cell_type": "markdown",
   "id": "7e18150a",
   "metadata": {},
   "source": []
  },
  {
   "cell_type": "markdown",
   "id": "b32f4801",
   "metadata": {},
   "source": [
    "## Problem 3\n",
    "This problem is a timing adjustment problem. \n",
    "<br>\n",
    "We use the formula\n",
    "\\begin{equation}\n",
    "exp(-\\frac{\\rho_{vr}\\sigma_{v}\\sigma_{r}R_{0}(T^{*}-T)T}{1+\\frac{R_{0}}{m}})\n",
    "\\end{equation}\n",
    "since it is only interest rates we have both volatilities equal to .12 and with perfect correlation we get and with annual compounding\n",
    "\\begin{equation}\n",
    "exp(-\\frac{\\sigma^{2}R_{0}(T^{*}-T)T}{1+R_{0}})\n",
    "\\end{equation}\n",
    "this gives us a discount factor, and we find the average interest rate by multiplying each times discount factor by the risk free rate 0.035. The average is found to be .034864. We then multiply this by the principal 5,500,000 and discount it back 7 years by dividing by 1.035^7. We get a value of 150,715.27 dollars"
   ]
  },
  {
   "cell_type": "markdown",
   "id": "720b4112",
   "metadata": {},
   "source": [
    "<img src=\"FE 680 HW 2 Prob 3.png\" alt ='See Excel Sheet'/>"
   ]
  },
  {
   "cell_type": "markdown",
   "id": "ba20a103",
   "metadata": {},
   "source": [
    "## Problem 4\n",
    "\n",
    "This problem is a convexity adjustment problem.\n",
    "<br> \n",
    "\n",
    "We use the formula\n",
    "\\begin{equation}\n",
    "E(y_{t}) = y_{0} -\\frac{y_{0}^{2}\\sigma^{2}_{y}Tg''(y_{t})}{2g'(y_{t})}\n",
    "\\end{equation}\n",
    "\n",
    "This gives us \n",
    "\\begin{equation}\n",
    "E(y_{t}) = y_{0} -\\frac{y_{0}^{2}\\sigma^{2}_{y}TT^{*}}{2}\n",
    "\\end{equation}\n",
    "\n",
    "With the convexity adjustment, the 6 year rate is .035331 and the 2 year is .03511 and this difference is .00022\n",
    "\\begin{equation}\n",
    ".00022*5,500,000*e^{-.035*4}\n",
    "\\end{equation}\n",
    "We discount this back and multiply by the principal to get 1054.31 dollars"
   ]
  },
  {
   "cell_type": "markdown",
   "id": "ff7f0e5e",
   "metadata": {},
   "source": [
    "<img src=\"FE 680 HW 2 Prob 4.png\" alt ='See Excel Sheet'/>"
   ]
  }
 ],
 "metadata": {
  "kernelspec": {
   "display_name": "Python 3 (ipykernel)",
   "language": "python",
   "name": "python3"
  },
  "language_info": {
   "codemirror_mode": {
    "name": "ipython",
    "version": 3
   },
   "file_extension": ".py",
   "mimetype": "text/x-python",
   "name": "python",
   "nbconvert_exporter": "python",
   "pygments_lexer": "ipython3",
   "version": "3.11.4"
  }
 },
 "nbformat": 4,
 "nbformat_minor": 5
}
